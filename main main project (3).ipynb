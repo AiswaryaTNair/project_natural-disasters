{
 "cells": [
  {
   "cell_type": "code",
   "execution_count": 185,
   "id": "3ab923c5",
   "metadata": {},
   "outputs": [],
   "source": [
    "import numpy as np\n",
    "import pandas as pd\n",
    "import matplotlib.pyplot as plt\n",
    "import seaborn as sns\n",
    "import warnings \n",
    "warnings.filterwarnings(\"ignore\")\n",
    "from pandas import Series, DataFrame\n",
    "from sklearn.preprocessing import LabelEncoder\n",
    "from sklearn.preprocessing import StandardScaler\n",
    "from sklearn.model_selection import train_test_split\n"
   ]
  },
  {
   "cell_type": "code",
   "execution_count": 186,
   "id": "4d93a7d0",
   "metadata": {},
   "outputs": [],
   "source": [
    "# Reading the data and understanding the data"
   ]
  },
  {
   "cell_type": "code",
   "execution_count": 187,
   "id": "f8edfa87",
   "metadata": {},
   "outputs": [],
   "source": [
    "df=pd.read_csv(r'C:\\\\Users\\\\We care\\\\rainfall in india 1901-2015 (1).csv')"
   ]
  },
  {
   "cell_type": "code",
   "execution_count": 188,
   "id": "0a1fb276",
   "metadata": {},
   "outputs": [
    {
     "data": {
      "text/html": [
       "<div>\n",
       "<style scoped>\n",
       "    .dataframe tbody tr th:only-of-type {\n",
       "        vertical-align: middle;\n",
       "    }\n",
       "\n",
       "    .dataframe tbody tr th {\n",
       "        vertical-align: top;\n",
       "    }\n",
       "\n",
       "    .dataframe thead th {\n",
       "        text-align: right;\n",
       "    }\n",
       "</style>\n",
       "<table border=\"1\" class=\"dataframe\">\n",
       "  <thead>\n",
       "    <tr style=\"text-align: right;\">\n",
       "      <th></th>\n",
       "      <th>SUBDIVISION</th>\n",
       "      <th>YEAR</th>\n",
       "      <th>JAN</th>\n",
       "      <th>FEB</th>\n",
       "      <th>MAR</th>\n",
       "      <th>APR</th>\n",
       "      <th>MAY</th>\n",
       "      <th>JUN</th>\n",
       "      <th>JUL</th>\n",
       "      <th>AUG</th>\n",
       "      <th>SEP</th>\n",
       "      <th>OCT</th>\n",
       "      <th>NOV</th>\n",
       "      <th>DEC</th>\n",
       "      <th>ANNUAL</th>\n",
       "      <th>Jan-Feb</th>\n",
       "      <th>Mar-May</th>\n",
       "      <th>Jun-Sep</th>\n",
       "      <th>Oct-Dec</th>\n",
       "    </tr>\n",
       "  </thead>\n",
       "  <tbody>\n",
       "    <tr>\n",
       "      <th>0</th>\n",
       "      <td>ANDAMAN &amp; NICOBAR ISLANDS</td>\n",
       "      <td>1901</td>\n",
       "      <td>49.2</td>\n",
       "      <td>87.1</td>\n",
       "      <td>29.2</td>\n",
       "      <td>2.3</td>\n",
       "      <td>528.8</td>\n",
       "      <td>517.5</td>\n",
       "      <td>365.1</td>\n",
       "      <td>481.1</td>\n",
       "      <td>332.6</td>\n",
       "      <td>388.5</td>\n",
       "      <td>558.2</td>\n",
       "      <td>33.6</td>\n",
       "      <td>3373.2</td>\n",
       "      <td>136.3</td>\n",
       "      <td>560.3</td>\n",
       "      <td>1696.3</td>\n",
       "      <td>980.3</td>\n",
       "    </tr>\n",
       "    <tr>\n",
       "      <th>1</th>\n",
       "      <td>ANDAMAN &amp; NICOBAR ISLANDS</td>\n",
       "      <td>1902</td>\n",
       "      <td>0.0</td>\n",
       "      <td>159.8</td>\n",
       "      <td>12.2</td>\n",
       "      <td>0.0</td>\n",
       "      <td>446.1</td>\n",
       "      <td>537.1</td>\n",
       "      <td>228.9</td>\n",
       "      <td>753.7</td>\n",
       "      <td>666.2</td>\n",
       "      <td>197.2</td>\n",
       "      <td>359.0</td>\n",
       "      <td>160.5</td>\n",
       "      <td>3520.7</td>\n",
       "      <td>159.8</td>\n",
       "      <td>458.3</td>\n",
       "      <td>2185.9</td>\n",
       "      <td>716.7</td>\n",
       "    </tr>\n",
       "    <tr>\n",
       "      <th>2</th>\n",
       "      <td>ANDAMAN &amp; NICOBAR ISLANDS</td>\n",
       "      <td>1903</td>\n",
       "      <td>12.7</td>\n",
       "      <td>144.0</td>\n",
       "      <td>0.0</td>\n",
       "      <td>1.0</td>\n",
       "      <td>235.1</td>\n",
       "      <td>479.9</td>\n",
       "      <td>728.4</td>\n",
       "      <td>326.7</td>\n",
       "      <td>339.0</td>\n",
       "      <td>181.2</td>\n",
       "      <td>284.4</td>\n",
       "      <td>225.0</td>\n",
       "      <td>2957.4</td>\n",
       "      <td>156.7</td>\n",
       "      <td>236.1</td>\n",
       "      <td>1874.0</td>\n",
       "      <td>690.6</td>\n",
       "    </tr>\n",
       "    <tr>\n",
       "      <th>3</th>\n",
       "      <td>ANDAMAN &amp; NICOBAR ISLANDS</td>\n",
       "      <td>1904</td>\n",
       "      <td>9.4</td>\n",
       "      <td>14.7</td>\n",
       "      <td>0.0</td>\n",
       "      <td>202.4</td>\n",
       "      <td>304.5</td>\n",
       "      <td>495.1</td>\n",
       "      <td>502.0</td>\n",
       "      <td>160.1</td>\n",
       "      <td>820.4</td>\n",
       "      <td>222.2</td>\n",
       "      <td>308.7</td>\n",
       "      <td>40.1</td>\n",
       "      <td>3079.6</td>\n",
       "      <td>24.1</td>\n",
       "      <td>506.9</td>\n",
       "      <td>1977.6</td>\n",
       "      <td>571.0</td>\n",
       "    </tr>\n",
       "    <tr>\n",
       "      <th>4</th>\n",
       "      <td>ANDAMAN &amp; NICOBAR ISLANDS</td>\n",
       "      <td>1905</td>\n",
       "      <td>1.3</td>\n",
       "      <td>0.0</td>\n",
       "      <td>3.3</td>\n",
       "      <td>26.9</td>\n",
       "      <td>279.5</td>\n",
       "      <td>628.7</td>\n",
       "      <td>368.7</td>\n",
       "      <td>330.5</td>\n",
       "      <td>297.0</td>\n",
       "      <td>260.7</td>\n",
       "      <td>25.4</td>\n",
       "      <td>344.7</td>\n",
       "      <td>2566.7</td>\n",
       "      <td>1.3</td>\n",
       "      <td>309.7</td>\n",
       "      <td>1624.9</td>\n",
       "      <td>630.8</td>\n",
       "    </tr>\n",
       "    <tr>\n",
       "      <th>...</th>\n",
       "      <td>...</td>\n",
       "      <td>...</td>\n",
       "      <td>...</td>\n",
       "      <td>...</td>\n",
       "      <td>...</td>\n",
       "      <td>...</td>\n",
       "      <td>...</td>\n",
       "      <td>...</td>\n",
       "      <td>...</td>\n",
       "      <td>...</td>\n",
       "      <td>...</td>\n",
       "      <td>...</td>\n",
       "      <td>...</td>\n",
       "      <td>...</td>\n",
       "      <td>...</td>\n",
       "      <td>...</td>\n",
       "      <td>...</td>\n",
       "      <td>...</td>\n",
       "      <td>...</td>\n",
       "    </tr>\n",
       "    <tr>\n",
       "      <th>4111</th>\n",
       "      <td>LAKSHADWEEP</td>\n",
       "      <td>2011</td>\n",
       "      <td>5.1</td>\n",
       "      <td>2.8</td>\n",
       "      <td>3.1</td>\n",
       "      <td>85.9</td>\n",
       "      <td>107.2</td>\n",
       "      <td>153.6</td>\n",
       "      <td>350.2</td>\n",
       "      <td>254.0</td>\n",
       "      <td>255.2</td>\n",
       "      <td>117.4</td>\n",
       "      <td>184.3</td>\n",
       "      <td>14.9</td>\n",
       "      <td>1533.7</td>\n",
       "      <td>7.9</td>\n",
       "      <td>196.2</td>\n",
       "      <td>1013.0</td>\n",
       "      <td>316.6</td>\n",
       "    </tr>\n",
       "    <tr>\n",
       "      <th>4112</th>\n",
       "      <td>LAKSHADWEEP</td>\n",
       "      <td>2012</td>\n",
       "      <td>19.2</td>\n",
       "      <td>0.1</td>\n",
       "      <td>1.6</td>\n",
       "      <td>76.8</td>\n",
       "      <td>21.2</td>\n",
       "      <td>327.0</td>\n",
       "      <td>231.5</td>\n",
       "      <td>381.2</td>\n",
       "      <td>179.8</td>\n",
       "      <td>145.9</td>\n",
       "      <td>12.4</td>\n",
       "      <td>8.8</td>\n",
       "      <td>1405.5</td>\n",
       "      <td>19.3</td>\n",
       "      <td>99.6</td>\n",
       "      <td>1119.5</td>\n",
       "      <td>167.1</td>\n",
       "    </tr>\n",
       "    <tr>\n",
       "      <th>4113</th>\n",
       "      <td>LAKSHADWEEP</td>\n",
       "      <td>2013</td>\n",
       "      <td>26.2</td>\n",
       "      <td>34.4</td>\n",
       "      <td>37.5</td>\n",
       "      <td>5.3</td>\n",
       "      <td>88.3</td>\n",
       "      <td>426.2</td>\n",
       "      <td>296.4</td>\n",
       "      <td>154.4</td>\n",
       "      <td>180.0</td>\n",
       "      <td>72.8</td>\n",
       "      <td>78.1</td>\n",
       "      <td>26.7</td>\n",
       "      <td>1426.3</td>\n",
       "      <td>60.6</td>\n",
       "      <td>131.1</td>\n",
       "      <td>1057.0</td>\n",
       "      <td>177.6</td>\n",
       "    </tr>\n",
       "    <tr>\n",
       "      <th>4114</th>\n",
       "      <td>LAKSHADWEEP</td>\n",
       "      <td>2014</td>\n",
       "      <td>53.2</td>\n",
       "      <td>16.1</td>\n",
       "      <td>4.4</td>\n",
       "      <td>14.9</td>\n",
       "      <td>57.4</td>\n",
       "      <td>244.1</td>\n",
       "      <td>116.1</td>\n",
       "      <td>466.1</td>\n",
       "      <td>132.2</td>\n",
       "      <td>169.2</td>\n",
       "      <td>59.0</td>\n",
       "      <td>62.3</td>\n",
       "      <td>1395.0</td>\n",
       "      <td>69.3</td>\n",
       "      <td>76.7</td>\n",
       "      <td>958.5</td>\n",
       "      <td>290.5</td>\n",
       "    </tr>\n",
       "    <tr>\n",
       "      <th>4115</th>\n",
       "      <td>LAKSHADWEEP</td>\n",
       "      <td>2015</td>\n",
       "      <td>2.2</td>\n",
       "      <td>0.5</td>\n",
       "      <td>3.7</td>\n",
       "      <td>87.1</td>\n",
       "      <td>133.1</td>\n",
       "      <td>296.6</td>\n",
       "      <td>257.5</td>\n",
       "      <td>146.4</td>\n",
       "      <td>160.4</td>\n",
       "      <td>165.4</td>\n",
       "      <td>231.0</td>\n",
       "      <td>159.0</td>\n",
       "      <td>1642.9</td>\n",
       "      <td>2.7</td>\n",
       "      <td>223.9</td>\n",
       "      <td>860.9</td>\n",
       "      <td>555.4</td>\n",
       "    </tr>\n",
       "  </tbody>\n",
       "</table>\n",
       "<p>4116 rows × 19 columns</p>\n",
       "</div>"
      ],
      "text/plain": [
       "                    SUBDIVISION  YEAR   JAN    FEB   MAR    APR    MAY    JUN  \\\n",
       "0     ANDAMAN & NICOBAR ISLANDS  1901  49.2   87.1  29.2    2.3  528.8  517.5   \n",
       "1     ANDAMAN & NICOBAR ISLANDS  1902   0.0  159.8  12.2    0.0  446.1  537.1   \n",
       "2     ANDAMAN & NICOBAR ISLANDS  1903  12.7  144.0   0.0    1.0  235.1  479.9   \n",
       "3     ANDAMAN & NICOBAR ISLANDS  1904   9.4   14.7   0.0  202.4  304.5  495.1   \n",
       "4     ANDAMAN & NICOBAR ISLANDS  1905   1.3    0.0   3.3   26.9  279.5  628.7   \n",
       "...                         ...   ...   ...    ...   ...    ...    ...    ...   \n",
       "4111                LAKSHADWEEP  2011   5.1    2.8   3.1   85.9  107.2  153.6   \n",
       "4112                LAKSHADWEEP  2012  19.2    0.1   1.6   76.8   21.2  327.0   \n",
       "4113                LAKSHADWEEP  2013  26.2   34.4  37.5    5.3   88.3  426.2   \n",
       "4114                LAKSHADWEEP  2014  53.2   16.1   4.4   14.9   57.4  244.1   \n",
       "4115                LAKSHADWEEP  2015   2.2    0.5   3.7   87.1  133.1  296.6   \n",
       "\n",
       "        JUL    AUG    SEP    OCT    NOV    DEC  ANNUAL  Jan-Feb  Mar-May  \\\n",
       "0     365.1  481.1  332.6  388.5  558.2   33.6  3373.2    136.3    560.3   \n",
       "1     228.9  753.7  666.2  197.2  359.0  160.5  3520.7    159.8    458.3   \n",
       "2     728.4  326.7  339.0  181.2  284.4  225.0  2957.4    156.7    236.1   \n",
       "3     502.0  160.1  820.4  222.2  308.7   40.1  3079.6     24.1    506.9   \n",
       "4     368.7  330.5  297.0  260.7   25.4  344.7  2566.7      1.3    309.7   \n",
       "...     ...    ...    ...    ...    ...    ...     ...      ...      ...   \n",
       "4111  350.2  254.0  255.2  117.4  184.3   14.9  1533.7      7.9    196.2   \n",
       "4112  231.5  381.2  179.8  145.9   12.4    8.8  1405.5     19.3     99.6   \n",
       "4113  296.4  154.4  180.0   72.8   78.1   26.7  1426.3     60.6    131.1   \n",
       "4114  116.1  466.1  132.2  169.2   59.0   62.3  1395.0     69.3     76.7   \n",
       "4115  257.5  146.4  160.4  165.4  231.0  159.0  1642.9      2.7    223.9   \n",
       "\n",
       "      Jun-Sep  Oct-Dec  \n",
       "0      1696.3    980.3  \n",
       "1      2185.9    716.7  \n",
       "2      1874.0    690.6  \n",
       "3      1977.6    571.0  \n",
       "4      1624.9    630.8  \n",
       "...       ...      ...  \n",
       "4111   1013.0    316.6  \n",
       "4112   1119.5    167.1  \n",
       "4113   1057.0    177.6  \n",
       "4114    958.5    290.5  \n",
       "4115    860.9    555.4  \n",
       "\n",
       "[4116 rows x 19 columns]"
      ]
     },
     "execution_count": 188,
     "metadata": {},
     "output_type": "execute_result"
    }
   ],
   "source": [
    "df"
   ]
  },
  {
   "cell_type": "code",
   "execution_count": 189,
   "id": "b980ceb6",
   "metadata": {},
   "outputs": [
    {
     "data": {
      "text/html": [
       "<div>\n",
       "<style scoped>\n",
       "    .dataframe tbody tr th:only-of-type {\n",
       "        vertical-align: middle;\n",
       "    }\n",
       "\n",
       "    .dataframe tbody tr th {\n",
       "        vertical-align: top;\n",
       "    }\n",
       "\n",
       "    .dataframe thead th {\n",
       "        text-align: right;\n",
       "    }\n",
       "</style>\n",
       "<table border=\"1\" class=\"dataframe\">\n",
       "  <thead>\n",
       "    <tr style=\"text-align: right;\">\n",
       "      <th></th>\n",
       "      <th>SUBDIVISION</th>\n",
       "      <th>YEAR</th>\n",
       "      <th>JAN</th>\n",
       "      <th>FEB</th>\n",
       "      <th>MAR</th>\n",
       "      <th>APR</th>\n",
       "      <th>MAY</th>\n",
       "      <th>JUN</th>\n",
       "      <th>JUL</th>\n",
       "      <th>AUG</th>\n",
       "      <th>SEP</th>\n",
       "      <th>OCT</th>\n",
       "      <th>NOV</th>\n",
       "      <th>DEC</th>\n",
       "      <th>ANNUAL</th>\n",
       "      <th>Jan-Feb</th>\n",
       "      <th>Mar-May</th>\n",
       "      <th>Jun-Sep</th>\n",
       "      <th>Oct-Dec</th>\n",
       "    </tr>\n",
       "  </thead>\n",
       "  <tbody>\n",
       "    <tr>\n",
       "      <th>0</th>\n",
       "      <td>ANDAMAN &amp; NICOBAR ISLANDS</td>\n",
       "      <td>1901</td>\n",
       "      <td>49.2</td>\n",
       "      <td>87.1</td>\n",
       "      <td>29.2</td>\n",
       "      <td>2.3</td>\n",
       "      <td>528.8</td>\n",
       "      <td>517.5</td>\n",
       "      <td>365.1</td>\n",
       "      <td>481.1</td>\n",
       "      <td>332.6</td>\n",
       "      <td>388.5</td>\n",
       "      <td>558.2</td>\n",
       "      <td>33.6</td>\n",
       "      <td>3373.2</td>\n",
       "      <td>136.3</td>\n",
       "      <td>560.3</td>\n",
       "      <td>1696.3</td>\n",
       "      <td>980.3</td>\n",
       "    </tr>\n",
       "    <tr>\n",
       "      <th>1</th>\n",
       "      <td>ANDAMAN &amp; NICOBAR ISLANDS</td>\n",
       "      <td>1902</td>\n",
       "      <td>0.0</td>\n",
       "      <td>159.8</td>\n",
       "      <td>12.2</td>\n",
       "      <td>0.0</td>\n",
       "      <td>446.1</td>\n",
       "      <td>537.1</td>\n",
       "      <td>228.9</td>\n",
       "      <td>753.7</td>\n",
       "      <td>666.2</td>\n",
       "      <td>197.2</td>\n",
       "      <td>359.0</td>\n",
       "      <td>160.5</td>\n",
       "      <td>3520.7</td>\n",
       "      <td>159.8</td>\n",
       "      <td>458.3</td>\n",
       "      <td>2185.9</td>\n",
       "      <td>716.7</td>\n",
       "    </tr>\n",
       "    <tr>\n",
       "      <th>2</th>\n",
       "      <td>ANDAMAN &amp; NICOBAR ISLANDS</td>\n",
       "      <td>1903</td>\n",
       "      <td>12.7</td>\n",
       "      <td>144.0</td>\n",
       "      <td>0.0</td>\n",
       "      <td>1.0</td>\n",
       "      <td>235.1</td>\n",
       "      <td>479.9</td>\n",
       "      <td>728.4</td>\n",
       "      <td>326.7</td>\n",
       "      <td>339.0</td>\n",
       "      <td>181.2</td>\n",
       "      <td>284.4</td>\n",
       "      <td>225.0</td>\n",
       "      <td>2957.4</td>\n",
       "      <td>156.7</td>\n",
       "      <td>236.1</td>\n",
       "      <td>1874.0</td>\n",
       "      <td>690.6</td>\n",
       "    </tr>\n",
       "    <tr>\n",
       "      <th>3</th>\n",
       "      <td>ANDAMAN &amp; NICOBAR ISLANDS</td>\n",
       "      <td>1904</td>\n",
       "      <td>9.4</td>\n",
       "      <td>14.7</td>\n",
       "      <td>0.0</td>\n",
       "      <td>202.4</td>\n",
       "      <td>304.5</td>\n",
       "      <td>495.1</td>\n",
       "      <td>502.0</td>\n",
       "      <td>160.1</td>\n",
       "      <td>820.4</td>\n",
       "      <td>222.2</td>\n",
       "      <td>308.7</td>\n",
       "      <td>40.1</td>\n",
       "      <td>3079.6</td>\n",
       "      <td>24.1</td>\n",
       "      <td>506.9</td>\n",
       "      <td>1977.6</td>\n",
       "      <td>571.0</td>\n",
       "    </tr>\n",
       "    <tr>\n",
       "      <th>4</th>\n",
       "      <td>ANDAMAN &amp; NICOBAR ISLANDS</td>\n",
       "      <td>1905</td>\n",
       "      <td>1.3</td>\n",
       "      <td>0.0</td>\n",
       "      <td>3.3</td>\n",
       "      <td>26.9</td>\n",
       "      <td>279.5</td>\n",
       "      <td>628.7</td>\n",
       "      <td>368.7</td>\n",
       "      <td>330.5</td>\n",
       "      <td>297.0</td>\n",
       "      <td>260.7</td>\n",
       "      <td>25.4</td>\n",
       "      <td>344.7</td>\n",
       "      <td>2566.7</td>\n",
       "      <td>1.3</td>\n",
       "      <td>309.7</td>\n",
       "      <td>1624.9</td>\n",
       "      <td>630.8</td>\n",
       "    </tr>\n",
       "  </tbody>\n",
       "</table>\n",
       "</div>"
      ],
      "text/plain": [
       "                 SUBDIVISION  YEAR   JAN    FEB   MAR    APR    MAY    JUN  \\\n",
       "0  ANDAMAN & NICOBAR ISLANDS  1901  49.2   87.1  29.2    2.3  528.8  517.5   \n",
       "1  ANDAMAN & NICOBAR ISLANDS  1902   0.0  159.8  12.2    0.0  446.1  537.1   \n",
       "2  ANDAMAN & NICOBAR ISLANDS  1903  12.7  144.0   0.0    1.0  235.1  479.9   \n",
       "3  ANDAMAN & NICOBAR ISLANDS  1904   9.4   14.7   0.0  202.4  304.5  495.1   \n",
       "4  ANDAMAN & NICOBAR ISLANDS  1905   1.3    0.0   3.3   26.9  279.5  628.7   \n",
       "\n",
       "     JUL    AUG    SEP    OCT    NOV    DEC  ANNUAL  Jan-Feb  Mar-May  \\\n",
       "0  365.1  481.1  332.6  388.5  558.2   33.6  3373.2    136.3    560.3   \n",
       "1  228.9  753.7  666.2  197.2  359.0  160.5  3520.7    159.8    458.3   \n",
       "2  728.4  326.7  339.0  181.2  284.4  225.0  2957.4    156.7    236.1   \n",
       "3  502.0  160.1  820.4  222.2  308.7   40.1  3079.6     24.1    506.9   \n",
       "4  368.7  330.5  297.0  260.7   25.4  344.7  2566.7      1.3    309.7   \n",
       "\n",
       "   Jun-Sep  Oct-Dec  \n",
       "0   1696.3    980.3  \n",
       "1   2185.9    716.7  \n",
       "2   1874.0    690.6  \n",
       "3   1977.6    571.0  \n",
       "4   1624.9    630.8  "
      ]
     },
     "execution_count": 189,
     "metadata": {},
     "output_type": "execute_result"
    }
   ],
   "source": [
    "df.head()"
   ]
  },
  {
   "cell_type": "code",
   "execution_count": 190,
   "id": "e1e4c7b9",
   "metadata": {},
   "outputs": [
    {
     "data": {
      "text/plain": [
       "(4116, 19)"
      ]
     },
     "execution_count": 190,
     "metadata": {},
     "output_type": "execute_result"
    }
   ],
   "source": [
    "df.shape"
   ]
  },
  {
   "cell_type": "code",
   "execution_count": 191,
   "id": "0d78a4f9",
   "metadata": {},
   "outputs": [
    {
     "data": {
      "text/plain": [
       "Index(['SUBDIVISION', 'YEAR', 'JAN', 'FEB', 'MAR', 'APR', 'MAY', 'JUN', 'JUL',\n",
       "       'AUG', 'SEP', 'OCT', 'NOV', 'DEC', 'ANNUAL', 'Jan-Feb', 'Mar-May',\n",
       "       'Jun-Sep', 'Oct-Dec'],\n",
       "      dtype='object')"
      ]
     },
     "execution_count": 191,
     "metadata": {},
     "output_type": "execute_result"
    }
   ],
   "source": [
    "df.columns"
   ]
  },
  {
   "cell_type": "code",
   "execution_count": 192,
   "id": "258c4613",
   "metadata": {},
   "outputs": [
    {
     "name": "stdout",
     "output_type": "stream",
     "text": [
      "<class 'pandas.core.frame.DataFrame'>\n",
      "RangeIndex: 4116 entries, 0 to 4115\n",
      "Data columns (total 19 columns):\n",
      " #   Column       Non-Null Count  Dtype  \n",
      "---  ------       --------------  -----  \n",
      " 0   SUBDIVISION  4116 non-null   object \n",
      " 1   YEAR         4116 non-null   int64  \n",
      " 2   JAN          4112 non-null   float64\n",
      " 3   FEB          4113 non-null   float64\n",
      " 4   MAR          4110 non-null   float64\n",
      " 5   APR          4112 non-null   float64\n",
      " 6   MAY          4113 non-null   float64\n",
      " 7   JUN          4111 non-null   float64\n",
      " 8   JUL          4109 non-null   float64\n",
      " 9   AUG          4112 non-null   float64\n",
      " 10  SEP          4110 non-null   float64\n",
      " 11  OCT          4109 non-null   float64\n",
      " 12  NOV          4105 non-null   float64\n",
      " 13  DEC          4106 non-null   float64\n",
      " 14  ANNUAL       4090 non-null   float64\n",
      " 15  Jan-Feb      4110 non-null   float64\n",
      " 16  Mar-May      4107 non-null   float64\n",
      " 17  Jun-Sep      4106 non-null   float64\n",
      " 18  Oct-Dec      4103 non-null   float64\n",
      "dtypes: float64(17), int64(1), object(1)\n",
      "memory usage: 595.0+ KB\n"
     ]
    }
   ],
   "source": [
    "df.info()"
   ]
  },
  {
   "cell_type": "code",
   "execution_count": 193,
   "id": "eecbc448",
   "metadata": {},
   "outputs": [
    {
     "data": {
      "text/html": [
       "<div>\n",
       "<style scoped>\n",
       "    .dataframe tbody tr th:only-of-type {\n",
       "        vertical-align: middle;\n",
       "    }\n",
       "\n",
       "    .dataframe tbody tr th {\n",
       "        vertical-align: top;\n",
       "    }\n",
       "\n",
       "    .dataframe thead th {\n",
       "        text-align: right;\n",
       "    }\n",
       "</style>\n",
       "<table border=\"1\" class=\"dataframe\">\n",
       "  <thead>\n",
       "    <tr style=\"text-align: right;\">\n",
       "      <th></th>\n",
       "      <th>YEAR</th>\n",
       "      <th>JAN</th>\n",
       "      <th>FEB</th>\n",
       "      <th>MAR</th>\n",
       "      <th>APR</th>\n",
       "      <th>MAY</th>\n",
       "      <th>JUN</th>\n",
       "      <th>JUL</th>\n",
       "      <th>AUG</th>\n",
       "      <th>SEP</th>\n",
       "      <th>OCT</th>\n",
       "      <th>NOV</th>\n",
       "      <th>DEC</th>\n",
       "      <th>ANNUAL</th>\n",
       "      <th>Jan-Feb</th>\n",
       "      <th>Mar-May</th>\n",
       "      <th>Jun-Sep</th>\n",
       "      <th>Oct-Dec</th>\n",
       "    </tr>\n",
       "  </thead>\n",
       "  <tbody>\n",
       "    <tr>\n",
       "      <th>count</th>\n",
       "      <td>4116.000000</td>\n",
       "      <td>4112.000000</td>\n",
       "      <td>4113.000000</td>\n",
       "      <td>4110.000000</td>\n",
       "      <td>4112.000000</td>\n",
       "      <td>4113.000000</td>\n",
       "      <td>4111.000000</td>\n",
       "      <td>4109.000000</td>\n",
       "      <td>4112.000000</td>\n",
       "      <td>4110.000000</td>\n",
       "      <td>4109.000000</td>\n",
       "      <td>4105.000000</td>\n",
       "      <td>4106.000000</td>\n",
       "      <td>4090.000000</td>\n",
       "      <td>4110.000000</td>\n",
       "      <td>4107.000000</td>\n",
       "      <td>4106.000000</td>\n",
       "      <td>4103.000000</td>\n",
       "    </tr>\n",
       "    <tr>\n",
       "      <th>mean</th>\n",
       "      <td>1958.218659</td>\n",
       "      <td>18.957320</td>\n",
       "      <td>21.805325</td>\n",
       "      <td>27.359197</td>\n",
       "      <td>43.127432</td>\n",
       "      <td>85.745417</td>\n",
       "      <td>230.234444</td>\n",
       "      <td>347.214334</td>\n",
       "      <td>290.263497</td>\n",
       "      <td>197.361922</td>\n",
       "      <td>95.507009</td>\n",
       "      <td>39.866163</td>\n",
       "      <td>18.870580</td>\n",
       "      <td>1411.008900</td>\n",
       "      <td>40.747786</td>\n",
       "      <td>155.901753</td>\n",
       "      <td>1064.724769</td>\n",
       "      <td>154.100487</td>\n",
       "    </tr>\n",
       "    <tr>\n",
       "      <th>std</th>\n",
       "      <td>33.140898</td>\n",
       "      <td>33.585371</td>\n",
       "      <td>35.909488</td>\n",
       "      <td>46.959424</td>\n",
       "      <td>67.831168</td>\n",
       "      <td>123.234904</td>\n",
       "      <td>234.710758</td>\n",
       "      <td>269.539667</td>\n",
       "      <td>188.770477</td>\n",
       "      <td>135.408345</td>\n",
       "      <td>99.519134</td>\n",
       "      <td>68.685410</td>\n",
       "      <td>42.369611</td>\n",
       "      <td>903.846565</td>\n",
       "      <td>59.308277</td>\n",
       "      <td>201.316965</td>\n",
       "      <td>707.741531</td>\n",
       "      <td>166.942660</td>\n",
       "    </tr>\n",
       "    <tr>\n",
       "      <th>min</th>\n",
       "      <td>1901.000000</td>\n",
       "      <td>0.000000</td>\n",
       "      <td>0.000000</td>\n",
       "      <td>0.000000</td>\n",
       "      <td>0.000000</td>\n",
       "      <td>0.000000</td>\n",
       "      <td>0.400000</td>\n",
       "      <td>0.000000</td>\n",
       "      <td>0.000000</td>\n",
       "      <td>0.100000</td>\n",
       "      <td>0.000000</td>\n",
       "      <td>0.000000</td>\n",
       "      <td>0.000000</td>\n",
       "      <td>62.300000</td>\n",
       "      <td>0.000000</td>\n",
       "      <td>0.000000</td>\n",
       "      <td>57.400000</td>\n",
       "      <td>0.000000</td>\n",
       "    </tr>\n",
       "    <tr>\n",
       "      <th>25%</th>\n",
       "      <td>1930.000000</td>\n",
       "      <td>0.600000</td>\n",
       "      <td>0.600000</td>\n",
       "      <td>1.000000</td>\n",
       "      <td>3.000000</td>\n",
       "      <td>8.600000</td>\n",
       "      <td>70.350000</td>\n",
       "      <td>175.600000</td>\n",
       "      <td>155.975000</td>\n",
       "      <td>100.525000</td>\n",
       "      <td>14.600000</td>\n",
       "      <td>0.700000</td>\n",
       "      <td>0.100000</td>\n",
       "      <td>804.500000</td>\n",
       "      <td>4.100000</td>\n",
       "      <td>24.050000</td>\n",
       "      <td>573.850000</td>\n",
       "      <td>34.200000</td>\n",
       "    </tr>\n",
       "    <tr>\n",
       "      <th>50%</th>\n",
       "      <td>1958.000000</td>\n",
       "      <td>6.000000</td>\n",
       "      <td>6.700000</td>\n",
       "      <td>7.800000</td>\n",
       "      <td>15.700000</td>\n",
       "      <td>36.600000</td>\n",
       "      <td>138.700000</td>\n",
       "      <td>284.800000</td>\n",
       "      <td>259.400000</td>\n",
       "      <td>173.900000</td>\n",
       "      <td>65.200000</td>\n",
       "      <td>9.500000</td>\n",
       "      <td>3.000000</td>\n",
       "      <td>1121.300000</td>\n",
       "      <td>19.200000</td>\n",
       "      <td>74.800000</td>\n",
       "      <td>881.100000</td>\n",
       "      <td>98.200000</td>\n",
       "    </tr>\n",
       "    <tr>\n",
       "      <th>75%</th>\n",
       "      <td>1987.000000</td>\n",
       "      <td>22.200000</td>\n",
       "      <td>26.800000</td>\n",
       "      <td>31.300000</td>\n",
       "      <td>49.950000</td>\n",
       "      <td>97.200000</td>\n",
       "      <td>305.150000</td>\n",
       "      <td>418.400000</td>\n",
       "      <td>377.800000</td>\n",
       "      <td>265.800000</td>\n",
       "      <td>148.400000</td>\n",
       "      <td>46.100000</td>\n",
       "      <td>17.500000</td>\n",
       "      <td>1644.775000</td>\n",
       "      <td>50.375000</td>\n",
       "      <td>196.950000</td>\n",
       "      <td>1288.175000</td>\n",
       "      <td>213.500000</td>\n",
       "    </tr>\n",
       "    <tr>\n",
       "      <th>max</th>\n",
       "      <td>2015.000000</td>\n",
       "      <td>583.700000</td>\n",
       "      <td>403.500000</td>\n",
       "      <td>605.600000</td>\n",
       "      <td>595.100000</td>\n",
       "      <td>1168.600000</td>\n",
       "      <td>1609.900000</td>\n",
       "      <td>2362.800000</td>\n",
       "      <td>1664.600000</td>\n",
       "      <td>1222.000000</td>\n",
       "      <td>948.300000</td>\n",
       "      <td>648.900000</td>\n",
       "      <td>617.500000</td>\n",
       "      <td>6331.100000</td>\n",
       "      <td>699.500000</td>\n",
       "      <td>1745.800000</td>\n",
       "      <td>4536.900000</td>\n",
       "      <td>1252.500000</td>\n",
       "    </tr>\n",
       "  </tbody>\n",
       "</table>\n",
       "</div>"
      ],
      "text/plain": [
       "              YEAR          JAN          FEB          MAR          APR  \\\n",
       "count  4116.000000  4112.000000  4113.000000  4110.000000  4112.000000   \n",
       "mean   1958.218659    18.957320    21.805325    27.359197    43.127432   \n",
       "std      33.140898    33.585371    35.909488    46.959424    67.831168   \n",
       "min    1901.000000     0.000000     0.000000     0.000000     0.000000   \n",
       "25%    1930.000000     0.600000     0.600000     1.000000     3.000000   \n",
       "50%    1958.000000     6.000000     6.700000     7.800000    15.700000   \n",
       "75%    1987.000000    22.200000    26.800000    31.300000    49.950000   \n",
       "max    2015.000000   583.700000   403.500000   605.600000   595.100000   \n",
       "\n",
       "               MAY          JUN          JUL          AUG          SEP  \\\n",
       "count  4113.000000  4111.000000  4109.000000  4112.000000  4110.000000   \n",
       "mean     85.745417   230.234444   347.214334   290.263497   197.361922   \n",
       "std     123.234904   234.710758   269.539667   188.770477   135.408345   \n",
       "min       0.000000     0.400000     0.000000     0.000000     0.100000   \n",
       "25%       8.600000    70.350000   175.600000   155.975000   100.525000   \n",
       "50%      36.600000   138.700000   284.800000   259.400000   173.900000   \n",
       "75%      97.200000   305.150000   418.400000   377.800000   265.800000   \n",
       "max    1168.600000  1609.900000  2362.800000  1664.600000  1222.000000   \n",
       "\n",
       "               OCT          NOV          DEC       ANNUAL      Jan-Feb  \\\n",
       "count  4109.000000  4105.000000  4106.000000  4090.000000  4110.000000   \n",
       "mean     95.507009    39.866163    18.870580  1411.008900    40.747786   \n",
       "std      99.519134    68.685410    42.369611   903.846565    59.308277   \n",
       "min       0.000000     0.000000     0.000000    62.300000     0.000000   \n",
       "25%      14.600000     0.700000     0.100000   804.500000     4.100000   \n",
       "50%      65.200000     9.500000     3.000000  1121.300000    19.200000   \n",
       "75%     148.400000    46.100000    17.500000  1644.775000    50.375000   \n",
       "max     948.300000   648.900000   617.500000  6331.100000   699.500000   \n",
       "\n",
       "           Mar-May      Jun-Sep      Oct-Dec  \n",
       "count  4107.000000  4106.000000  4103.000000  \n",
       "mean    155.901753  1064.724769   154.100487  \n",
       "std     201.316965   707.741531   166.942660  \n",
       "min       0.000000    57.400000     0.000000  \n",
       "25%      24.050000   573.850000    34.200000  \n",
       "50%      74.800000   881.100000    98.200000  \n",
       "75%     196.950000  1288.175000   213.500000  \n",
       "max    1745.800000  4536.900000  1252.500000  "
      ]
     },
     "execution_count": 193,
     "metadata": {},
     "output_type": "execute_result"
    }
   ],
   "source": [
    "df.describe()"
   ]
  },
  {
   "cell_type": "code",
   "execution_count": 194,
   "id": "7c4fbd46",
   "metadata": {},
   "outputs": [
    {
     "data": {
      "text/plain": [
       "36"
      ]
     },
     "execution_count": 194,
     "metadata": {},
     "output_type": "execute_result"
    }
   ],
   "source": [
    "df['SUBDIVISION'].nunique()"
   ]
  },
  {
   "cell_type": "markdown",
   "id": "61ad05b2",
   "metadata": {},
   "source": [
    "Inference:\n",
    "\n",
    "1.The dataset has 19 features and 4116 entries\n",
    "\n",
    "2.Data is from 36 subdivisions of time span starting from 1901 to 2015\n",
    "\n",
    "3.Data contains monthly, annual and seasonal rainfall data"
   ]
  },
  {
   "cell_type": "markdown",
   "id": "d11a115c",
   "metadata": {},
   "source": [
    "# Data Preprocessing\n",
    "1.Feature Engineering"
   ]
  },
  {
   "cell_type": "code",
   "execution_count": 195,
   "id": "1fdec46c",
   "metadata": {},
   "outputs": [
    {
     "data": {
      "text/html": [
       "<div>\n",
       "<style scoped>\n",
       "    .dataframe tbody tr th:only-of-type {\n",
       "        vertical-align: middle;\n",
       "    }\n",
       "\n",
       "    .dataframe tbody tr th {\n",
       "        vertical-align: top;\n",
       "    }\n",
       "\n",
       "    .dataframe thead th {\n",
       "        text-align: right;\n",
       "    }\n",
       "</style>\n",
       "<table border=\"1\" class=\"dataframe\">\n",
       "  <thead>\n",
       "    <tr style=\"text-align: right;\">\n",
       "      <th></th>\n",
       "      <th>ANNUAL</th>\n",
       "    </tr>\n",
       "    <tr>\n",
       "      <th>SUBDIVISION</th>\n",
       "      <th></th>\n",
       "    </tr>\n",
       "  </thead>\n",
       "  <tbody>\n",
       "    <tr>\n",
       "      <th>ANDAMAN &amp; NICOBAR ISLANDS</th>\n",
       "      <td>2927.439423</td>\n",
       "    </tr>\n",
       "    <tr>\n",
       "      <th>ARUNACHAL PRADESH</th>\n",
       "      <td>3418.857143</td>\n",
       "    </tr>\n",
       "    <tr>\n",
       "      <th>ASSAM &amp; MEGHALAYA</th>\n",
       "      <td>2580.695652</td>\n",
       "    </tr>\n",
       "    <tr>\n",
       "      <th>BIHAR</th>\n",
       "      <td>1197.633913</td>\n",
       "    </tr>\n",
       "    <tr>\n",
       "      <th>CHHATTISGARH</th>\n",
       "      <td>1371.728696</td>\n",
       "    </tr>\n",
       "    <tr>\n",
       "      <th>COASTAL ANDHRA PRADESH</th>\n",
       "      <td>1052.904348</td>\n",
       "    </tr>\n",
       "    <tr>\n",
       "      <th>COASTAL KARNATAKA</th>\n",
       "      <td>3408.409649</td>\n",
       "    </tr>\n",
       "    <tr>\n",
       "      <th>EAST MADHYA PRADESH</th>\n",
       "      <td>1205.000000</td>\n",
       "    </tr>\n",
       "    <tr>\n",
       "      <th>EAST RAJASTHAN</th>\n",
       "      <td>655.215652</td>\n",
       "    </tr>\n",
       "    <tr>\n",
       "      <th>EAST UTTAR PRADESH</th>\n",
       "      <td>979.213043</td>\n",
       "    </tr>\n",
       "    <tr>\n",
       "      <th>GANGETIC WEST BENGAL</th>\n",
       "      <td>1490.487826</td>\n",
       "    </tr>\n",
       "    <tr>\n",
       "      <th>GUJARAT REGION</th>\n",
       "      <td>918.230435</td>\n",
       "    </tr>\n",
       "    <tr>\n",
       "      <th>HARYANA DELHI &amp; CHANDIGARH</th>\n",
       "      <td>530.496522</td>\n",
       "    </tr>\n",
       "    <tr>\n",
       "      <th>HIMACHAL PRADESH</th>\n",
       "      <td>1260.345217</td>\n",
       "    </tr>\n",
       "    <tr>\n",
       "      <th>JAMMU &amp; KASHMIR</th>\n",
       "      <td>1139.684211</td>\n",
       "    </tr>\n",
       "    <tr>\n",
       "      <th>JHARKHAND</th>\n",
       "      <td>1309.303478</td>\n",
       "    </tr>\n",
       "    <tr>\n",
       "      <th>KERALA</th>\n",
       "      <td>2925.487826</td>\n",
       "    </tr>\n",
       "    <tr>\n",
       "      <th>KONKAN &amp; GOA</th>\n",
       "      <td>2977.686087</td>\n",
       "    </tr>\n",
       "    <tr>\n",
       "      <th>LAKSHADWEEP</th>\n",
       "      <td>1590.886408</td>\n",
       "    </tr>\n",
       "    <tr>\n",
       "      <th>MADHYA MAHARASHTRA</th>\n",
       "      <td>880.233043</td>\n",
       "    </tr>\n",
       "    <tr>\n",
       "      <th>MATATHWADA</th>\n",
       "      <td>790.692174</td>\n",
       "    </tr>\n",
       "    <tr>\n",
       "      <th>NAGA MANI MIZO TRIPURA</th>\n",
       "      <td>2433.619130</td>\n",
       "    </tr>\n",
       "    <tr>\n",
       "      <th>NORTH INTERIOR KARNATAKA</th>\n",
       "      <td>717.795652</td>\n",
       "    </tr>\n",
       "    <tr>\n",
       "      <th>ORISSA</th>\n",
       "      <td>1458.169565</td>\n",
       "    </tr>\n",
       "    <tr>\n",
       "      <th>PUNJAB</th>\n",
       "      <td>593.535652</td>\n",
       "    </tr>\n",
       "    <tr>\n",
       "      <th>RAYALSEEMA</th>\n",
       "      <td>766.206087</td>\n",
       "    </tr>\n",
       "    <tr>\n",
       "      <th>SAURASHTRA &amp; KUTCH</th>\n",
       "      <td>495.161739</td>\n",
       "    </tr>\n",
       "    <tr>\n",
       "      <th>SOUTH INTERIOR KARNATAKA</th>\n",
       "      <td>1040.391304</td>\n",
       "    </tr>\n",
       "    <tr>\n",
       "      <th>SUB HIMALAYAN WEST BENGAL &amp; SIKKIM</th>\n",
       "      <td>2752.217391</td>\n",
       "    </tr>\n",
       "    <tr>\n",
       "      <th>TAMIL NADU</th>\n",
       "      <td>943.713043</td>\n",
       "    </tr>\n",
       "    <tr>\n",
       "      <th>TELANGANA</th>\n",
       "      <td>953.378261</td>\n",
       "    </tr>\n",
       "    <tr>\n",
       "      <th>UTTARAKHAND</th>\n",
       "      <td>1465.696522</td>\n",
       "    </tr>\n",
       "    <tr>\n",
       "      <th>VIDARBHA</th>\n",
       "      <td>1095.459130</td>\n",
       "    </tr>\n",
       "    <tr>\n",
       "      <th>WEST MADHYA PRADESH</th>\n",
       "      <td>944.358772</td>\n",
       "    </tr>\n",
       "    <tr>\n",
       "      <th>WEST RAJASTHAN</th>\n",
       "      <td>292.673043</td>\n",
       "    </tr>\n",
       "    <tr>\n",
       "      <th>WEST UTTAR PRADESH</th>\n",
       "      <td>827.114783</td>\n",
       "    </tr>\n",
       "  </tbody>\n",
       "</table>\n",
       "</div>"
      ],
      "text/plain": [
       "                                         ANNUAL\n",
       "SUBDIVISION                                    \n",
       "ANDAMAN & NICOBAR ISLANDS           2927.439423\n",
       "ARUNACHAL PRADESH                   3418.857143\n",
       "ASSAM & MEGHALAYA                   2580.695652\n",
       "BIHAR                               1197.633913\n",
       "CHHATTISGARH                        1371.728696\n",
       "COASTAL ANDHRA PRADESH              1052.904348\n",
       "COASTAL KARNATAKA                   3408.409649\n",
       "EAST MADHYA PRADESH                 1205.000000\n",
       "EAST RAJASTHAN                       655.215652\n",
       "EAST UTTAR PRADESH                   979.213043\n",
       "GANGETIC WEST BENGAL                1490.487826\n",
       "GUJARAT REGION                       918.230435\n",
       "HARYANA DELHI & CHANDIGARH           530.496522\n",
       "HIMACHAL PRADESH                    1260.345217\n",
       "JAMMU & KASHMIR                     1139.684211\n",
       "JHARKHAND                           1309.303478\n",
       "KERALA                              2925.487826\n",
       "KONKAN & GOA                        2977.686087\n",
       "LAKSHADWEEP                         1590.886408\n",
       "MADHYA MAHARASHTRA                   880.233043\n",
       "MATATHWADA                           790.692174\n",
       "NAGA MANI MIZO TRIPURA              2433.619130\n",
       "NORTH INTERIOR KARNATAKA             717.795652\n",
       "ORISSA                              1458.169565\n",
       "PUNJAB                               593.535652\n",
       "RAYALSEEMA                           766.206087\n",
       "SAURASHTRA & KUTCH                   495.161739\n",
       "SOUTH INTERIOR KARNATAKA            1040.391304\n",
       "SUB HIMALAYAN WEST BENGAL & SIKKIM  2752.217391\n",
       "TAMIL NADU                           943.713043\n",
       "TELANGANA                            953.378261\n",
       "UTTARAKHAND                         1465.696522\n",
       "VIDARBHA                            1095.459130\n",
       "WEST MADHYA PRADESH                  944.358772\n",
       "WEST RAJASTHAN                       292.673043\n",
       "WEST UTTAR PRADESH                   827.114783"
      ]
     },
     "execution_count": 195,
     "metadata": {},
     "output_type": "execute_result"
    }
   ],
   "source": [
    "# Creating a new data frame containing mean value of annual rainfall in different subdivisions\n",
    "\n",
    "x=pd.DataFrame(df.groupby(\"SUBDIVISION\")['ANNUAL'].mean())\n",
    "x"
   ]
  },
  {
   "cell_type": "code",
   "execution_count": 196,
   "id": "4b9c80c0",
   "metadata": {},
   "outputs": [
    {
     "data": {
      "text/plain": [
       "(36, 1)"
      ]
     },
     "execution_count": 196,
     "metadata": {},
     "output_type": "execute_result"
    }
   ],
   "source": [
    "x.shape"
   ]
  },
  {
   "cell_type": "code",
   "execution_count": 197,
   "id": "bf5cc566",
   "metadata": {},
   "outputs": [
    {
     "data": {
      "text/html": [
       "<div>\n",
       "<style scoped>\n",
       "    .dataframe tbody tr th:only-of-type {\n",
       "        vertical-align: middle;\n",
       "    }\n",
       "\n",
       "    .dataframe tbody tr th {\n",
       "        vertical-align: top;\n",
       "    }\n",
       "\n",
       "    .dataframe thead th {\n",
       "        text-align: right;\n",
       "    }\n",
       "</style>\n",
       "<table border=\"1\" class=\"dataframe\">\n",
       "  <thead>\n",
       "    <tr style=\"text-align: right;\">\n",
       "      <th></th>\n",
       "      <th>SUBDIVISION</th>\n",
       "      <th>ANNUAL</th>\n",
       "    </tr>\n",
       "  </thead>\n",
       "  <tbody>\n",
       "    <tr>\n",
       "      <th>0</th>\n",
       "      <td>ANDAMAN &amp; NICOBAR ISLANDS</td>\n",
       "      <td>2927.439423</td>\n",
       "    </tr>\n",
       "    <tr>\n",
       "      <th>1</th>\n",
       "      <td>ARUNACHAL PRADESH</td>\n",
       "      <td>3418.857143</td>\n",
       "    </tr>\n",
       "    <tr>\n",
       "      <th>2</th>\n",
       "      <td>ASSAM &amp; MEGHALAYA</td>\n",
       "      <td>2580.695652</td>\n",
       "    </tr>\n",
       "    <tr>\n",
       "      <th>3</th>\n",
       "      <td>BIHAR</td>\n",
       "      <td>1197.633913</td>\n",
       "    </tr>\n",
       "    <tr>\n",
       "      <th>4</th>\n",
       "      <td>CHHATTISGARH</td>\n",
       "      <td>1371.728696</td>\n",
       "    </tr>\n",
       "    <tr>\n",
       "      <th>5</th>\n",
       "      <td>COASTAL ANDHRA PRADESH</td>\n",
       "      <td>1052.904348</td>\n",
       "    </tr>\n",
       "    <tr>\n",
       "      <th>6</th>\n",
       "      <td>COASTAL KARNATAKA</td>\n",
       "      <td>3408.409649</td>\n",
       "    </tr>\n",
       "    <tr>\n",
       "      <th>7</th>\n",
       "      <td>EAST MADHYA PRADESH</td>\n",
       "      <td>1205.000000</td>\n",
       "    </tr>\n",
       "    <tr>\n",
       "      <th>8</th>\n",
       "      <td>EAST RAJASTHAN</td>\n",
       "      <td>655.215652</td>\n",
       "    </tr>\n",
       "    <tr>\n",
       "      <th>9</th>\n",
       "      <td>EAST UTTAR PRADESH</td>\n",
       "      <td>979.213043</td>\n",
       "    </tr>\n",
       "    <tr>\n",
       "      <th>10</th>\n",
       "      <td>GANGETIC WEST BENGAL</td>\n",
       "      <td>1490.487826</td>\n",
       "    </tr>\n",
       "    <tr>\n",
       "      <th>11</th>\n",
       "      <td>GUJARAT REGION</td>\n",
       "      <td>918.230435</td>\n",
       "    </tr>\n",
       "    <tr>\n",
       "      <th>12</th>\n",
       "      <td>HARYANA DELHI &amp; CHANDIGARH</td>\n",
       "      <td>530.496522</td>\n",
       "    </tr>\n",
       "    <tr>\n",
       "      <th>13</th>\n",
       "      <td>HIMACHAL PRADESH</td>\n",
       "      <td>1260.345217</td>\n",
       "    </tr>\n",
       "    <tr>\n",
       "      <th>14</th>\n",
       "      <td>JAMMU &amp; KASHMIR</td>\n",
       "      <td>1139.684211</td>\n",
       "    </tr>\n",
       "    <tr>\n",
       "      <th>15</th>\n",
       "      <td>JHARKHAND</td>\n",
       "      <td>1309.303478</td>\n",
       "    </tr>\n",
       "    <tr>\n",
       "      <th>16</th>\n",
       "      <td>KERALA</td>\n",
       "      <td>2925.487826</td>\n",
       "    </tr>\n",
       "    <tr>\n",
       "      <th>17</th>\n",
       "      <td>KONKAN &amp; GOA</td>\n",
       "      <td>2977.686087</td>\n",
       "    </tr>\n",
       "    <tr>\n",
       "      <th>18</th>\n",
       "      <td>LAKSHADWEEP</td>\n",
       "      <td>1590.886408</td>\n",
       "    </tr>\n",
       "    <tr>\n",
       "      <th>19</th>\n",
       "      <td>MADHYA MAHARASHTRA</td>\n",
       "      <td>880.233043</td>\n",
       "    </tr>\n",
       "    <tr>\n",
       "      <th>20</th>\n",
       "      <td>MATATHWADA</td>\n",
       "      <td>790.692174</td>\n",
       "    </tr>\n",
       "    <tr>\n",
       "      <th>21</th>\n",
       "      <td>NAGA MANI MIZO TRIPURA</td>\n",
       "      <td>2433.619130</td>\n",
       "    </tr>\n",
       "    <tr>\n",
       "      <th>22</th>\n",
       "      <td>NORTH INTERIOR KARNATAKA</td>\n",
       "      <td>717.795652</td>\n",
       "    </tr>\n",
       "    <tr>\n",
       "      <th>23</th>\n",
       "      <td>ORISSA</td>\n",
       "      <td>1458.169565</td>\n",
       "    </tr>\n",
       "    <tr>\n",
       "      <th>24</th>\n",
       "      <td>PUNJAB</td>\n",
       "      <td>593.535652</td>\n",
       "    </tr>\n",
       "    <tr>\n",
       "      <th>25</th>\n",
       "      <td>RAYALSEEMA</td>\n",
       "      <td>766.206087</td>\n",
       "    </tr>\n",
       "    <tr>\n",
       "      <th>26</th>\n",
       "      <td>SAURASHTRA &amp; KUTCH</td>\n",
       "      <td>495.161739</td>\n",
       "    </tr>\n",
       "    <tr>\n",
       "      <th>27</th>\n",
       "      <td>SOUTH INTERIOR KARNATAKA</td>\n",
       "      <td>1040.391304</td>\n",
       "    </tr>\n",
       "    <tr>\n",
       "      <th>28</th>\n",
       "      <td>SUB HIMALAYAN WEST BENGAL &amp; SIKKIM</td>\n",
       "      <td>2752.217391</td>\n",
       "    </tr>\n",
       "    <tr>\n",
       "      <th>29</th>\n",
       "      <td>TAMIL NADU</td>\n",
       "      <td>943.713043</td>\n",
       "    </tr>\n",
       "    <tr>\n",
       "      <th>30</th>\n",
       "      <td>TELANGANA</td>\n",
       "      <td>953.378261</td>\n",
       "    </tr>\n",
       "    <tr>\n",
       "      <th>31</th>\n",
       "      <td>UTTARAKHAND</td>\n",
       "      <td>1465.696522</td>\n",
       "    </tr>\n",
       "    <tr>\n",
       "      <th>32</th>\n",
       "      <td>VIDARBHA</td>\n",
       "      <td>1095.459130</td>\n",
       "    </tr>\n",
       "    <tr>\n",
       "      <th>33</th>\n",
       "      <td>WEST MADHYA PRADESH</td>\n",
       "      <td>944.358772</td>\n",
       "    </tr>\n",
       "    <tr>\n",
       "      <th>34</th>\n",
       "      <td>WEST RAJASTHAN</td>\n",
       "      <td>292.673043</td>\n",
       "    </tr>\n",
       "    <tr>\n",
       "      <th>35</th>\n",
       "      <td>WEST UTTAR PRADESH</td>\n",
       "      <td>827.114783</td>\n",
       "    </tr>\n",
       "  </tbody>\n",
       "</table>\n",
       "</div>"
      ],
      "text/plain": [
       "                           SUBDIVISION       ANNUAL\n",
       "0            ANDAMAN & NICOBAR ISLANDS  2927.439423\n",
       "1                    ARUNACHAL PRADESH  3418.857143\n",
       "2                    ASSAM & MEGHALAYA  2580.695652\n",
       "3                                BIHAR  1197.633913\n",
       "4                         CHHATTISGARH  1371.728696\n",
       "5               COASTAL ANDHRA PRADESH  1052.904348\n",
       "6                    COASTAL KARNATAKA  3408.409649\n",
       "7                  EAST MADHYA PRADESH  1205.000000\n",
       "8                       EAST RAJASTHAN   655.215652\n",
       "9                   EAST UTTAR PRADESH   979.213043\n",
       "10                GANGETIC WEST BENGAL  1490.487826\n",
       "11                      GUJARAT REGION   918.230435\n",
       "12          HARYANA DELHI & CHANDIGARH   530.496522\n",
       "13                    HIMACHAL PRADESH  1260.345217\n",
       "14                     JAMMU & KASHMIR  1139.684211\n",
       "15                           JHARKHAND  1309.303478\n",
       "16                              KERALA  2925.487826\n",
       "17                        KONKAN & GOA  2977.686087\n",
       "18                         LAKSHADWEEP  1590.886408\n",
       "19                  MADHYA MAHARASHTRA   880.233043\n",
       "20                          MATATHWADA   790.692174\n",
       "21              NAGA MANI MIZO TRIPURA  2433.619130\n",
       "22            NORTH INTERIOR KARNATAKA   717.795652\n",
       "23                              ORISSA  1458.169565\n",
       "24                              PUNJAB   593.535652\n",
       "25                          RAYALSEEMA   766.206087\n",
       "26                  SAURASHTRA & KUTCH   495.161739\n",
       "27            SOUTH INTERIOR KARNATAKA  1040.391304\n",
       "28  SUB HIMALAYAN WEST BENGAL & SIKKIM  2752.217391\n",
       "29                          TAMIL NADU   943.713043\n",
       "30                           TELANGANA   953.378261\n",
       "31                         UTTARAKHAND  1465.696522\n",
       "32                            VIDARBHA  1095.459130\n",
       "33                 WEST MADHYA PRADESH   944.358772\n",
       "34                      WEST RAJASTHAN   292.673043\n",
       "35                  WEST UTTAR PRADESH   827.114783"
      ]
     },
     "execution_count": 197,
     "metadata": {},
     "output_type": "execute_result"
    }
   ],
   "source": [
    "x=x.reset_index() \n",
    "x"
   ]
  },
  {
   "cell_type": "code",
   "execution_count": 198,
   "id": "ec515982",
   "metadata": {},
   "outputs": [],
   "source": [
    "# Creating a new dataframe by merging df and x \n",
    "\n",
    "df1 = df.merge(x, on='SUBDIVISION', how='left')"
   ]
  },
  {
   "cell_type": "code",
   "execution_count": 199,
   "id": "da3afa93",
   "metadata": {},
   "outputs": [
    {
     "data": {
      "text/html": [
       "<div>\n",
       "<style scoped>\n",
       "    .dataframe tbody tr th:only-of-type {\n",
       "        vertical-align: middle;\n",
       "    }\n",
       "\n",
       "    .dataframe tbody tr th {\n",
       "        vertical-align: top;\n",
       "    }\n",
       "\n",
       "    .dataframe thead th {\n",
       "        text-align: right;\n",
       "    }\n",
       "</style>\n",
       "<table border=\"1\" class=\"dataframe\">\n",
       "  <thead>\n",
       "    <tr style=\"text-align: right;\">\n",
       "      <th></th>\n",
       "      <th>SUBDIVISION</th>\n",
       "      <th>YEAR</th>\n",
       "      <th>JAN</th>\n",
       "      <th>FEB</th>\n",
       "      <th>MAR</th>\n",
       "      <th>APR</th>\n",
       "      <th>MAY</th>\n",
       "      <th>JUN</th>\n",
       "      <th>JUL</th>\n",
       "      <th>AUG</th>\n",
       "      <th>SEP</th>\n",
       "      <th>OCT</th>\n",
       "      <th>NOV</th>\n",
       "      <th>DEC</th>\n",
       "      <th>ANNUAL_x</th>\n",
       "      <th>Jan-Feb</th>\n",
       "      <th>Mar-May</th>\n",
       "      <th>Jun-Sep</th>\n",
       "      <th>Oct-Dec</th>\n",
       "      <th>ANNUAL_y</th>\n",
       "    </tr>\n",
       "  </thead>\n",
       "  <tbody>\n",
       "    <tr>\n",
       "      <th>0</th>\n",
       "      <td>ANDAMAN &amp; NICOBAR ISLANDS</td>\n",
       "      <td>1901</td>\n",
       "      <td>49.2</td>\n",
       "      <td>87.1</td>\n",
       "      <td>29.2</td>\n",
       "      <td>2.3</td>\n",
       "      <td>528.8</td>\n",
       "      <td>517.5</td>\n",
       "      <td>365.1</td>\n",
       "      <td>481.1</td>\n",
       "      <td>332.6</td>\n",
       "      <td>388.5</td>\n",
       "      <td>558.2</td>\n",
       "      <td>33.6</td>\n",
       "      <td>3373.2</td>\n",
       "      <td>136.3</td>\n",
       "      <td>560.3</td>\n",
       "      <td>1696.3</td>\n",
       "      <td>980.3</td>\n",
       "      <td>2927.439423</td>\n",
       "    </tr>\n",
       "    <tr>\n",
       "      <th>1</th>\n",
       "      <td>ANDAMAN &amp; NICOBAR ISLANDS</td>\n",
       "      <td>1902</td>\n",
       "      <td>0.0</td>\n",
       "      <td>159.8</td>\n",
       "      <td>12.2</td>\n",
       "      <td>0.0</td>\n",
       "      <td>446.1</td>\n",
       "      <td>537.1</td>\n",
       "      <td>228.9</td>\n",
       "      <td>753.7</td>\n",
       "      <td>666.2</td>\n",
       "      <td>197.2</td>\n",
       "      <td>359.0</td>\n",
       "      <td>160.5</td>\n",
       "      <td>3520.7</td>\n",
       "      <td>159.8</td>\n",
       "      <td>458.3</td>\n",
       "      <td>2185.9</td>\n",
       "      <td>716.7</td>\n",
       "      <td>2927.439423</td>\n",
       "    </tr>\n",
       "    <tr>\n",
       "      <th>2</th>\n",
       "      <td>ANDAMAN &amp; NICOBAR ISLANDS</td>\n",
       "      <td>1903</td>\n",
       "      <td>12.7</td>\n",
       "      <td>144.0</td>\n",
       "      <td>0.0</td>\n",
       "      <td>1.0</td>\n",
       "      <td>235.1</td>\n",
       "      <td>479.9</td>\n",
       "      <td>728.4</td>\n",
       "      <td>326.7</td>\n",
       "      <td>339.0</td>\n",
       "      <td>181.2</td>\n",
       "      <td>284.4</td>\n",
       "      <td>225.0</td>\n",
       "      <td>2957.4</td>\n",
       "      <td>156.7</td>\n",
       "      <td>236.1</td>\n",
       "      <td>1874.0</td>\n",
       "      <td>690.6</td>\n",
       "      <td>2927.439423</td>\n",
       "    </tr>\n",
       "    <tr>\n",
       "      <th>3</th>\n",
       "      <td>ANDAMAN &amp; NICOBAR ISLANDS</td>\n",
       "      <td>1904</td>\n",
       "      <td>9.4</td>\n",
       "      <td>14.7</td>\n",
       "      <td>0.0</td>\n",
       "      <td>202.4</td>\n",
       "      <td>304.5</td>\n",
       "      <td>495.1</td>\n",
       "      <td>502.0</td>\n",
       "      <td>160.1</td>\n",
       "      <td>820.4</td>\n",
       "      <td>222.2</td>\n",
       "      <td>308.7</td>\n",
       "      <td>40.1</td>\n",
       "      <td>3079.6</td>\n",
       "      <td>24.1</td>\n",
       "      <td>506.9</td>\n",
       "      <td>1977.6</td>\n",
       "      <td>571.0</td>\n",
       "      <td>2927.439423</td>\n",
       "    </tr>\n",
       "    <tr>\n",
       "      <th>4</th>\n",
       "      <td>ANDAMAN &amp; NICOBAR ISLANDS</td>\n",
       "      <td>1905</td>\n",
       "      <td>1.3</td>\n",
       "      <td>0.0</td>\n",
       "      <td>3.3</td>\n",
       "      <td>26.9</td>\n",
       "      <td>279.5</td>\n",
       "      <td>628.7</td>\n",
       "      <td>368.7</td>\n",
       "      <td>330.5</td>\n",
       "      <td>297.0</td>\n",
       "      <td>260.7</td>\n",
       "      <td>25.4</td>\n",
       "      <td>344.7</td>\n",
       "      <td>2566.7</td>\n",
       "      <td>1.3</td>\n",
       "      <td>309.7</td>\n",
       "      <td>1624.9</td>\n",
       "      <td>630.8</td>\n",
       "      <td>2927.439423</td>\n",
       "    </tr>\n",
       "  </tbody>\n",
       "</table>\n",
       "</div>"
      ],
      "text/plain": [
       "                 SUBDIVISION  YEAR   JAN    FEB   MAR    APR    MAY    JUN  \\\n",
       "0  ANDAMAN & NICOBAR ISLANDS  1901  49.2   87.1  29.2    2.3  528.8  517.5   \n",
       "1  ANDAMAN & NICOBAR ISLANDS  1902   0.0  159.8  12.2    0.0  446.1  537.1   \n",
       "2  ANDAMAN & NICOBAR ISLANDS  1903  12.7  144.0   0.0    1.0  235.1  479.9   \n",
       "3  ANDAMAN & NICOBAR ISLANDS  1904   9.4   14.7   0.0  202.4  304.5  495.1   \n",
       "4  ANDAMAN & NICOBAR ISLANDS  1905   1.3    0.0   3.3   26.9  279.5  628.7   \n",
       "\n",
       "     JUL    AUG    SEP    OCT    NOV    DEC  ANNUAL_x  Jan-Feb  Mar-May  \\\n",
       "0  365.1  481.1  332.6  388.5  558.2   33.6    3373.2    136.3    560.3   \n",
       "1  228.9  753.7  666.2  197.2  359.0  160.5    3520.7    159.8    458.3   \n",
       "2  728.4  326.7  339.0  181.2  284.4  225.0    2957.4    156.7    236.1   \n",
       "3  502.0  160.1  820.4  222.2  308.7   40.1    3079.6     24.1    506.9   \n",
       "4  368.7  330.5  297.0  260.7   25.4  344.7    2566.7      1.3    309.7   \n",
       "\n",
       "   Jun-Sep  Oct-Dec     ANNUAL_y  \n",
       "0   1696.3    980.3  2927.439423  \n",
       "1   2185.9    716.7  2927.439423  \n",
       "2   1874.0    690.6  2927.439423  \n",
       "3   1977.6    571.0  2927.439423  \n",
       "4   1624.9    630.8  2927.439423  "
      ]
     },
     "execution_count": 199,
     "metadata": {},
     "output_type": "execute_result"
    }
   ],
   "source": [
    "df1.head()"
   ]
  },
  {
   "cell_type": "code",
   "execution_count": 200,
   "id": "5b148b11",
   "metadata": {},
   "outputs": [],
   "source": [
    "# Assigning mean value of annual rainfall to dataset as a new column\n",
    "\n",
    "df['MEAN ANNUAL']=df1['ANNUAL_y']"
   ]
  },
  {
   "cell_type": "code",
   "execution_count": 201,
   "id": "88d0e319",
   "metadata": {},
   "outputs": [
    {
     "data": {
      "text/html": [
       "<div>\n",
       "<style scoped>\n",
       "    .dataframe tbody tr th:only-of-type {\n",
       "        vertical-align: middle;\n",
       "    }\n",
       "\n",
       "    .dataframe tbody tr th {\n",
       "        vertical-align: top;\n",
       "    }\n",
       "\n",
       "    .dataframe thead th {\n",
       "        text-align: right;\n",
       "    }\n",
       "</style>\n",
       "<table border=\"1\" class=\"dataframe\">\n",
       "  <thead>\n",
       "    <tr style=\"text-align: right;\">\n",
       "      <th></th>\n",
       "      <th>SUBDIVISION</th>\n",
       "      <th>YEAR</th>\n",
       "      <th>JAN</th>\n",
       "      <th>FEB</th>\n",
       "      <th>MAR</th>\n",
       "      <th>APR</th>\n",
       "      <th>MAY</th>\n",
       "      <th>JUN</th>\n",
       "      <th>JUL</th>\n",
       "      <th>AUG</th>\n",
       "      <th>SEP</th>\n",
       "      <th>OCT</th>\n",
       "      <th>NOV</th>\n",
       "      <th>DEC</th>\n",
       "      <th>ANNUAL</th>\n",
       "      <th>Jan-Feb</th>\n",
       "      <th>Mar-May</th>\n",
       "      <th>Jun-Sep</th>\n",
       "      <th>Oct-Dec</th>\n",
       "      <th>MEAN ANNUAL</th>\n",
       "    </tr>\n",
       "  </thead>\n",
       "  <tbody>\n",
       "    <tr>\n",
       "      <th>0</th>\n",
       "      <td>ANDAMAN &amp; NICOBAR ISLANDS</td>\n",
       "      <td>1901</td>\n",
       "      <td>49.2</td>\n",
       "      <td>87.1</td>\n",
       "      <td>29.2</td>\n",
       "      <td>2.3</td>\n",
       "      <td>528.8</td>\n",
       "      <td>517.5</td>\n",
       "      <td>365.1</td>\n",
       "      <td>481.1</td>\n",
       "      <td>332.6</td>\n",
       "      <td>388.5</td>\n",
       "      <td>558.2</td>\n",
       "      <td>33.6</td>\n",
       "      <td>3373.2</td>\n",
       "      <td>136.3</td>\n",
       "      <td>560.3</td>\n",
       "      <td>1696.3</td>\n",
       "      <td>980.3</td>\n",
       "      <td>2927.439423</td>\n",
       "    </tr>\n",
       "    <tr>\n",
       "      <th>1</th>\n",
       "      <td>ANDAMAN &amp; NICOBAR ISLANDS</td>\n",
       "      <td>1902</td>\n",
       "      <td>0.0</td>\n",
       "      <td>159.8</td>\n",
       "      <td>12.2</td>\n",
       "      <td>0.0</td>\n",
       "      <td>446.1</td>\n",
       "      <td>537.1</td>\n",
       "      <td>228.9</td>\n",
       "      <td>753.7</td>\n",
       "      <td>666.2</td>\n",
       "      <td>197.2</td>\n",
       "      <td>359.0</td>\n",
       "      <td>160.5</td>\n",
       "      <td>3520.7</td>\n",
       "      <td>159.8</td>\n",
       "      <td>458.3</td>\n",
       "      <td>2185.9</td>\n",
       "      <td>716.7</td>\n",
       "      <td>2927.439423</td>\n",
       "    </tr>\n",
       "    <tr>\n",
       "      <th>2</th>\n",
       "      <td>ANDAMAN &amp; NICOBAR ISLANDS</td>\n",
       "      <td>1903</td>\n",
       "      <td>12.7</td>\n",
       "      <td>144.0</td>\n",
       "      <td>0.0</td>\n",
       "      <td>1.0</td>\n",
       "      <td>235.1</td>\n",
       "      <td>479.9</td>\n",
       "      <td>728.4</td>\n",
       "      <td>326.7</td>\n",
       "      <td>339.0</td>\n",
       "      <td>181.2</td>\n",
       "      <td>284.4</td>\n",
       "      <td>225.0</td>\n",
       "      <td>2957.4</td>\n",
       "      <td>156.7</td>\n",
       "      <td>236.1</td>\n",
       "      <td>1874.0</td>\n",
       "      <td>690.6</td>\n",
       "      <td>2927.439423</td>\n",
       "    </tr>\n",
       "    <tr>\n",
       "      <th>3</th>\n",
       "      <td>ANDAMAN &amp; NICOBAR ISLANDS</td>\n",
       "      <td>1904</td>\n",
       "      <td>9.4</td>\n",
       "      <td>14.7</td>\n",
       "      <td>0.0</td>\n",
       "      <td>202.4</td>\n",
       "      <td>304.5</td>\n",
       "      <td>495.1</td>\n",
       "      <td>502.0</td>\n",
       "      <td>160.1</td>\n",
       "      <td>820.4</td>\n",
       "      <td>222.2</td>\n",
       "      <td>308.7</td>\n",
       "      <td>40.1</td>\n",
       "      <td>3079.6</td>\n",
       "      <td>24.1</td>\n",
       "      <td>506.9</td>\n",
       "      <td>1977.6</td>\n",
       "      <td>571.0</td>\n",
       "      <td>2927.439423</td>\n",
       "    </tr>\n",
       "    <tr>\n",
       "      <th>4</th>\n",
       "      <td>ANDAMAN &amp; NICOBAR ISLANDS</td>\n",
       "      <td>1905</td>\n",
       "      <td>1.3</td>\n",
       "      <td>0.0</td>\n",
       "      <td>3.3</td>\n",
       "      <td>26.9</td>\n",
       "      <td>279.5</td>\n",
       "      <td>628.7</td>\n",
       "      <td>368.7</td>\n",
       "      <td>330.5</td>\n",
       "      <td>297.0</td>\n",
       "      <td>260.7</td>\n",
       "      <td>25.4</td>\n",
       "      <td>344.7</td>\n",
       "      <td>2566.7</td>\n",
       "      <td>1.3</td>\n",
       "      <td>309.7</td>\n",
       "      <td>1624.9</td>\n",
       "      <td>630.8</td>\n",
       "      <td>2927.439423</td>\n",
       "    </tr>\n",
       "  </tbody>\n",
       "</table>\n",
       "</div>"
      ],
      "text/plain": [
       "                 SUBDIVISION  YEAR   JAN    FEB   MAR    APR    MAY    JUN  \\\n",
       "0  ANDAMAN & NICOBAR ISLANDS  1901  49.2   87.1  29.2    2.3  528.8  517.5   \n",
       "1  ANDAMAN & NICOBAR ISLANDS  1902   0.0  159.8  12.2    0.0  446.1  537.1   \n",
       "2  ANDAMAN & NICOBAR ISLANDS  1903  12.7  144.0   0.0    1.0  235.1  479.9   \n",
       "3  ANDAMAN & NICOBAR ISLANDS  1904   9.4   14.7   0.0  202.4  304.5  495.1   \n",
       "4  ANDAMAN & NICOBAR ISLANDS  1905   1.3    0.0   3.3   26.9  279.5  628.7   \n",
       "\n",
       "     JUL    AUG    SEP    OCT    NOV    DEC  ANNUAL  Jan-Feb  Mar-May  \\\n",
       "0  365.1  481.1  332.6  388.5  558.2   33.6  3373.2    136.3    560.3   \n",
       "1  228.9  753.7  666.2  197.2  359.0  160.5  3520.7    159.8    458.3   \n",
       "2  728.4  326.7  339.0  181.2  284.4  225.0  2957.4    156.7    236.1   \n",
       "3  502.0  160.1  820.4  222.2  308.7   40.1  3079.6     24.1    506.9   \n",
       "4  368.7  330.5  297.0  260.7   25.4  344.7  2566.7      1.3    309.7   \n",
       "\n",
       "   Jun-Sep  Oct-Dec  MEAN ANNUAL  \n",
       "0   1696.3    980.3  2927.439423  \n",
       "1   2185.9    716.7  2927.439423  \n",
       "2   1874.0    690.6  2927.439423  \n",
       "3   1977.6    571.0  2927.439423  \n",
       "4   1624.9    630.8  2927.439423  "
      ]
     },
     "execution_count": 201,
     "metadata": {},
     "output_type": "execute_result"
    }
   ],
   "source": [
    "df.head()"
   ]
  },
  {
   "cell_type": "markdown",
   "id": "155f328e",
   "metadata": {},
   "source": [
    "# Creating a new column as Prediction which predicts 'flood', if annual rainfall is 25% greater than mean of annual rainfall of that subdivision, if 25% lesser than the the mean of annual rainfall of that subdivision, predict \"drought\" if otherwise 'normal'"
   ]
  },
  {
   "cell_type": "code",
   "execution_count": 202,
   "id": "cda96642",
   "metadata": {},
   "outputs": [],
   "source": [
    "#Creating a new column as Prediction which predicts flood as yes(1) if sum of monthly rainfall is greater than 25% of the mean of annual rainfall of that subdivision and no(0) if otherwise\n",
    "df.loc[df['ANNUAL']>=(df['MEAN ANNUAL']*125/100),'Prediction']=\"Flood\"\n",
    "df.loc[df['ANNUAL']<=(df['MEAN ANNUAL']*75/100),'Prediction']=\"Drought\"\n",
    "df['Prediction'].fillna('Normal', inplace=True)"
   ]
  },
  {
   "cell_type": "code",
   "execution_count": 203,
   "id": "66532616",
   "metadata": {},
   "outputs": [
    {
     "data": {
      "text/html": [
       "<div>\n",
       "<style scoped>\n",
       "    .dataframe tbody tr th:only-of-type {\n",
       "        vertical-align: middle;\n",
       "    }\n",
       "\n",
       "    .dataframe tbody tr th {\n",
       "        vertical-align: top;\n",
       "    }\n",
       "\n",
       "    .dataframe thead th {\n",
       "        text-align: right;\n",
       "    }\n",
       "</style>\n",
       "<table border=\"1\" class=\"dataframe\">\n",
       "  <thead>\n",
       "    <tr style=\"text-align: right;\">\n",
       "      <th></th>\n",
       "      <th>SUBDIVISION</th>\n",
       "      <th>YEAR</th>\n",
       "      <th>JAN</th>\n",
       "      <th>FEB</th>\n",
       "      <th>MAR</th>\n",
       "      <th>APR</th>\n",
       "      <th>MAY</th>\n",
       "      <th>JUN</th>\n",
       "      <th>JUL</th>\n",
       "      <th>AUG</th>\n",
       "      <th>...</th>\n",
       "      <th>OCT</th>\n",
       "      <th>NOV</th>\n",
       "      <th>DEC</th>\n",
       "      <th>ANNUAL</th>\n",
       "      <th>Jan-Feb</th>\n",
       "      <th>Mar-May</th>\n",
       "      <th>Jun-Sep</th>\n",
       "      <th>Oct-Dec</th>\n",
       "      <th>MEAN ANNUAL</th>\n",
       "      <th>Prediction</th>\n",
       "    </tr>\n",
       "  </thead>\n",
       "  <tbody>\n",
       "    <tr>\n",
       "      <th>0</th>\n",
       "      <td>ANDAMAN &amp; NICOBAR ISLANDS</td>\n",
       "      <td>1901</td>\n",
       "      <td>49.2</td>\n",
       "      <td>87.1</td>\n",
       "      <td>29.2</td>\n",
       "      <td>2.3</td>\n",
       "      <td>528.8</td>\n",
       "      <td>517.5</td>\n",
       "      <td>365.1</td>\n",
       "      <td>481.1</td>\n",
       "      <td>...</td>\n",
       "      <td>388.5</td>\n",
       "      <td>558.2</td>\n",
       "      <td>33.6</td>\n",
       "      <td>3373.2</td>\n",
       "      <td>136.3</td>\n",
       "      <td>560.3</td>\n",
       "      <td>1696.3</td>\n",
       "      <td>980.3</td>\n",
       "      <td>2927.439423</td>\n",
       "      <td>Normal</td>\n",
       "    </tr>\n",
       "    <tr>\n",
       "      <th>1</th>\n",
       "      <td>ANDAMAN &amp; NICOBAR ISLANDS</td>\n",
       "      <td>1902</td>\n",
       "      <td>0.0</td>\n",
       "      <td>159.8</td>\n",
       "      <td>12.2</td>\n",
       "      <td>0.0</td>\n",
       "      <td>446.1</td>\n",
       "      <td>537.1</td>\n",
       "      <td>228.9</td>\n",
       "      <td>753.7</td>\n",
       "      <td>...</td>\n",
       "      <td>197.2</td>\n",
       "      <td>359.0</td>\n",
       "      <td>160.5</td>\n",
       "      <td>3520.7</td>\n",
       "      <td>159.8</td>\n",
       "      <td>458.3</td>\n",
       "      <td>2185.9</td>\n",
       "      <td>716.7</td>\n",
       "      <td>2927.439423</td>\n",
       "      <td>Normal</td>\n",
       "    </tr>\n",
       "    <tr>\n",
       "      <th>2</th>\n",
       "      <td>ANDAMAN &amp; NICOBAR ISLANDS</td>\n",
       "      <td>1903</td>\n",
       "      <td>12.7</td>\n",
       "      <td>144.0</td>\n",
       "      <td>0.0</td>\n",
       "      <td>1.0</td>\n",
       "      <td>235.1</td>\n",
       "      <td>479.9</td>\n",
       "      <td>728.4</td>\n",
       "      <td>326.7</td>\n",
       "      <td>...</td>\n",
       "      <td>181.2</td>\n",
       "      <td>284.4</td>\n",
       "      <td>225.0</td>\n",
       "      <td>2957.4</td>\n",
       "      <td>156.7</td>\n",
       "      <td>236.1</td>\n",
       "      <td>1874.0</td>\n",
       "      <td>690.6</td>\n",
       "      <td>2927.439423</td>\n",
       "      <td>Normal</td>\n",
       "    </tr>\n",
       "    <tr>\n",
       "      <th>3</th>\n",
       "      <td>ANDAMAN &amp; NICOBAR ISLANDS</td>\n",
       "      <td>1904</td>\n",
       "      <td>9.4</td>\n",
       "      <td>14.7</td>\n",
       "      <td>0.0</td>\n",
       "      <td>202.4</td>\n",
       "      <td>304.5</td>\n",
       "      <td>495.1</td>\n",
       "      <td>502.0</td>\n",
       "      <td>160.1</td>\n",
       "      <td>...</td>\n",
       "      <td>222.2</td>\n",
       "      <td>308.7</td>\n",
       "      <td>40.1</td>\n",
       "      <td>3079.6</td>\n",
       "      <td>24.1</td>\n",
       "      <td>506.9</td>\n",
       "      <td>1977.6</td>\n",
       "      <td>571.0</td>\n",
       "      <td>2927.439423</td>\n",
       "      <td>Normal</td>\n",
       "    </tr>\n",
       "    <tr>\n",
       "      <th>4</th>\n",
       "      <td>ANDAMAN &amp; NICOBAR ISLANDS</td>\n",
       "      <td>1905</td>\n",
       "      <td>1.3</td>\n",
       "      <td>0.0</td>\n",
       "      <td>3.3</td>\n",
       "      <td>26.9</td>\n",
       "      <td>279.5</td>\n",
       "      <td>628.7</td>\n",
       "      <td>368.7</td>\n",
       "      <td>330.5</td>\n",
       "      <td>...</td>\n",
       "      <td>260.7</td>\n",
       "      <td>25.4</td>\n",
       "      <td>344.7</td>\n",
       "      <td>2566.7</td>\n",
       "      <td>1.3</td>\n",
       "      <td>309.7</td>\n",
       "      <td>1624.9</td>\n",
       "      <td>630.8</td>\n",
       "      <td>2927.439423</td>\n",
       "      <td>Normal</td>\n",
       "    </tr>\n",
       "  </tbody>\n",
       "</table>\n",
       "<p>5 rows × 21 columns</p>\n",
       "</div>"
      ],
      "text/plain": [
       "                 SUBDIVISION  YEAR   JAN    FEB   MAR    APR    MAY    JUN  \\\n",
       "0  ANDAMAN & NICOBAR ISLANDS  1901  49.2   87.1  29.2    2.3  528.8  517.5   \n",
       "1  ANDAMAN & NICOBAR ISLANDS  1902   0.0  159.8  12.2    0.0  446.1  537.1   \n",
       "2  ANDAMAN & NICOBAR ISLANDS  1903  12.7  144.0   0.0    1.0  235.1  479.9   \n",
       "3  ANDAMAN & NICOBAR ISLANDS  1904   9.4   14.7   0.0  202.4  304.5  495.1   \n",
       "4  ANDAMAN & NICOBAR ISLANDS  1905   1.3    0.0   3.3   26.9  279.5  628.7   \n",
       "\n",
       "     JUL    AUG  ...    OCT    NOV    DEC  ANNUAL  Jan-Feb  Mar-May  Jun-Sep  \\\n",
       "0  365.1  481.1  ...  388.5  558.2   33.6  3373.2    136.3    560.3   1696.3   \n",
       "1  228.9  753.7  ...  197.2  359.0  160.5  3520.7    159.8    458.3   2185.9   \n",
       "2  728.4  326.7  ...  181.2  284.4  225.0  2957.4    156.7    236.1   1874.0   \n",
       "3  502.0  160.1  ...  222.2  308.7   40.1  3079.6     24.1    506.9   1977.6   \n",
       "4  368.7  330.5  ...  260.7   25.4  344.7  2566.7      1.3    309.7   1624.9   \n",
       "\n",
       "   Oct-Dec  MEAN ANNUAL  Prediction  \n",
       "0    980.3  2927.439423      Normal  \n",
       "1    716.7  2927.439423      Normal  \n",
       "2    690.6  2927.439423      Normal  \n",
       "3    571.0  2927.439423      Normal  \n",
       "4    630.8  2927.439423      Normal  \n",
       "\n",
       "[5 rows x 21 columns]"
      ]
     },
     "execution_count": 203,
     "metadata": {},
     "output_type": "execute_result"
    }
   ],
   "source": [
    "df.head()"
   ]
  },
  {
   "cell_type": "code",
   "execution_count": 157,
   "id": "18ff2f9c",
   "metadata": {},
   "outputs": [
    {
     "data": {
      "text/plain": [
       "3"
      ]
     },
     "execution_count": 157,
     "metadata": {},
     "output_type": "execute_result"
    }
   ],
   "source": [
    "df.Prediction.nunique()"
   ]
  },
  {
   "cell_type": "code",
   "execution_count": 158,
   "id": "4b213491",
   "metadata": {},
   "outputs": [
    {
     "data": {
      "text/plain": [
       "Normal     3296\n",
       "Flood       419\n",
       "Drought     401\n",
       "Name: Prediction, dtype: int64"
      ]
     },
     "execution_count": 158,
     "metadata": {},
     "output_type": "execute_result"
    }
   ],
   "source": [
    "df['Prediction'].value_counts()"
   ]
  },
  {
   "cell_type": "markdown",
   "id": "eefea485",
   "metadata": {},
   "source": [
    "Missing value identification and handling Numeric Data: Imputing with Mean/Median/Mode/Backward fill/ Forward fill. Null values are replaced with mean/median.mode in this method. The mean of the numerical column data is used to replace null values when the data is normally distributed. Median is used if the data comprised of outliers. Mode is used when the data having more occurences of a particular value or more frequent value.\n",
    "\n",
    "\n",
    "Categorical Data Replacing those null values with most frequent value among them"
   ]
  },
  {
   "cell_type": "code",
   "execution_count": 159,
   "id": "1390a15f",
   "metadata": {},
   "outputs": [
    {
     "data": {
      "text/plain": [
       "SUBDIVISION     0\n",
       "YEAR            0\n",
       "JAN             4\n",
       "FEB             3\n",
       "MAR             6\n",
       "APR             4\n",
       "MAY             3\n",
       "JUN             5\n",
       "JUL             7\n",
       "AUG             4\n",
       "SEP             6\n",
       "OCT             7\n",
       "NOV            11\n",
       "DEC            10\n",
       "ANNUAL         26\n",
       "Jan-Feb         6\n",
       "Mar-May         9\n",
       "Jun-Sep        10\n",
       "Oct-Dec        13\n",
       "MEAN ANNUAL     0\n",
       "Prediction      0\n",
       "dtype: int64"
      ]
     },
     "execution_count": 159,
     "metadata": {},
     "output_type": "execute_result"
    }
   ],
   "source": [
    "df.isna().sum()"
   ]
  },
  {
   "cell_type": "code",
   "execution_count": 160,
   "id": "d4130c81",
   "metadata": {},
   "outputs": [
    {
     "data": {
      "image/png": "[encoded data removed]",
      "text/plain": [
       "<Figure size 1440x1080 with 20 Axes>"
      ]
     },
     "metadata": {
      "needs_background": "light"
     },
     "output_type": "display_data"
    }
   ],
   "source": [
    "freqgraph=df[df['SUBDIVISION']=='ANDAMAN & NICOBAR ISLANDS']\n",
    "freqgraph.hist(figsize=(20,15))\n",
    "plt.show()"
   ]
  },
  {
   "cell_type": "code",
   "execution_count": 161,
   "id": "4bb4246e",
   "metadata": {},
   "outputs": [
    {
     "data": {
      "image/png": "[encoded data removed]",
      "text/plain": [
       "<Figure size 1440x1080 with 20 Axes>"
      ]
     },
     "metadata": {
      "needs_background": "light"
     },
     "output_type": "display_data"
    }
   ],
   "source": [
    "freqgraph=df[df['SUBDIVISION']=='LAKSHADWEEP']\n",
    "freqgraph.hist(figsize=(20,15))\n",
    "plt.show()"
   ]
  },
  {
   "cell_type": "code",
   "execution_count": 204,
   "id": "178b2338",
   "metadata": {},
   "outputs": [],
   "source": [
    "for x in df['SUBDIVISION'].unique():\n",
    "    for i in ['JAN']:\n",
    "        df[i]=df[i].fillna(df[df['SUBDIVISION']==x]['JAN'].mean()) \n",
    "    for i in ['FEB']:\n",
    "        df[i]=df[i].fillna(df[df['SUBDIVISION']==x]['FEB'].mean()) \n",
    "    for i in ['MAR']:\n",
    "        df[i]=df[i].fillna(df[df['SUBDIVISION']==x]['MAR'].mean())\n",
    "    for i in ['APR']:\n",
    "        df[i]=df[i].fillna(df[df['SUBDIVISION']==x]['APR'].mean()) \n",
    "    for i in ['MAY']:\n",
    "        df[i]=df[i].fillna(df[df['SUBDIVISION']==x]['MAY'].mean()) \n",
    "    for i in ['JUN']:\n",
    "        df[i]=df[i].fillna(df[df['SUBDIVISION']==x]['JUN'].mean()) \n",
    "    for i in ['JUL']:\n",
    "        df[i]=df[i].fillna(df[df['SUBDIVISION']==x]['JUL'].mean()) \n",
    "    for i in ['AUG']:\n",
    "        df[i]=df[i].fillna(df[df['SUBDIVISION']==x]['AUG'].mean()) \n",
    "    for i in ['SEP']:\n",
    "        df[i]=df[i].fillna(df[df['SUBDIVISION']==x]['SEP'].mean())\n",
    "    for i in ['OCT']:\n",
    "        df[i]=df[i].fillna(df[df['SUBDIVISION']==x]['OCT'].mean()) \n",
    "    for i in ['NOV']:\n",
    "        df[i]=df[i].fillna(df[df['SUBDIVISION']==x]['NOV'].mean()) \n",
    "    for i in ['DEC']:\n",
    "        df[i]=df[i].fillna(df[df['SUBDIVISION']==x]['DEC'].mean()) \n",
    "    for i in ['ANNUAL']:\n",
    "        df[i]=df[i].fillna(df[df['SUBDIVISION']==x]['ANNUAL'].mean()) \n",
    "    for i in ['Jan-Feb']:\n",
    "        df[i]=df[i].fillna(df[df['SUBDIVISION']==x]['Jan-Feb'].mean())\n",
    "    for i in ['Mar-May']:\n",
    "        df[i]=df[i].fillna(df[df['SUBDIVISION']==x]['Mar-May'].mean()) \n",
    "    for i in ['Jun-Sep']:\n",
    "        df[i]=df[i].fillna(df[df['SUBDIVISION']==x]['Jun-Sep'].mean()) \n",
    "    for i in ['Oct-Dec']:\n",
    "        df[i]=df[i].fillna(df[df['SUBDIVISION']==x]['Oct-Dec'].mean()) "
   ]
  },
  {
   "cell_type": "code",
   "execution_count": 205,
   "id": "5b49e6dc",
   "metadata": {},
   "outputs": [
    {
     "data": {
      "text/plain": [
       "SUBDIVISION    0\n",
       "YEAR           0\n",
       "JAN            0\n",
       "FEB            0\n",
       "MAR            0\n",
       "APR            0\n",
       "MAY            0\n",
       "JUN            0\n",
       "JUL            0\n",
       "AUG            0\n",
       "SEP            0\n",
       "OCT            0\n",
       "NOV            0\n",
       "DEC            0\n",
       "ANNUAL         0\n",
       "Jan-Feb        0\n",
       "Mar-May        0\n",
       "Jun-Sep        0\n",
       "Oct-Dec        0\n",
       "MEAN ANNUAL    0\n",
       "Prediction     0\n",
       "dtype: int64"
      ]
     },
     "execution_count": 205,
     "metadata": {},
     "output_type": "execute_result"
    }
   ],
   "source": [
    "df.isna().sum()"
   ]
  },
  {
   "cell_type": "markdown",
   "id": "743df588",
   "metadata": {},
   "source": [
    "# Exploratory data Analysis"
   ]
  },
  {
   "cell_type": "code",
   "execution_count": 164,
   "id": "7104b93b",
   "metadata": {},
   "outputs": [
    {
     "data": {
      "text/plain": [
       "Index(['SUBDIVISION', 'YEAR', 'JAN', 'FEB', 'MAR', 'APR', 'MAY', 'JUN', 'JUL',\n",
       "       'AUG', 'SEP', 'OCT', 'NOV', 'DEC', 'ANNUAL', 'Jan-Feb', 'Mar-May',\n",
       "       'Jun-Sep', 'Oct-Dec', 'MEAN ANNUAL', 'Prediction'],\n",
       "      dtype='object')"
      ]
     },
     "execution_count": 164,
     "metadata": {},
     "output_type": "execute_result"
    }
   ],
   "source": [
    "df.columns"
   ]
  },
  {
   "cell_type": "markdown",
   "id": "f7a6c011",
   "metadata": {},
   "source": [
    "# Highest Rainfall ever received in a year in Subdivisions"
   ]
  },
  {
   "cell_type": "code",
   "execution_count": 165,
   "id": "d07ea1d3",
   "metadata": {},
   "outputs": [
    {
     "data": {
      "image/png": "[encoded data removed]",
      "text/plain": [
       "<Figure size 1080x576 with 1 Axes>"
      ]
     },
     "metadata": {
      "needs_background": "light"
     },
     "output_type": "display_data"
    }
   ],
   "source": [
    "plt.figure(figsize=(15,8))\n",
    "df.groupby(['SUBDIVISION','YEAR'])['ANNUAL'].sum().sort_values(ascending=False).plot()\n",
    "\n",
    "plt.grid()\n",
    "plt.xlabel(\"Subdivision,Year\",fontsize=15)\n",
    "plt.ylabel(\"Annual Rainfall received\",fontsize=15)\n",
    "plt.title('Highest Rainfall year Data of Subdivisions',fontsize=20);\n"
   ]
  },
  {
   "cell_type": "markdown",
   "id": "bd71acd5",
   "metadata": {},
   "source": [
    "Insight:\n",
    "\n",
    "Here, the plot represents the analysis of the highest amount of annual rainfall recieved in the states , over the span of years from 1901-2015. From here, we can infer that the highest amount of rainfall ever received in span of given data is in year 1948, in the state Arunachal Pradesh.\n"
   ]
  },
  {
   "cell_type": "markdown",
   "id": "7267b5ba",
   "metadata": {},
   "source": [
    "# Total amount of rainfall recieved overall by each subdivision"
   ]
  },
  {
   "cell_type": "code",
   "execution_count": 166,
   "id": "083b45ee",
   "metadata": {},
   "outputs": [
    {
     "data": {
      "image/png": "[encoded data removed]",
      "text/plain": [
       "<Figure size 1080x720 with 1 Axes>"
      ]
     },
     "metadata": {
      "needs_background": "light"
     },
     "output_type": "display_data"
    }
   ],
   "source": [
    "plt.figure(figsize=(15,10))\n",
    "df.groupby(['SUBDIVISION'])['ANNUAL'].sum().sort_values(ascending=False).head(15).plot(kind='bar', color = 'purple')\n",
    "plt.ylabel('Total Rainfall')\n",
    "plt.title('Total Rainfall Data',fontsize=20)\n",
    "plt.grid();"
   ]
  },
  {
   "cell_type": "markdown",
   "id": "2d38185d",
   "metadata": {},
   "source": [
    "Insight:\n",
    "\n",
    "Here, the plot represents the analysis of the total amount of annual rainfall recieved in the subdivisions , over the total span of years from 1901-2017. From here, we can infer that the highest amount of rainfall receiving state overall is Coastal Karnataka\n"
   ]
  },
  {
   "cell_type": "markdown",
   "id": "dd4fd6f3",
   "metadata": {},
   "source": [
    "# The month with the hightest rainfall"
   ]
  },
  {
   "cell_type": "code",
   "execution_count": 167,
   "id": "46618365",
   "metadata": {},
   "outputs": [
    {
     "data": {
      "image/png": "[encoded data removed]",
      "text/plain": [
       "<Figure size 720x504 with 1 Axes>"
      ]
     },
     "metadata": {
      "needs_background": "light"
     },
     "output_type": "display_data"
    }
   ],
   "source": [
    "plt.figure(figsize=(10,7))\n",
    "df[['JAN', 'FEB', 'MAR', 'APR', 'MAY', 'JUN', 'JUL', 'AUG',\n",
    "       'SEP', 'OCT', 'NOV', 'DEC']].mean().plot(kind= 'bar', color='pink')\n",
    "plt.xlabel('Months',fontsize=15)\n",
    "plt.ylabel('Avg. Rainfall',fontsize=15)\n",
    "plt.title('Avg. Monthly Rainfall Data',fontsize=25)\n",
    "plt.grid()\n",
    "plt.show();"
   ]
  },
  {
   "cell_type": "markdown",
   "id": "163ad293",
   "metadata": {},
   "source": [
    "Insight:\n",
    "\n",
    "From graph, we analysed July has the most rainfall on average. By contrast, December and Jan have the least rainfall. Moreover, there are many differences in rainfall amount among months."
   ]
  },
  {
   "cell_type": "markdown",
   "id": "92637ffe",
   "metadata": {},
   "source": [
    "# Seasonwise Rainfall in India"
   ]
  },
  {
   "cell_type": "code",
   "execution_count": 168,
   "id": "47f76dc0",
   "metadata": {},
   "outputs": [
    {
     "data": {
      "text/plain": [
       "<Figure size 720x144 with 0 Axes>"
      ]
     },
     "metadata": {},
     "output_type": "display_data"
    },
    {
     "data": {
      "image/png": "[encoded data removed]",
      "text/plain": [
       "<Figure size 1152x576 with 1 Axes>"
      ]
     },
     "metadata": {
      "needs_background": "light"
     },
     "output_type": "display_data"
    }
   ],
   "source": [
    "plt.figure(figsize=(10,2))\n",
    "df[['SUBDIVISION', 'Jan-Feb', 'Mar-May', 'Jun-Sep', 'Oct-Dec']].groupby('SUBDIVISION').mean().sort_values('Jun-Sep').plot.bar(width=0.5,edgecolor='k',align='center',stacked=True,figsize=(16,8));\n",
    "plt.xlabel('SUBDIVISION',fontsize=15)\n",
    "plt.ylabel('Rainfall (in mm)',fontsize=15)\n",
    "plt.title('Rainfall in Subdivisions of India',fontsize=25)\n",
    "plt.grid();"
   ]
  },
  {
   "cell_type": "markdown",
   "id": "869dffdb",
   "metadata": {},
   "source": [
    "Insight:\n",
    "\n",
    "The above graph depicts the average rainfall received in each season in varous subdivisions of India. From here, we can conclude about the highest rainfall receiving state of India and can see that in which season our country receives the highest rainfall, which results to be Jun-Sept and thus we sorted the graph according to average amount lof rainfall in this season."
   ]
  },
  {
   "cell_type": "markdown",
   "id": "591f9934",
   "metadata": {},
   "source": [
    "# Box Plot of Annual Rainfall in Subdivisions of India"
   ]
  },
  {
   "cell_type": "code",
   "execution_count": 169,
   "id": "de510b39",
   "metadata": {},
   "outputs": [
    {
     "data": {
      "image/png": "[encoded data removed]",
      "text/plain": [
       "<Figure size 1440x720 with 1 Axes>"
      ]
     },
     "metadata": {
      "needs_background": "light"
     },
     "output_type": "display_data"
    }
   ],
   "source": [
    "plt.rcParams['figure.figsize']=(20,10)\n",
    "ax = sns.boxplot(x=\"SUBDIVISION\", y=\"ANNUAL\", data=df, width=0.8,linewidth=3);\n",
    "ax.set_xlabel('SUBDIVISION',fontsize=20)\n",
    "ax.set_ylabel('Annual Rainfall (in mm)',fontsize=20)\n",
    "plt.title('Annual Rainfall in Subdivisions of India',fontsize=30)\n",
    "ax.tick_params(axis='x',labelsize=10,rotation=90)\n",
    "ax.tick_params(axis='y',labelsize=10,rotation=0)\n",
    "plt.grid();"
   ]
  },
  {
   "cell_type": "markdown",
   "id": "6bfc7733",
   "metadata": {},
   "source": [
    "Insights:\n",
    "\n",
    "From here, we can see that Arunachal Pradesh has recorded maximum rainfall annually but its median is similar to Coastal Karnataka, which means their average of total annual rainfall over years is approximately same, but the highest ever rainfall in a year is received by Arunachal Pradesh."
   ]
  },
  {
   "cell_type": "markdown",
   "id": "cd2db6ae",
   "metadata": {},
   "source": [
    "# Yearly Rainfall visualized in ascending order"
   ]
  },
  {
   "cell_type": "code",
   "execution_count": 170,
   "id": "5a9ea8b7",
   "metadata": {},
   "outputs": [
    {
     "data": {
      "image/png": "[encoded data removed]",
      "text/plain": [
       "<Figure size 1440x576 with 1 Axes>"
      ]
     },
     "metadata": {
      "needs_background": "light"
     },
     "output_type": "display_data"
    }
   ],
   "source": [
    "yearly_rainfall = df.groupby(['YEAR']).sum()\n",
    "x1 = yearly_rainfall.sort_values('ANNUAL')\n",
    "fig = plt.figure(figsize=(20, 8))\n",
    "ax = plt.xticks(rotation=90)\n",
    "ax = x1['ANNUAL'].plot.bar(color=['red', 'pink', 'darkred'], edgecolor = 'black')\n",
    "ax = plt.title('Highest and Lowest rainfalls')"
   ]
  },
  {
   "cell_type": "markdown",
   "id": "b92e2d33",
   "metadata": {},
   "source": [
    "Inference: 1972 and 2002 were the years with least amount of rainfall. 1917 and 1961 were the years with highest rainfall."
   ]
  },
  {
   "cell_type": "markdown",
   "id": "4896a45e",
   "metadata": {},
   "source": [
    "# Frequency of Flood and Drought during June-September"
   ]
  },
  {
   "cell_type": "code",
   "execution_count": 171,
   "id": "391ad70e",
   "metadata": {},
   "outputs": [
    {
     "data": {
      "image/png": "[encoded data removed]",
      "text/plain": [
       "<Figure size 1440x720 with 1 Axes>"
      ]
     },
     "metadata": {
      "needs_background": "light"
     },
     "output_type": "display_data"
    }
   ],
   "source": [
    "y1=list(df['Prediction'])\n",
    "x1=list(df['Jun-Sep'])\n",
    "plt.plot(y1,x1,'*')\n",
    "plt.show()"
   ]
  },
  {
   "cell_type": "markdown",
   "id": "e94083e9",
   "metadata": {},
   "source": [
    "Inference: \n",
    "    The frequency of flood is higher during the season June-September compared to drought"
   ]
  },
  {
   "cell_type": "markdown",
   "id": "f59d7803",
   "metadata": {},
   "source": [
    "# India Flood Time Line"
   ]
  },
  {
   "cell_type": "code",
   "execution_count": 172,
   "id": "785b5a9d",
   "metadata": {},
   "outputs": [
    {
     "data": {
      "text/html": [
       "<div>\n",
       "<style scoped>\n",
       "    .dataframe tbody tr th:only-of-type {\n",
       "        vertical-align: middle;\n",
       "    }\n",
       "\n",
       "    .dataframe tbody tr th {\n",
       "        vertical-align: top;\n",
       "    }\n",
       "\n",
       "    .dataframe thead th {\n",
       "        text-align: right;\n",
       "    }\n",
       "</style>\n",
       "<table border=\"1\" class=\"dataframe\">\n",
       "  <thead>\n",
       "    <tr style=\"text-align: right;\">\n",
       "      <th></th>\n",
       "      <th>SUBDIVISION</th>\n",
       "      <th>YEAR</th>\n",
       "      <th>JAN</th>\n",
       "      <th>FEB</th>\n",
       "      <th>MAR</th>\n",
       "      <th>APR</th>\n",
       "      <th>MAY</th>\n",
       "      <th>JUN</th>\n",
       "      <th>JUL</th>\n",
       "      <th>AUG</th>\n",
       "      <th>...</th>\n",
       "      <th>OCT</th>\n",
       "      <th>NOV</th>\n",
       "      <th>DEC</th>\n",
       "      <th>ANNUAL</th>\n",
       "      <th>Jan-Feb</th>\n",
       "      <th>Mar-May</th>\n",
       "      <th>Jun-Sep</th>\n",
       "      <th>Oct-Dec</th>\n",
       "      <th>MEAN ANNUAL</th>\n",
       "      <th>Prediction</th>\n",
       "    </tr>\n",
       "  </thead>\n",
       "  <tbody>\n",
       "    <tr>\n",
       "      <th>32</th>\n",
       "      <td>ANDAMAN &amp; NICOBAR ISLANDS</td>\n",
       "      <td>1934</td>\n",
       "      <td>7.3</td>\n",
       "      <td>172.9</td>\n",
       "      <td>6.9</td>\n",
       "      <td>131.4</td>\n",
       "      <td>62.0</td>\n",
       "      <td>708.4</td>\n",
       "      <td>323.5</td>\n",
       "      <td>924.9</td>\n",
       "      <td>...</td>\n",
       "      <td>338.1</td>\n",
       "      <td>240.2</td>\n",
       "      <td>46.1</td>\n",
       "      <td>3722.8</td>\n",
       "      <td>180.2</td>\n",
       "      <td>200.3</td>\n",
       "      <td>2717.9</td>\n",
       "      <td>624.4</td>\n",
       "      <td>2927.439423</td>\n",
       "      <td>Flood</td>\n",
       "    </tr>\n",
       "    <tr>\n",
       "      <th>55</th>\n",
       "      <td>ANDAMAN &amp; NICOBAR ISLANDS</td>\n",
       "      <td>1961</td>\n",
       "      <td>82.1</td>\n",
       "      <td>99.4</td>\n",
       "      <td>33.2</td>\n",
       "      <td>88.1</td>\n",
       "      <td>973.1</td>\n",
       "      <td>383.3</td>\n",
       "      <td>304.9</td>\n",
       "      <td>557.1</td>\n",
       "      <td>...</td>\n",
       "      <td>379.9</td>\n",
       "      <td>280.6</td>\n",
       "      <td>144.5</td>\n",
       "      <td>3938.2</td>\n",
       "      <td>181.5</td>\n",
       "      <td>1094.5</td>\n",
       "      <td>1857.3</td>\n",
       "      <td>805.0</td>\n",
       "      <td>2927.439423</td>\n",
       "      <td>Flood</td>\n",
       "    </tr>\n",
       "    <tr>\n",
       "      <th>105</th>\n",
       "      <td>ANDAMAN &amp; NICOBAR ISLANDS</td>\n",
       "      <td>2011</td>\n",
       "      <td>265.9</td>\n",
       "      <td>84.8</td>\n",
       "      <td>272.8</td>\n",
       "      <td>111.4</td>\n",
       "      <td>326.5</td>\n",
       "      <td>383.2</td>\n",
       "      <td>583.2</td>\n",
       "      <td>441.5</td>\n",
       "      <td>...</td>\n",
       "      <td>212.3</td>\n",
       "      <td>150.8</td>\n",
       "      <td>238.5</td>\n",
       "      <td>3828.0</td>\n",
       "      <td>350.7</td>\n",
       "      <td>710.7</td>\n",
       "      <td>2165.0</td>\n",
       "      <td>601.6</td>\n",
       "      <td>2927.439423</td>\n",
       "      <td>Flood</td>\n",
       "    </tr>\n",
       "    <tr>\n",
       "      <th>107</th>\n",
       "      <td>ANDAMAN &amp; NICOBAR ISLANDS</td>\n",
       "      <td>2013</td>\n",
       "      <td>67.1</td>\n",
       "      <td>37.6</td>\n",
       "      <td>43.0</td>\n",
       "      <td>46.3</td>\n",
       "      <td>509.3</td>\n",
       "      <td>777.0</td>\n",
       "      <td>564.8</td>\n",
       "      <td>336.7</td>\n",
       "      <td>...</td>\n",
       "      <td>455.8</td>\n",
       "      <td>354.2</td>\n",
       "      <td>92.3</td>\n",
       "      <td>3757.8</td>\n",
       "      <td>104.7</td>\n",
       "      <td>598.6</td>\n",
       "      <td>2152.1</td>\n",
       "      <td>902.4</td>\n",
       "      <td>2927.439423</td>\n",
       "      <td>Flood</td>\n",
       "    </tr>\n",
       "    <tr>\n",
       "      <th>112</th>\n",
       "      <td>ARUNACHAL PRADESH</td>\n",
       "      <td>1918</td>\n",
       "      <td>10.4</td>\n",
       "      <td>11.0</td>\n",
       "      <td>191.2</td>\n",
       "      <td>144.6</td>\n",
       "      <td>861.1</td>\n",
       "      <td>1609.9</td>\n",
       "      <td>1303.0</td>\n",
       "      <td>692.6</td>\n",
       "      <td>...</td>\n",
       "      <td>125.2</td>\n",
       "      <td>7.8</td>\n",
       "      <td>13.7</td>\n",
       "      <td>5486.3</td>\n",
       "      <td>21.4</td>\n",
       "      <td>1196.9</td>\n",
       "      <td>4121.3</td>\n",
       "      <td>146.7</td>\n",
       "      <td>3418.857143</td>\n",
       "      <td>Flood</td>\n",
       "    </tr>\n",
       "  </tbody>\n",
       "</table>\n",
       "<p>5 rows × 21 columns</p>\n",
       "</div>"
      ],
      "text/plain": [
       "                   SUBDIVISION  YEAR    JAN    FEB    MAR    APR    MAY  \\\n",
       "32   ANDAMAN & NICOBAR ISLANDS  1934    7.3  172.9    6.9  131.4   62.0   \n",
       "55   ANDAMAN & NICOBAR ISLANDS  1961   82.1   99.4   33.2   88.1  973.1   \n",
       "105  ANDAMAN & NICOBAR ISLANDS  2011  265.9   84.8  272.8  111.4  326.5   \n",
       "107  ANDAMAN & NICOBAR ISLANDS  2013   67.1   37.6   43.0   46.3  509.3   \n",
       "112          ARUNACHAL PRADESH  1918   10.4   11.0  191.2  144.6  861.1   \n",
       "\n",
       "        JUN     JUL    AUG  ...    OCT    NOV    DEC  ANNUAL  Jan-Feb  \\\n",
       "32    708.4   323.5  924.9  ...  338.1  240.2   46.1  3722.8    180.2   \n",
       "55    383.3   304.9  557.1  ...  379.9  280.6  144.5  3938.2    181.5   \n",
       "105   383.2   583.2  441.5  ...  212.3  150.8  238.5  3828.0    350.7   \n",
       "107   777.0   564.8  336.7  ...  455.8  354.2   92.3  3757.8    104.7   \n",
       "112  1609.9  1303.0  692.6  ...  125.2    7.8   13.7  5486.3     21.4   \n",
       "\n",
       "     Mar-May  Jun-Sep  Oct-Dec  MEAN ANNUAL  Prediction  \n",
       "32     200.3   2717.9    624.4  2927.439423       Flood  \n",
       "55    1094.5   1857.3    805.0  2927.439423       Flood  \n",
       "105    710.7   2165.0    601.6  2927.439423       Flood  \n",
       "107    598.6   2152.1    902.4  2927.439423       Flood  \n",
       "112   1196.9   4121.3    146.7  3418.857143       Flood  \n",
       "\n",
       "[5 rows x 21 columns]"
      ]
     },
     "execution_count": 172,
     "metadata": {},
     "output_type": "execute_result"
    }
   ],
   "source": [
    "india_flood_df= df[df['Prediction']=='Flood']\n",
    "india_flood_df.head()"
   ]
  },
  {
   "cell_type": "code",
   "execution_count": 173,
   "id": "93a05e27",
   "metadata": {},
   "outputs": [
    {
     "data": {
      "text/plain": [
       "<AxesSubplot:xlabel='YEAR', ylabel='ANNUAL'>"
      ]
     },
     "execution_count": 173,
     "metadata": {},
     "output_type": "execute_result"
    },
    {
     "data": {
      "image/png": "[encoded data removed]",
      "text/plain": [
       "<Figure size 1296x432 with 1 Axes>"
      ]
     },
     "metadata": {
      "needs_background": "light"
     },
     "output_type": "display_data"
    }
   ],
   "source": [
    "# plotting a bar graph\n",
    "from matplotlib import rcParams\n",
    "\n",
    "rcParams['figure.figsize'] = 18,6\n",
    "\n",
    "plt.xticks(rotation=90)\n",
    "sns.barplot(x ='YEAR', y ='ANNUAL', data = india_flood_df, \n",
    "            palette ='plasma')"
   ]
  },
  {
   "cell_type": "markdown",
   "id": "60e3016d",
   "metadata": {},
   "source": [
    "Inference: Taking in to account of all subdivisions, India suffered most number of floods during the year 1918 "
   ]
  },
  {
   "cell_type": "markdown",
   "id": "cb7ff66e",
   "metadata": {},
   "source": [
    "# India Drought Time Line"
   ]
  },
  {
   "cell_type": "code",
   "execution_count": 174,
   "id": "3d90c098",
   "metadata": {},
   "outputs": [
    {
     "data": {
      "text/html": [
       "<div>\n",
       "<style scoped>\n",
       "    .dataframe tbody tr th:only-of-type {\n",
       "        vertical-align: middle;\n",
       "    }\n",
       "\n",
       "    .dataframe tbody tr th {\n",
       "        vertical-align: top;\n",
       "    }\n",
       "\n",
       "    .dataframe thead th {\n",
       "        text-align: right;\n",
       "    }\n",
       "</style>\n",
       "<table border=\"1\" class=\"dataframe\">\n",
       "  <thead>\n",
       "    <tr style=\"text-align: right;\">\n",
       "      <th></th>\n",
       "      <th>SUBDIVISION</th>\n",
       "      <th>YEAR</th>\n",
       "      <th>JAN</th>\n",
       "      <th>FEB</th>\n",
       "      <th>MAR</th>\n",
       "      <th>APR</th>\n",
       "      <th>MAY</th>\n",
       "      <th>JUN</th>\n",
       "      <th>JUL</th>\n",
       "      <th>AUG</th>\n",
       "      <th>...</th>\n",
       "      <th>OCT</th>\n",
       "      <th>NOV</th>\n",
       "      <th>DEC</th>\n",
       "      <th>ANNUAL</th>\n",
       "      <th>Jan-Feb</th>\n",
       "      <th>Mar-May</th>\n",
       "      <th>Jun-Sep</th>\n",
       "      <th>Oct-Dec</th>\n",
       "      <th>MEAN ANNUAL</th>\n",
       "      <th>Prediction</th>\n",
       "    </tr>\n",
       "  </thead>\n",
       "  <tbody>\n",
       "    <tr>\n",
       "      <th>73</th>\n",
       "      <td>ANDAMAN &amp; NICOBAR ISLANDS</td>\n",
       "      <td>1979</td>\n",
       "      <td>35.5</td>\n",
       "      <td>9.4</td>\n",
       "      <td>3.9</td>\n",
       "      <td>64.8</td>\n",
       "      <td>146.3</td>\n",
       "      <td>282.8</td>\n",
       "      <td>455.9</td>\n",
       "      <td>173.6</td>\n",
       "      <td>...</td>\n",
       "      <td>163.5</td>\n",
       "      <td>169.8</td>\n",
       "      <td>13.6</td>\n",
       "      <td>1849.4</td>\n",
       "      <td>44.9</td>\n",
       "      <td>215.0</td>\n",
       "      <td>1242.5</td>\n",
       "      <td>347.0</td>\n",
       "      <td>2927.439423</td>\n",
       "      <td>Drought</td>\n",
       "    </tr>\n",
       "    <tr>\n",
       "      <th>80</th>\n",
       "      <td>ANDAMAN &amp; NICOBAR ISLANDS</td>\n",
       "      <td>1986</td>\n",
       "      <td>14.8</td>\n",
       "      <td>0.6</td>\n",
       "      <td>1.5</td>\n",
       "      <td>8.2</td>\n",
       "      <td>302.6</td>\n",
       "      <td>312.2</td>\n",
       "      <td>308.5</td>\n",
       "      <td>444.0</td>\n",
       "      <td>...</td>\n",
       "      <td>176.1</td>\n",
       "      <td>163.5</td>\n",
       "      <td>47.0</td>\n",
       "      <td>2187.8</td>\n",
       "      <td>15.4</td>\n",
       "      <td>312.3</td>\n",
       "      <td>1473.6</td>\n",
       "      <td>386.5</td>\n",
       "      <td>2927.439423</td>\n",
       "      <td>Drought</td>\n",
       "    </tr>\n",
       "    <tr>\n",
       "      <th>84</th>\n",
       "      <td>ANDAMAN &amp; NICOBAR ISLANDS</td>\n",
       "      <td>1990</td>\n",
       "      <td>13.4</td>\n",
       "      <td>0.2</td>\n",
       "      <td>24.6</td>\n",
       "      <td>87.5</td>\n",
       "      <td>424.6</td>\n",
       "      <td>291.0</td>\n",
       "      <td>213.2</td>\n",
       "      <td>293.3</td>\n",
       "      <td>...</td>\n",
       "      <td>133.6</td>\n",
       "      <td>291.1</td>\n",
       "      <td>100.3</td>\n",
       "      <td>2183.4</td>\n",
       "      <td>13.6</td>\n",
       "      <td>536.8</td>\n",
       "      <td>1108.0</td>\n",
       "      <td>525.1</td>\n",
       "      <td>2927.439423</td>\n",
       "      <td>Drought</td>\n",
       "    </tr>\n",
       "    <tr>\n",
       "      <th>86</th>\n",
       "      <td>ANDAMAN &amp; NICOBAR ISLANDS</td>\n",
       "      <td>1992</td>\n",
       "      <td>75.9</td>\n",
       "      <td>10.9</td>\n",
       "      <td>0.0</td>\n",
       "      <td>5.1</td>\n",
       "      <td>241.7</td>\n",
       "      <td>392.0</td>\n",
       "      <td>348.2</td>\n",
       "      <td>372.3</td>\n",
       "      <td>...</td>\n",
       "      <td>257.3</td>\n",
       "      <td>64.3</td>\n",
       "      <td>7.2</td>\n",
       "      <td>2098.7</td>\n",
       "      <td>86.8</td>\n",
       "      <td>246.8</td>\n",
       "      <td>1436.2</td>\n",
       "      <td>328.8</td>\n",
       "      <td>2927.439423</td>\n",
       "      <td>Drought</td>\n",
       "    </tr>\n",
       "    <tr>\n",
       "      <th>146</th>\n",
       "      <td>ARUNACHAL PRADESH</td>\n",
       "      <td>1952</td>\n",
       "      <td>17.2</td>\n",
       "      <td>24.5</td>\n",
       "      <td>189.6</td>\n",
       "      <td>151.5</td>\n",
       "      <td>235.1</td>\n",
       "      <td>276.8</td>\n",
       "      <td>320.6</td>\n",
       "      <td>481.1</td>\n",
       "      <td>...</td>\n",
       "      <td>257.9</td>\n",
       "      <td>43.9</td>\n",
       "      <td>29.7</td>\n",
       "      <td>2396.1</td>\n",
       "      <td>41.7</td>\n",
       "      <td>576.2</td>\n",
       "      <td>1446.7</td>\n",
       "      <td>331.5</td>\n",
       "      <td>3418.857143</td>\n",
       "      <td>Drought</td>\n",
       "    </tr>\n",
       "  </tbody>\n",
       "</table>\n",
       "<p>5 rows × 21 columns</p>\n",
       "</div>"
      ],
      "text/plain": [
       "                   SUBDIVISION  YEAR   JAN   FEB    MAR    APR    MAY    JUN  \\\n",
       "73   ANDAMAN & NICOBAR ISLANDS  1979  35.5   9.4    3.9   64.8  146.3  282.8   \n",
       "80   ANDAMAN & NICOBAR ISLANDS  1986  14.8   0.6    1.5    8.2  302.6  312.2   \n",
       "84   ANDAMAN & NICOBAR ISLANDS  1990  13.4   0.2   24.6   87.5  424.6  291.0   \n",
       "86   ANDAMAN & NICOBAR ISLANDS  1992  75.9  10.9    0.0    5.1  241.7  392.0   \n",
       "146          ARUNACHAL PRADESH  1952  17.2  24.5  189.6  151.5  235.1  276.8   \n",
       "\n",
       "       JUL    AUG  ...    OCT    NOV    DEC  ANNUAL  Jan-Feb  Mar-May  \\\n",
       "73   455.9  173.6  ...  163.5  169.8   13.6  1849.4     44.9    215.0   \n",
       "80   308.5  444.0  ...  176.1  163.5   47.0  2187.8     15.4    312.3   \n",
       "84   213.2  293.3  ...  133.6  291.1  100.3  2183.4     13.6    536.8   \n",
       "86   348.2  372.3  ...  257.3   64.3    7.2  2098.7     86.8    246.8   \n",
       "146  320.6  481.1  ...  257.9   43.9   29.7  2396.1     41.7    576.2   \n",
       "\n",
       "     Jun-Sep  Oct-Dec  MEAN ANNUAL  Prediction  \n",
       "73    1242.5    347.0  2927.439423     Drought  \n",
       "80    1473.6    386.5  2927.439423     Drought  \n",
       "84    1108.0    525.1  2927.439423     Drought  \n",
       "86    1436.2    328.8  2927.439423     Drought  \n",
       "146   1446.7    331.5  3418.857143     Drought  \n",
       "\n",
       "[5 rows x 21 columns]"
      ]
     },
     "execution_count": 174,
     "metadata": {},
     "output_type": "execute_result"
    }
   ],
   "source": [
    "india_drought_df= df[df['Prediction']=='Drought']\n",
    "india_drought_df.head()"
   ]
  },
  {
   "cell_type": "code",
   "execution_count": 175,
   "id": "b487e74e",
   "metadata": {},
   "outputs": [
    {
     "data": {
      "text/plain": [
       "<AxesSubplot:xlabel='YEAR', ylabel='ANNUAL'>"
      ]
     },
     "execution_count": 175,
     "metadata": {},
     "output_type": "execute_result"
    },
    {
     "data": {
      "image/png": "[encoded data removed]",
      "text/plain": [
       "<Figure size 1296x432 with 1 Axes>"
      ]
     },
     "metadata": {
      "needs_background": "light"
     },
     "output_type": "display_data"
    }
   ],
   "source": [
    "# plotting a bar graph\n",
    "from matplotlib import rcParams\n",
    "\n",
    "rcParams['figure.figsize'] = 18,6\n",
    "\n",
    "plt.xticks(rotation=90)\n",
    "sns.barplot(x ='YEAR', y ='ANNUAL', data = india_drought_df, \n",
    "            palette ='plasma')"
   ]
  },
  {
   "cell_type": "markdown",
   "id": "6b929afc",
   "metadata": {},
   "source": [
    "Inference: Taking in to account of all subdivisions, India suffered most number of droughts during the years 1978 & 1996 "
   ]
  },
  {
   "cell_type": "markdown",
   "id": "3862e4f5",
   "metadata": {},
   "source": [
    "# Kerala Flood Time Line"
   ]
  },
  {
   "cell_type": "code",
   "execution_count": 176,
   "id": "de9c00ab",
   "metadata": {},
   "outputs": [
    {
     "data": {
      "text/html": [
       "<div>\n",
       "<style scoped>\n",
       "    .dataframe tbody tr th:only-of-type {\n",
       "        vertical-align: middle;\n",
       "    }\n",
       "\n",
       "    .dataframe tbody tr th {\n",
       "        vertical-align: top;\n",
       "    }\n",
       "\n",
       "    .dataframe thead th {\n",
       "        text-align: right;\n",
       "    }\n",
       "</style>\n",
       "<table border=\"1\" class=\"dataframe\">\n",
       "  <thead>\n",
       "    <tr style=\"text-align: right;\">\n",
       "      <th></th>\n",
       "      <th>SUBDIVISION</th>\n",
       "      <th>YEAR</th>\n",
       "      <th>JAN</th>\n",
       "      <th>FEB</th>\n",
       "      <th>MAR</th>\n",
       "      <th>APR</th>\n",
       "      <th>MAY</th>\n",
       "      <th>JUN</th>\n",
       "      <th>JUL</th>\n",
       "      <th>AUG</th>\n",
       "      <th>...</th>\n",
       "      <th>OCT</th>\n",
       "      <th>NOV</th>\n",
       "      <th>DEC</th>\n",
       "      <th>ANNUAL</th>\n",
       "      <th>Jan-Feb</th>\n",
       "      <th>Mar-May</th>\n",
       "      <th>Jun-Sep</th>\n",
       "      <th>Oct-Dec</th>\n",
       "      <th>MEAN ANNUAL</th>\n",
       "      <th>Prediction</th>\n",
       "    </tr>\n",
       "  </thead>\n",
       "  <tbody>\n",
       "    <tr>\n",
       "      <th>3887</th>\n",
       "      <td>KERALA</td>\n",
       "      <td>1901</td>\n",
       "      <td>28.7</td>\n",
       "      <td>44.7</td>\n",
       "      <td>51.6</td>\n",
       "      <td>160.0</td>\n",
       "      <td>174.7</td>\n",
       "      <td>824.6</td>\n",
       "      <td>743.0</td>\n",
       "      <td>357.5</td>\n",
       "      <td>...</td>\n",
       "      <td>266.9</td>\n",
       "      <td>350.8</td>\n",
       "      <td>48.4</td>\n",
       "      <td>3248.6</td>\n",
       "      <td>73.4</td>\n",
       "      <td>386.2</td>\n",
       "      <td>2122.8</td>\n",
       "      <td>666.1</td>\n",
       "      <td>2925.487826</td>\n",
       "      <td>Normal</td>\n",
       "    </tr>\n",
       "    <tr>\n",
       "      <th>3888</th>\n",
       "      <td>KERALA</td>\n",
       "      <td>1902</td>\n",
       "      <td>6.7</td>\n",
       "      <td>2.6</td>\n",
       "      <td>57.3</td>\n",
       "      <td>83.9</td>\n",
       "      <td>134.5</td>\n",
       "      <td>390.9</td>\n",
       "      <td>1205.0</td>\n",
       "      <td>315.8</td>\n",
       "      <td>...</td>\n",
       "      <td>358.4</td>\n",
       "      <td>158.3</td>\n",
       "      <td>121.5</td>\n",
       "      <td>3326.6</td>\n",
       "      <td>9.3</td>\n",
       "      <td>275.7</td>\n",
       "      <td>2403.4</td>\n",
       "      <td>638.2</td>\n",
       "      <td>2925.487826</td>\n",
       "      <td>Normal</td>\n",
       "    </tr>\n",
       "    <tr>\n",
       "      <th>3889</th>\n",
       "      <td>KERALA</td>\n",
       "      <td>1903</td>\n",
       "      <td>3.2</td>\n",
       "      <td>18.6</td>\n",
       "      <td>3.1</td>\n",
       "      <td>83.6</td>\n",
       "      <td>249.7</td>\n",
       "      <td>558.6</td>\n",
       "      <td>1022.5</td>\n",
       "      <td>420.2</td>\n",
       "      <td>...</td>\n",
       "      <td>354.1</td>\n",
       "      <td>157.0</td>\n",
       "      <td>59.0</td>\n",
       "      <td>3271.2</td>\n",
       "      <td>21.7</td>\n",
       "      <td>336.3</td>\n",
       "      <td>2343.0</td>\n",
       "      <td>570.1</td>\n",
       "      <td>2925.487826</td>\n",
       "      <td>Normal</td>\n",
       "    </tr>\n",
       "    <tr>\n",
       "      <th>3890</th>\n",
       "      <td>KERALA</td>\n",
       "      <td>1904</td>\n",
       "      <td>23.7</td>\n",
       "      <td>3.0</td>\n",
       "      <td>32.2</td>\n",
       "      <td>71.5</td>\n",
       "      <td>235.7</td>\n",
       "      <td>1098.2</td>\n",
       "      <td>725.5</td>\n",
       "      <td>351.8</td>\n",
       "      <td>...</td>\n",
       "      <td>328.1</td>\n",
       "      <td>33.9</td>\n",
       "      <td>3.3</td>\n",
       "      <td>3129.7</td>\n",
       "      <td>26.7</td>\n",
       "      <td>339.4</td>\n",
       "      <td>2398.2</td>\n",
       "      <td>365.3</td>\n",
       "      <td>2925.487826</td>\n",
       "      <td>Normal</td>\n",
       "    </tr>\n",
       "    <tr>\n",
       "      <th>3891</th>\n",
       "      <td>KERALA</td>\n",
       "      <td>1905</td>\n",
       "      <td>1.2</td>\n",
       "      <td>22.3</td>\n",
       "      <td>9.4</td>\n",
       "      <td>105.9</td>\n",
       "      <td>263.3</td>\n",
       "      <td>850.2</td>\n",
       "      <td>520.5</td>\n",
       "      <td>293.6</td>\n",
       "      <td>...</td>\n",
       "      <td>383.5</td>\n",
       "      <td>74.4</td>\n",
       "      <td>0.2</td>\n",
       "      <td>2741.6</td>\n",
       "      <td>23.4</td>\n",
       "      <td>378.5</td>\n",
       "      <td>1881.5</td>\n",
       "      <td>458.1</td>\n",
       "      <td>2925.487826</td>\n",
       "      <td>Normal</td>\n",
       "    </tr>\n",
       "  </tbody>\n",
       "</table>\n",
       "<p>5 rows × 21 columns</p>\n",
       "</div>"
      ],
      "text/plain": [
       "     SUBDIVISION  YEAR   JAN   FEB   MAR    APR    MAY     JUN     JUL    AUG  \\\n",
       "3887      KERALA  1901  28.7  44.7  51.6  160.0  174.7   824.6   743.0  357.5   \n",
       "3888      KERALA  1902   6.7   2.6  57.3   83.9  134.5   390.9  1205.0  315.8   \n",
       "3889      KERALA  1903   3.2  18.6   3.1   83.6  249.7   558.6  1022.5  420.2   \n",
       "3890      KERALA  1904  23.7   3.0  32.2   71.5  235.7  1098.2   725.5  351.8   \n",
       "3891      KERALA  1905   1.2  22.3   9.4  105.9  263.3   850.2   520.5  293.6   \n",
       "\n",
       "      ...    OCT    NOV    DEC  ANNUAL  Jan-Feb  Mar-May  Jun-Sep  Oct-Dec  \\\n",
       "3887  ...  266.9  350.8   48.4  3248.6     73.4    386.2   2122.8    666.1   \n",
       "3888  ...  358.4  158.3  121.5  3326.6      9.3    275.7   2403.4    638.2   \n",
       "3889  ...  354.1  157.0   59.0  3271.2     21.7    336.3   2343.0    570.1   \n",
       "3890  ...  328.1   33.9    3.3  3129.7     26.7    339.4   2398.2    365.3   \n",
       "3891  ...  383.5   74.4    0.2  2741.6     23.4    378.5   1881.5    458.1   \n",
       "\n",
       "      MEAN ANNUAL  Prediction  \n",
       "3887  2925.487826      Normal  \n",
       "3888  2925.487826      Normal  \n",
       "3889  2925.487826      Normal  \n",
       "3890  2925.487826      Normal  \n",
       "3891  2925.487826      Normal  \n",
       "\n",
       "[5 rows x 21 columns]"
      ]
     },
     "execution_count": 176,
     "metadata": {},
     "output_type": "execute_result"
    }
   ],
   "source": [
    "df2=df.query(\"SUBDIVISION == 'KERALA'\")\n",
    "df2.head()"
   ]
  },
  {
   "cell_type": "code",
   "execution_count": 177,
   "id": "cc224479",
   "metadata": {},
   "outputs": [
    {
     "data": {
      "text/html": [
       "<div>\n",
       "<style scoped>\n",
       "    .dataframe tbody tr th:only-of-type {\n",
       "        vertical-align: middle;\n",
       "    }\n",
       "\n",
       "    .dataframe tbody tr th {\n",
       "        vertical-align: top;\n",
       "    }\n",
       "\n",
       "    .dataframe thead th {\n",
       "        text-align: right;\n",
       "    }\n",
       "</style>\n",
       "<table border=\"1\" class=\"dataframe\">\n",
       "  <thead>\n",
       "    <tr style=\"text-align: right;\">\n",
       "      <th></th>\n",
       "      <th>SUBDIVISION</th>\n",
       "      <th>YEAR</th>\n",
       "      <th>JAN</th>\n",
       "      <th>FEB</th>\n",
       "      <th>MAR</th>\n",
       "      <th>APR</th>\n",
       "      <th>MAY</th>\n",
       "      <th>JUN</th>\n",
       "      <th>JUL</th>\n",
       "      <th>AUG</th>\n",
       "      <th>...</th>\n",
       "      <th>OCT</th>\n",
       "      <th>NOV</th>\n",
       "      <th>DEC</th>\n",
       "      <th>ANNUAL</th>\n",
       "      <th>Jan-Feb</th>\n",
       "      <th>Mar-May</th>\n",
       "      <th>Jun-Sep</th>\n",
       "      <th>Oct-Dec</th>\n",
       "      <th>MEAN ANNUAL</th>\n",
       "      <th>Prediction</th>\n",
       "    </tr>\n",
       "  </thead>\n",
       "  <tbody>\n",
       "    <tr>\n",
       "      <th>3893</th>\n",
       "      <td>KERALA</td>\n",
       "      <td>1907</td>\n",
       "      <td>18.8</td>\n",
       "      <td>4.8</td>\n",
       "      <td>55.7</td>\n",
       "      <td>170.8</td>\n",
       "      <td>101.4</td>\n",
       "      <td>770.9</td>\n",
       "      <td>760.4</td>\n",
       "      <td>981.5</td>\n",
       "      <td>...</td>\n",
       "      <td>309.7</td>\n",
       "      <td>219.1</td>\n",
       "      <td>52.8</td>\n",
       "      <td>3671.1</td>\n",
       "      <td>23.7</td>\n",
       "      <td>328.0</td>\n",
       "      <td>2737.8</td>\n",
       "      <td>581.7</td>\n",
       "      <td>2925.487826</td>\n",
       "      <td>Flood</td>\n",
       "    </tr>\n",
       "    <tr>\n",
       "      <th>3910</th>\n",
       "      <td>KERALA</td>\n",
       "      <td>1924</td>\n",
       "      <td>19.3</td>\n",
       "      <td>2.9</td>\n",
       "      <td>66.6</td>\n",
       "      <td>111.0</td>\n",
       "      <td>185.4</td>\n",
       "      <td>1011.7</td>\n",
       "      <td>1526.5</td>\n",
       "      <td>624.0</td>\n",
       "      <td>...</td>\n",
       "      <td>176.5</td>\n",
       "      <td>162.9</td>\n",
       "      <td>50.4</td>\n",
       "      <td>4226.4</td>\n",
       "      <td>22.2</td>\n",
       "      <td>363.0</td>\n",
       "      <td>3451.3</td>\n",
       "      <td>389.9</td>\n",
       "      <td>2925.487826</td>\n",
       "      <td>Flood</td>\n",
       "    </tr>\n",
       "    <tr>\n",
       "      <th>3919</th>\n",
       "      <td>KERALA</td>\n",
       "      <td>1933</td>\n",
       "      <td>1.0</td>\n",
       "      <td>9.3</td>\n",
       "      <td>36.9</td>\n",
       "      <td>139.5</td>\n",
       "      <td>738.8</td>\n",
       "      <td>859.3</td>\n",
       "      <td>773.4</td>\n",
       "      <td>479.5</td>\n",
       "      <td>...</td>\n",
       "      <td>397.0</td>\n",
       "      <td>126.1</td>\n",
       "      <td>42.3</td>\n",
       "      <td>4072.9</td>\n",
       "      <td>10.3</td>\n",
       "      <td>915.2</td>\n",
       "      <td>2581.9</td>\n",
       "      <td>565.5</td>\n",
       "      <td>2925.487826</td>\n",
       "      <td>Flood</td>\n",
       "    </tr>\n",
       "    <tr>\n",
       "      <th>3945</th>\n",
       "      <td>KERALA</td>\n",
       "      <td>1959</td>\n",
       "      <td>3.0</td>\n",
       "      <td>21.4</td>\n",
       "      <td>6.3</td>\n",
       "      <td>150.7</td>\n",
       "      <td>347.2</td>\n",
       "      <td>872.8</td>\n",
       "      <td>1155.7</td>\n",
       "      <td>397.3</td>\n",
       "      <td>...</td>\n",
       "      <td>200.4</td>\n",
       "      <td>151.9</td>\n",
       "      <td>34.0</td>\n",
       "      <td>3746.0</td>\n",
       "      <td>24.3</td>\n",
       "      <td>504.2</td>\n",
       "      <td>2831.2</td>\n",
       "      <td>386.3</td>\n",
       "      <td>2925.487826</td>\n",
       "      <td>Flood</td>\n",
       "    </tr>\n",
       "    <tr>\n",
       "      <th>3947</th>\n",
       "      <td>KERALA</td>\n",
       "      <td>1961</td>\n",
       "      <td>13.7</td>\n",
       "      <td>31.3</td>\n",
       "      <td>11.4</td>\n",
       "      <td>94.1</td>\n",
       "      <td>500.5</td>\n",
       "      <td>1005.2</td>\n",
       "      <td>1146.5</td>\n",
       "      <td>678.3</td>\n",
       "      <td>...</td>\n",
       "      <td>274.2</td>\n",
       "      <td>85.9</td>\n",
       "      <td>17.5</td>\n",
       "      <td>4257.8</td>\n",
       "      <td>45.0</td>\n",
       "      <td>606.0</td>\n",
       "      <td>3229.3</td>\n",
       "      <td>377.6</td>\n",
       "      <td>2925.487826</td>\n",
       "      <td>Flood</td>\n",
       "    </tr>\n",
       "  </tbody>\n",
       "</table>\n",
       "<p>5 rows × 21 columns</p>\n",
       "</div>"
      ],
      "text/plain": [
       "     SUBDIVISION  YEAR   JAN   FEB   MAR    APR    MAY     JUN     JUL    AUG  \\\n",
       "3893      KERALA  1907  18.8   4.8  55.7  170.8  101.4   770.9   760.4  981.5   \n",
       "3910      KERALA  1924  19.3   2.9  66.6  111.0  185.4  1011.7  1526.5  624.0   \n",
       "3919      KERALA  1933   1.0   9.3  36.9  139.5  738.8   859.3   773.4  479.5   \n",
       "3945      KERALA  1959   3.0  21.4   6.3  150.7  347.2   872.8  1155.7  397.3   \n",
       "3947      KERALA  1961  13.7  31.3  11.4   94.1  500.5  1005.2  1146.5  678.3   \n",
       "\n",
       "      ...    OCT    NOV   DEC  ANNUAL  Jan-Feb  Mar-May  Jun-Sep  Oct-Dec  \\\n",
       "3893  ...  309.7  219.1  52.8  3671.1     23.7    328.0   2737.8    581.7   \n",
       "3910  ...  176.5  162.9  50.4  4226.4     22.2    363.0   3451.3    389.9   \n",
       "3919  ...  397.0  126.1  42.3  4072.9     10.3    915.2   2581.9    565.5   \n",
       "3945  ...  200.4  151.9  34.0  3746.0     24.3    504.2   2831.2    386.3   \n",
       "3947  ...  274.2   85.9  17.5  4257.8     45.0    606.0   3229.3    377.6   \n",
       "\n",
       "      MEAN ANNUAL  Prediction  \n",
       "3893  2925.487826       Flood  \n",
       "3910  2925.487826       Flood  \n",
       "3919  2925.487826       Flood  \n",
       "3945  2925.487826       Flood  \n",
       "3947  2925.487826       Flood  \n",
       "\n",
       "[5 rows x 21 columns]"
      ]
     },
     "execution_count": 177,
     "metadata": {},
     "output_type": "execute_result"
    }
   ],
   "source": [
    "kerala_flood_df= df2[df2['Prediction']=='Flood']\n",
    "kerala_flood_df.head()"
   ]
  },
  {
   "cell_type": "code",
   "execution_count": 178,
   "id": "567b0734",
   "metadata": {},
   "outputs": [
    {
     "data": {
      "text/plain": [
       "<AxesSubplot:xlabel='YEAR', ylabel='ANNUAL'>"
      ]
     },
     "execution_count": 178,
     "metadata": {},
     "output_type": "execute_result"
    },
    {
     "data": {
      "image/png": "[encoded data removed]",
      "text/plain": [
       "<Figure size 720x432 with 1 Axes>"
      ]
     },
     "metadata": {
      "needs_background": "light"
     },
     "output_type": "display_data"
    }
   ],
   "source": [
    "# plotting a bar graph\n",
    "from matplotlib import rcParams\n",
    "\n",
    "rcParams['figure.figsize'] = 10,6\n",
    "plt.xticks(rotation=90)\n",
    "\n",
    "sns.barplot(x ='YEAR', y ='ANNUAL', data = kerala_flood_df, \n",
    "            palette ='plasma')"
   ]
  },
  {
   "cell_type": "markdown",
   "id": "a44d567f",
   "metadata": {},
   "source": [
    "Inference: The above graph depicts the years when Kerala experienced severe Flood during the time span of 110 years starting from 1905 to 2015 ie. 1917,19324,1933,1959 and 1961. The year 1924 & 1961 seems to be the worst hit."
   ]
  },
  {
   "cell_type": "markdown",
   "id": "fb995f4f",
   "metadata": {},
   "source": [
    "# Kerala Flood Time Line"
   ]
  },
  {
   "cell_type": "code",
   "execution_count": 179,
   "id": "4791a557",
   "metadata": {},
   "outputs": [
    {
     "data": {
      "text/html": [
       "<div>\n",
       "<style scoped>\n",
       "    .dataframe tbody tr th:only-of-type {\n",
       "        vertical-align: middle;\n",
       "    }\n",
       "\n",
       "    .dataframe tbody tr th {\n",
       "        vertical-align: top;\n",
       "    }\n",
       "\n",
       "    .dataframe thead th {\n",
       "        text-align: right;\n",
       "    }\n",
       "</style>\n",
       "<table border=\"1\" class=\"dataframe\">\n",
       "  <thead>\n",
       "    <tr style=\"text-align: right;\">\n",
       "      <th></th>\n",
       "      <th>SUBDIVISION</th>\n",
       "      <th>YEAR</th>\n",
       "      <th>JAN</th>\n",
       "      <th>FEB</th>\n",
       "      <th>MAR</th>\n",
       "      <th>APR</th>\n",
       "      <th>MAY</th>\n",
       "      <th>JUN</th>\n",
       "      <th>JUL</th>\n",
       "      <th>AUG</th>\n",
       "      <th>...</th>\n",
       "      <th>OCT</th>\n",
       "      <th>NOV</th>\n",
       "      <th>DEC</th>\n",
       "      <th>ANNUAL</th>\n",
       "      <th>Jan-Feb</th>\n",
       "      <th>Mar-May</th>\n",
       "      <th>Jun-Sep</th>\n",
       "      <th>Oct-Dec</th>\n",
       "      <th>MEAN ANNUAL</th>\n",
       "      <th>Prediction</th>\n",
       "    </tr>\n",
       "  </thead>\n",
       "  <tbody>\n",
       "    <tr>\n",
       "      <th>3962</th>\n",
       "      <td>KERALA</td>\n",
       "      <td>1976</td>\n",
       "      <td>0.1</td>\n",
       "      <td>1.5</td>\n",
       "      <td>21.0</td>\n",
       "      <td>134.5</td>\n",
       "      <td>75.8</td>\n",
       "      <td>196.8</td>\n",
       "      <td>641.5</td>\n",
       "      <td>342.6</td>\n",
       "      <td>...</td>\n",
       "      <td>221.3</td>\n",
       "      <td>286.7</td>\n",
       "      <td>30.8</td>\n",
       "      <td>2068.8</td>\n",
       "      <td>1.6</td>\n",
       "      <td>231.3</td>\n",
       "      <td>1297.1</td>\n",
       "      <td>538.8</td>\n",
       "      <td>2925.487826</td>\n",
       "      <td>Drought</td>\n",
       "    </tr>\n",
       "    <tr>\n",
       "      <th>3972</th>\n",
       "      <td>KERALA</td>\n",
       "      <td>1986</td>\n",
       "      <td>5.6</td>\n",
       "      <td>18.7</td>\n",
       "      <td>11.2</td>\n",
       "      <td>63.1</td>\n",
       "      <td>126.7</td>\n",
       "      <td>597.9</td>\n",
       "      <td>324.8</td>\n",
       "      <td>340.3</td>\n",
       "      <td>...</td>\n",
       "      <td>165.5</td>\n",
       "      <td>194.7</td>\n",
       "      <td>9.5</td>\n",
       "      <td>2093.2</td>\n",
       "      <td>24.3</td>\n",
       "      <td>200.9</td>\n",
       "      <td>1498.4</td>\n",
       "      <td>369.6</td>\n",
       "      <td>2925.487826</td>\n",
       "      <td>Drought</td>\n",
       "    </tr>\n",
       "    <tr>\n",
       "      <th>3973</th>\n",
       "      <td>KERALA</td>\n",
       "      <td>1987</td>\n",
       "      <td>0.6</td>\n",
       "      <td>0.8</td>\n",
       "      <td>4.3</td>\n",
       "      <td>57.2</td>\n",
       "      <td>108.3</td>\n",
       "      <td>572.6</td>\n",
       "      <td>221.0</td>\n",
       "      <td>396.6</td>\n",
       "      <td>...</td>\n",
       "      <td>272.1</td>\n",
       "      <td>216.0</td>\n",
       "      <td>131.1</td>\n",
       "      <td>2137.6</td>\n",
       "      <td>1.4</td>\n",
       "      <td>169.7</td>\n",
       "      <td>1347.2</td>\n",
       "      <td>619.2</td>\n",
       "      <td>2925.487826</td>\n",
       "      <td>Drought</td>\n",
       "    </tr>\n",
       "    <tr>\n",
       "      <th>3998</th>\n",
       "      <td>KERALA</td>\n",
       "      <td>2012</td>\n",
       "      <td>7.4</td>\n",
       "      <td>11.0</td>\n",
       "      <td>21.0</td>\n",
       "      <td>171.1</td>\n",
       "      <td>95.3</td>\n",
       "      <td>430.3</td>\n",
       "      <td>362.6</td>\n",
       "      <td>501.6</td>\n",
       "      <td>...</td>\n",
       "      <td>187.5</td>\n",
       "      <td>112.9</td>\n",
       "      <td>9.4</td>\n",
       "      <td>2151.1</td>\n",
       "      <td>18.3</td>\n",
       "      <td>287.4</td>\n",
       "      <td>1535.6</td>\n",
       "      <td>309.8</td>\n",
       "      <td>2925.487826</td>\n",
       "      <td>Drought</td>\n",
       "    </tr>\n",
       "  </tbody>\n",
       "</table>\n",
       "<p>4 rows × 21 columns</p>\n",
       "</div>"
      ],
      "text/plain": [
       "     SUBDIVISION  YEAR  JAN   FEB   MAR    APR    MAY    JUN    JUL    AUG  \\\n",
       "3962      KERALA  1976  0.1   1.5  21.0  134.5   75.8  196.8  641.5  342.6   \n",
       "3972      KERALA  1986  5.6  18.7  11.2   63.1  126.7  597.9  324.8  340.3   \n",
       "3973      KERALA  1987  0.6   0.8   4.3   57.2  108.3  572.6  221.0  396.6   \n",
       "3998      KERALA  2012  7.4  11.0  21.0  171.1   95.3  430.3  362.6  501.6   \n",
       "\n",
       "      ...    OCT    NOV    DEC  ANNUAL  Jan-Feb  Mar-May  Jun-Sep  Oct-Dec  \\\n",
       "3962  ...  221.3  286.7   30.8  2068.8      1.6    231.3   1297.1    538.8   \n",
       "3972  ...  165.5  194.7    9.5  2093.2     24.3    200.9   1498.4    369.6   \n",
       "3973  ...  272.1  216.0  131.1  2137.6      1.4    169.7   1347.2    619.2   \n",
       "3998  ...  187.5  112.9    9.4  2151.1     18.3    287.4   1535.6    309.8   \n",
       "\n",
       "      MEAN ANNUAL  Prediction  \n",
       "3962  2925.487826     Drought  \n",
       "3972  2925.487826     Drought  \n",
       "3973  2925.487826     Drought  \n",
       "3998  2925.487826     Drought  \n",
       "\n",
       "[4 rows x 21 columns]"
      ]
     },
     "execution_count": 179,
     "metadata": {},
     "output_type": "execute_result"
    }
   ],
   "source": [
    "kerala_drought_df= df2[df2['Prediction']=='Drought']\n",
    "kerala_drought_df.head()"
   ]
  },
  {
   "cell_type": "code",
   "execution_count": 180,
   "id": "00dd679a",
   "metadata": {},
   "outputs": [
    {
     "data": {
      "text/plain": [
       "<AxesSubplot:xlabel='YEAR', ylabel='ANNUAL'>"
      ]
     },
     "execution_count": 180,
     "metadata": {},
     "output_type": "execute_result"
    },
    {
     "data": {
      "image/png": "[encoded data removed]",
      "text/plain": [
       "<Figure size 720x576 with 1 Axes>"
      ]
     },
     "metadata": {
      "needs_background": "light"
     },
     "output_type": "display_data"
    }
   ],
   "source": [
    "# plotting a bar graph\n",
    "# plotting a bar graph\n",
    "from matplotlib import rcParams\n",
    "\n",
    "rcParams['figure.figsize'] = 10,8\n",
    "plt.xticks(rotation=90)\n",
    "\n",
    "sns.barplot(x ='YEAR', y ='ANNUAL', data = kerala_drought_df, \n",
    "            palette ='plasma')"
   ]
  },
  {
   "cell_type": "markdown",
   "id": "816b8088",
   "metadata": {},
   "source": [
    "Inference: The above graph depicts the years when Kerala experienced severe Drought during the time span of 110 years starting from 1905 to 2015 ie. 1976,1986,1987 and 2012. The year 2012 seems to be the worst hit."
   ]
  },
  {
   "cell_type": "markdown",
   "id": "188aa0fa",
   "metadata": {},
   "source": [
    "# Heat Map of Rainfall"
   ]
  },
  {
   "cell_type": "code",
   "execution_count": 180,
   "id": "a306fa10",
   "metadata": {},
   "outputs": [
    {
     "data": {
      "image/png": "[encoded data removed]",
      "text/plain": [
       "<Figure size 1080x1080 with 2 Axes>"
      ]
     },
     "metadata": {
      "needs_background": "light"
     },
     "output_type": "display_data"
    }
   ],
   "source": [
    "fig=plt.gcf()\n",
    "fig.set_size_inches(15,15)\n",
    "colormap=sns.color_palette('Greens')\n",
    "fig=sns.heatmap(df.corr(),annot=True,linewidths=1,linecolor='k',square=True,mask=False, vmin=-1, vmax=1,cbar_kws={\"orientation\": \"vertical\"},cbar=True,cmap=colormap)"
   ]
  },
  {
   "cell_type": "markdown",
   "id": "05e69949",
   "metadata": {},
   "source": [
    "Insight:\n",
    "\n",
    "From here, we can see that Annual rainfall has very high correlation to the rainfall received in the months of Jun-Sep. Also there is high correlation between seasonal rainfall(ie.'Jan-Feb', 'Mar-May', 'Jun-Sep', 'Oct-Dec') and corresponding months rainfall."
   ]
  },
  {
   "cell_type": "markdown",
   "id": "ffff2575",
   "metadata": {},
   "source": [
    "Highly correlated features are dropped"
   ]
  },
  {
   "cell_type": "code",
   "execution_count": 206,
   "id": "e6edf554",
   "metadata": {},
   "outputs": [
    {
     "data": {
      "text/html": [
       "<div>\n",
       "<style scoped>\n",
       "    .dataframe tbody tr th:only-of-type {\n",
       "        vertical-align: middle;\n",
       "    }\n",
       "\n",
       "    .dataframe tbody tr th {\n",
       "        vertical-align: top;\n",
       "    }\n",
       "\n",
       "    .dataframe thead th {\n",
       "        text-align: right;\n",
       "    }\n",
       "</style>\n",
       "<table border=\"1\" class=\"dataframe\">\n",
       "  <thead>\n",
       "    <tr style=\"text-align: right;\">\n",
       "      <th></th>\n",
       "      <th>SUBDIVISION</th>\n",
       "      <th>YEAR</th>\n",
       "      <th>JAN</th>\n",
       "      <th>FEB</th>\n",
       "      <th>MAR</th>\n",
       "      <th>APR</th>\n",
       "      <th>MAY</th>\n",
       "      <th>JUN</th>\n",
       "      <th>JUL</th>\n",
       "      <th>AUG</th>\n",
       "      <th>SEP</th>\n",
       "      <th>OCT</th>\n",
       "      <th>NOV</th>\n",
       "      <th>DEC</th>\n",
       "      <th>ANNUAL</th>\n",
       "      <th>MEAN ANNUAL</th>\n",
       "      <th>Prediction</th>\n",
       "    </tr>\n",
       "  </thead>\n",
       "  <tbody>\n",
       "    <tr>\n",
       "      <th>0</th>\n",
       "      <td>ANDAMAN &amp; NICOBAR ISLANDS</td>\n",
       "      <td>1901</td>\n",
       "      <td>49.2</td>\n",
       "      <td>87.1</td>\n",
       "      <td>29.2</td>\n",
       "      <td>2.3</td>\n",
       "      <td>528.8</td>\n",
       "      <td>517.5</td>\n",
       "      <td>365.1</td>\n",
       "      <td>481.1</td>\n",
       "      <td>332.6</td>\n",
       "      <td>388.5</td>\n",
       "      <td>558.2</td>\n",
       "      <td>33.6</td>\n",
       "      <td>3373.2</td>\n",
       "      <td>2927.439423</td>\n",
       "      <td>Normal</td>\n",
       "    </tr>\n",
       "    <tr>\n",
       "      <th>1</th>\n",
       "      <td>ANDAMAN &amp; NICOBAR ISLANDS</td>\n",
       "      <td>1902</td>\n",
       "      <td>0.0</td>\n",
       "      <td>159.8</td>\n",
       "      <td>12.2</td>\n",
       "      <td>0.0</td>\n",
       "      <td>446.1</td>\n",
       "      <td>537.1</td>\n",
       "      <td>228.9</td>\n",
       "      <td>753.7</td>\n",
       "      <td>666.2</td>\n",
       "      <td>197.2</td>\n",
       "      <td>359.0</td>\n",
       "      <td>160.5</td>\n",
       "      <td>3520.7</td>\n",
       "      <td>2927.439423</td>\n",
       "      <td>Normal</td>\n",
       "    </tr>\n",
       "    <tr>\n",
       "      <th>2</th>\n",
       "      <td>ANDAMAN &amp; NICOBAR ISLANDS</td>\n",
       "      <td>1903</td>\n",
       "      <td>12.7</td>\n",
       "      <td>144.0</td>\n",
       "      <td>0.0</td>\n",
       "      <td>1.0</td>\n",
       "      <td>235.1</td>\n",
       "      <td>479.9</td>\n",
       "      <td>728.4</td>\n",
       "      <td>326.7</td>\n",
       "      <td>339.0</td>\n",
       "      <td>181.2</td>\n",
       "      <td>284.4</td>\n",
       "      <td>225.0</td>\n",
       "      <td>2957.4</td>\n",
       "      <td>2927.439423</td>\n",
       "      <td>Normal</td>\n",
       "    </tr>\n",
       "    <tr>\n",
       "      <th>3</th>\n",
       "      <td>ANDAMAN &amp; NICOBAR ISLANDS</td>\n",
       "      <td>1904</td>\n",
       "      <td>9.4</td>\n",
       "      <td>14.7</td>\n",
       "      <td>0.0</td>\n",
       "      <td>202.4</td>\n",
       "      <td>304.5</td>\n",
       "      <td>495.1</td>\n",
       "      <td>502.0</td>\n",
       "      <td>160.1</td>\n",
       "      <td>820.4</td>\n",
       "      <td>222.2</td>\n",
       "      <td>308.7</td>\n",
       "      <td>40.1</td>\n",
       "      <td>3079.6</td>\n",
       "      <td>2927.439423</td>\n",
       "      <td>Normal</td>\n",
       "    </tr>\n",
       "    <tr>\n",
       "      <th>4</th>\n",
       "      <td>ANDAMAN &amp; NICOBAR ISLANDS</td>\n",
       "      <td>1905</td>\n",
       "      <td>1.3</td>\n",
       "      <td>0.0</td>\n",
       "      <td>3.3</td>\n",
       "      <td>26.9</td>\n",
       "      <td>279.5</td>\n",
       "      <td>628.7</td>\n",
       "      <td>368.7</td>\n",
       "      <td>330.5</td>\n",
       "      <td>297.0</td>\n",
       "      <td>260.7</td>\n",
       "      <td>25.4</td>\n",
       "      <td>344.7</td>\n",
       "      <td>2566.7</td>\n",
       "      <td>2927.439423</td>\n",
       "      <td>Normal</td>\n",
       "    </tr>\n",
       "  </tbody>\n",
       "</table>\n",
       "</div>"
      ],
      "text/plain": [
       "                 SUBDIVISION  YEAR   JAN    FEB   MAR    APR    MAY    JUN  \\\n",
       "0  ANDAMAN & NICOBAR ISLANDS  1901  49.2   87.1  29.2    2.3  528.8  517.5   \n",
       "1  ANDAMAN & NICOBAR ISLANDS  1902   0.0  159.8  12.2    0.0  446.1  537.1   \n",
       "2  ANDAMAN & NICOBAR ISLANDS  1903  12.7  144.0   0.0    1.0  235.1  479.9   \n",
       "3  ANDAMAN & NICOBAR ISLANDS  1904   9.4   14.7   0.0  202.4  304.5  495.1   \n",
       "4  ANDAMAN & NICOBAR ISLANDS  1905   1.3    0.0   3.3   26.9  279.5  628.7   \n",
       "\n",
       "     JUL    AUG    SEP    OCT    NOV    DEC  ANNUAL  MEAN ANNUAL Prediction  \n",
       "0  365.1  481.1  332.6  388.5  558.2   33.6  3373.2  2927.439423     Normal  \n",
       "1  228.9  753.7  666.2  197.2  359.0  160.5  3520.7  2927.439423     Normal  \n",
       "2  728.4  326.7  339.0  181.2  284.4  225.0  2957.4  2927.439423     Normal  \n",
       "3  502.0  160.1  820.4  222.2  308.7   40.1  3079.6  2927.439423     Normal  \n",
       "4  368.7  330.5  297.0  260.7   25.4  344.7  2566.7  2927.439423     Normal  "
      ]
     },
     "execution_count": 206,
     "metadata": {},
     "output_type": "execute_result"
    }
   ],
   "source": [
    "df.drop(['Jan-Feb', 'Mar-May','Jun-Sep', 'Oct-Dec'],axis=1,inplace=True)\n",
    "df.head()"
   ]
  },
  {
   "cell_type": "markdown",
   "id": "7a6fcf15",
   "metadata": {},
   "source": [
    "# Outlier detection"
   ]
  },
  {
   "cell_type": "code",
   "execution_count": 182,
   "id": "c09b070a",
   "metadata": {},
   "outputs": [
    {
     "data": {
      "text/plain": [
       "Index(['SUBDIVISION', 'YEAR', 'JAN', 'FEB', 'MAR', 'APR', 'MAY', 'JUN', 'JUL',\n",
       "       'AUG', 'SEP', 'OCT', 'NOV', 'DEC', 'ANNUAL', 'MEAN ANNUAL',\n",
       "       'Prediction'],\n",
       "      dtype='object')"
      ]
     },
     "execution_count": 182,
     "metadata": {},
     "output_type": "execute_result"
    }
   ],
   "source": [
    "df.columns"
   ]
  },
  {
   "cell_type": "code",
   "execution_count": 183,
   "id": "91c3b4d8",
   "metadata": {},
   "outputs": [
    {
     "data": {
      "image/png": "[encoded data removed]",
      "text/plain": [
       "<Figure size 1440x720 with 1 Axes>"
      ]
     },
     "metadata": {
      "needs_background": "light"
     },
     "output_type": "display_data"
    }
   ],
   "source": [
    "df = pd.DataFrame(data = np.random.random(size=(4,20)), columns = ['SUBDIVISION', 'YEAR', 'JAN', 'FEB', 'MAR', 'APR', 'MAY', 'JUN', 'JUL',\n",
    "       'AUG', 'SEP', 'OCT', 'NOV', 'DEC', 'ANNUAL', 'Jan-Feb', 'Mar-May',\n",
    "       'Jun-Sep', 'Oct-Dec', 'MEAN ANNUAL'],)\n",
    "\n",
    "df.boxplot();\n",
    "plt.xticks(rotation=45);"
   ]
  },
  {
   "cell_type": "markdown",
   "id": "4a797aaa",
   "metadata": {},
   "source": [
    "Inference: No outliers are detected in any of the columns"
   ]
  },
  {
   "cell_type": "markdown",
   "id": "85ab27e5",
   "metadata": {},
   "source": [
    "# Data Preprocessing Part II"
   ]
  },
  {
   "cell_type": "markdown",
   "id": "e4aabcfb",
   "metadata": {},
   "source": [
    "# Encoding"
   ]
  },
  {
   "cell_type": "code",
   "execution_count": 136,
   "id": "3cb10ff3",
   "metadata": {},
   "outputs": [
    {
     "data": {
      "text/plain": [
       "SUBDIVISION     object\n",
       "YEAR             int64\n",
       "JAN            float64\n",
       "FEB            float64\n",
       "MAR            float64\n",
       "APR            float64\n",
       "MAY            float64\n",
       "JUN            float64\n",
       "JUL            float64\n",
       "AUG            float64\n",
       "SEP            float64\n",
       "OCT            float64\n",
       "NOV            float64\n",
       "DEC            float64\n",
       "ANNUAL         float64\n",
       "MEAN ANNUAL    float64\n",
       "Prediction      object\n",
       "dtype: object"
      ]
     },
     "execution_count": 136,
     "metadata": {},
     "output_type": "execute_result"
    }
   ],
   "source": [
    "df.dtypes"
   ]
  },
  {
   "cell_type": "code",
   "execution_count": 78,
   "id": "9a3d8465",
   "metadata": {},
   "outputs": [
    {
     "data": {
      "text/plain": [
       "NAGA MANI MIZO TRIPURA                115\n",
       "CHHATTISGARH                          115\n",
       "TAMIL NADU                            115\n",
       "RAYALSEEMA                            115\n",
       "MADHYA MAHARASHTRA                    115\n",
       "KONKAN & GOA                          115\n",
       "BIHAR                                 115\n",
       "JHARKHAND                             115\n",
       "UTTARAKHAND                           115\n",
       "NORTH INTERIOR KARNATAKA              115\n",
       "ORISSA                                115\n",
       "MATATHWADA                            115\n",
       "PUNJAB                                115\n",
       "HIMACHAL PRADESH                      115\n",
       "JAMMU & KASHMIR                       115\n",
       "VIDARBHA                              115\n",
       "SUB HIMALAYAN WEST BENGAL & SIKKIM    115\n",
       "EAST MADHYA PRADESH                   115\n",
       "SOUTH INTERIOR KARNATAKA              115\n",
       "WEST RAJASTHAN                        115\n",
       "WEST UTTAR PRADESH                    115\n",
       "SAURASHTRA & KUTCH                    115\n",
       "KERALA                                115\n",
       "EAST UTTAR PRADESH                    115\n",
       "COASTAL KARNATAKA                     115\n",
       "TELANGANA                             115\n",
       "WEST MADHYA PRADESH                   115\n",
       "ASSAM & MEGHALAYA                     115\n",
       "GANGETIC WEST BENGAL                  115\n",
       "COASTAL ANDHRA PRADESH                115\n",
       "EAST RAJASTHAN                        115\n",
       "GUJARAT REGION                        115\n",
       "HARYANA DELHI & CHANDIGARH            115\n",
       "LAKSHADWEEP                           114\n",
       "ANDAMAN & NICOBAR ISLANDS             110\n",
       "ARUNACHAL PRADESH                      97\n",
       "Name: SUBDIVISION, dtype: int64"
      ]
     },
     "execution_count": 78,
     "metadata": {},
     "output_type": "execute_result"
    }
   ],
   "source": [
    "df['SUBDIVISION'].value_counts()"
   ]
  },
  {
   "cell_type": "code",
   "execution_count": 207,
   "id": "de4687db",
   "metadata": {},
   "outputs": [
    {
     "data": {
      "text/plain": [
       "array([ 0,  1,  2, 21, 28, 10, 23, 15,  3,  9, 35, 31, 12, 24, 13, 14, 34,\n",
       "        8, 33,  7, 11, 26, 17, 19, 20, 32,  4,  5, 30, 25, 29,  6, 22, 27,\n",
       "       16, 18])"
      ]
     },
     "execution_count": 207,
     "metadata": {},
     "output_type": "execute_result"
    }
   ],
   "source": [
    "label_encoder = LabelEncoder()\n",
    " \n",
    "# Encode labels in column 'Classification'.\n",
    "df['SUBDIVISION']= label_encoder.fit_transform(df['SUBDIVISION'])\n",
    " \n",
    "df['SUBDIVISION'].unique()"
   ]
  },
  {
   "cell_type": "code",
   "execution_count": 80,
   "id": "8079e224",
   "metadata": {},
   "outputs": [
    {
     "data": {
      "text/plain": [
       "2     115\n",
       "3     115\n",
       "10    115\n",
       "14    115\n",
       "22    115\n",
       "26    115\n",
       "30    115\n",
       "34    115\n",
       "7     115\n",
       "4     115\n",
       "11    115\n",
       "15    115\n",
       "19    115\n",
       "23    115\n",
       "27    115\n",
       "31    115\n",
       "6     115\n",
       "35    115\n",
       "33    115\n",
       "8     115\n",
       "25    115\n",
       "21    115\n",
       "17    115\n",
       "13    115\n",
       "9     115\n",
       "5     115\n",
       "29    115\n",
       "32    115\n",
       "28    115\n",
       "24    115\n",
       "20    115\n",
       "16    115\n",
       "12    115\n",
       "18    114\n",
       "0     110\n",
       "1      97\n",
       "Name: SUBDIVISION, dtype: int64"
      ]
     },
     "execution_count": 80,
     "metadata": {},
     "output_type": "execute_result"
    }
   ],
   "source": [
    "df['SUBDIVISION'].value_counts()"
   ]
  },
  {
   "cell_type": "code",
   "execution_count": 208,
   "id": "cbc9236e",
   "metadata": {},
   "outputs": [
    {
     "data": {
      "text/plain": [
       "array([2, 1, 0])"
      ]
     },
     "execution_count": 208,
     "metadata": {},
     "output_type": "execute_result"
    }
   ],
   "source": [
    "label_encoder = LabelEncoder()\n",
    " \n",
    "# Encode labels in column 'Classification'.\n",
    "df['Prediction']= label_encoder.fit_transform(df['Prediction'])\n",
    " \n",
    "df['Prediction'].unique()"
   ]
  },
  {
   "cell_type": "code",
   "execution_count": 82,
   "id": "70313fa3",
   "metadata": {},
   "outputs": [
    {
     "data": {
      "text/plain": [
       "2    3296\n",
       "1     419\n",
       "0     401\n",
       "Name: Prediction, dtype: int64"
      ]
     },
     "execution_count": 82,
     "metadata": {},
     "output_type": "execute_result"
    }
   ],
   "source": [
    "df['Prediction'].value_counts()"
   ]
  },
  {
   "cell_type": "code",
   "execution_count": 137,
   "id": "8be08563",
   "metadata": {},
   "outputs": [
    {
     "data": {
      "text/plain": [
       "SUBDIVISION     object\n",
       "YEAR             int64\n",
       "JAN            float64\n",
       "FEB            float64\n",
       "MAR            float64\n",
       "APR            float64\n",
       "MAY            float64\n",
       "JUN            float64\n",
       "JUL            float64\n",
       "AUG            float64\n",
       "SEP            float64\n",
       "OCT            float64\n",
       "NOV            float64\n",
       "DEC            float64\n",
       "ANNUAL         float64\n",
       "MEAN ANNUAL    float64\n",
       "Prediction      object\n",
       "dtype: object"
      ]
     },
     "execution_count": 137,
     "metadata": {},
     "output_type": "execute_result"
    }
   ],
   "source": [
    "df.dtypes"
   ]
  },
  {
   "cell_type": "code",
   "execution_count": 84,
   "id": "ef0b8016",
   "metadata": {},
   "outputs": [
    {
     "data": {
      "text/plain": [
       "(4116, 17)"
      ]
     },
     "execution_count": 84,
     "metadata": {},
     "output_type": "execute_result"
    }
   ],
   "source": [
    "df.shape"
   ]
  },
  {
   "cell_type": "code",
   "execution_count": 209,
   "id": "279aec4c",
   "metadata": {},
   "outputs": [],
   "source": [
    "x=df.drop(['Prediction'],axis=1)"
   ]
  },
  {
   "cell_type": "code",
   "execution_count": 210,
   "id": "eae6d3eb",
   "metadata": {},
   "outputs": [],
   "source": [
    "y=df['Prediction']"
   ]
  },
  {
   "cell_type": "code",
   "execution_count": 211,
   "id": "b5d20d16",
   "metadata": {},
   "outputs": [],
   "source": [
    "#Splitting data into train and test samples in the ratio 80:20\n",
    "x_train,x_test,y_train,y_test=train_test_split(x,y,random_state=42,test_size=0.2)"
   ]
  },
  {
   "cell_type": "code",
   "execution_count": 88,
   "id": "dda8296a",
   "metadata": {},
   "outputs": [
    {
     "data": {
      "text/plain": [
       "(3292, 16)"
      ]
     },
     "execution_count": 88,
     "metadata": {},
     "output_type": "execute_result"
    }
   ],
   "source": [
    "x_train.shape"
   ]
  },
  {
   "cell_type": "code",
   "execution_count": 89,
   "id": "5edd8f0a",
   "metadata": {},
   "outputs": [
    {
     "data": {
      "text/plain": [
       "(3292,)"
      ]
     },
     "execution_count": 89,
     "metadata": {},
     "output_type": "execute_result"
    }
   ],
   "source": [
    "y_train.shape"
   ]
  },
  {
   "cell_type": "code",
   "execution_count": 90,
   "id": "effc40b2",
   "metadata": {},
   "outputs": [
    {
     "data": {
      "text/plain": [
       "(824, 16)"
      ]
     },
     "execution_count": 90,
     "metadata": {},
     "output_type": "execute_result"
    }
   ],
   "source": [
    "x_test.shape"
   ]
  },
  {
   "cell_type": "code",
   "execution_count": 91,
   "id": "1cd635b5",
   "metadata": {},
   "outputs": [
    {
     "data": {
      "text/plain": [
       "(824,)"
      ]
     },
     "execution_count": 91,
     "metadata": {},
     "output_type": "execute_result"
    }
   ],
   "source": [
    "y_test.shape"
   ]
  },
  {
   "cell_type": "code",
   "execution_count": null,
   "id": "8efdb36a",
   "metadata": {},
   "outputs": [],
   "source": []
  },
  {
   "cell_type": "code",
   "execution_count": 258,
   "id": "2cd452a1",
   "metadata": {},
   "outputs": [],
   "source": [
    "from sklearn.metrics import f1_score,confusion_matrix\n",
    "from sklearn.metrics import classification_report\n",
    "from sklearn.metrics import accuracy_score\n",
    "from sklearn.linear_model import LogisticRegression\n",
    "from sklearn.neighbors import KNeighborsClassifier\n",
    "from sklearn.svm import SVC\n",
    "from sklearn.tree import DecisionTreeClassifier\n",
    "from sklearn.ensemble import GradientBoostingClassifier\n",
    "from sklearn.ensemble import RandomForestClassifier\n",
    "from xgboost import XGBClassifier"
   ]
  },
  {
   "cell_type": "markdown",
   "id": "a26f85f6",
   "metadata": {},
   "source": [
    "# Logistic Regression¶"
   ]
  },
  {
   "cell_type": "code",
   "execution_count": 259,
   "id": "944a6924",
   "metadata": {},
   "outputs": [
    {
     "name": "stdout",
     "output_type": "stream",
     "text": [
      "              precision    recall  f1-score   support\n",
      "\n",
      "           0       0.93      0.88      0.91        77\n",
      "           1       0.91      0.59      0.72        86\n",
      "           2       0.94      0.98      0.96       661\n",
      "\n",
      "    accuracy                           0.93       824\n",
      "   macro avg       0.93      0.82      0.86       824\n",
      "weighted avg       0.93      0.93      0.93       824\n",
      "\n",
      "[[ 68   0   9]\n",
      " [  0  51  35]\n",
      " [  5   5 651]]\n",
      "accuracy is 0.9344660194174758\n"
     ]
    }
   ],
   "source": [
    "lr = LogisticRegression()\n",
    "lr.fit(x_train, y_train)\n",
    "\n",
    "y_pred = lr.predict(x_test)\n",
    "\n",
    "# Summary of the predictions made by the classifier\n",
    "print(classification_report(y_test, y_pred))\n",
    "print(confusion_matrix(y_test, y_pred))\n",
    "\n",
    "# Accuracy score\n",
    "print('accuracy is',accuracy_score(y_pred,y_test))"
   ]
  },
  {
   "cell_type": "markdown",
   "id": "c3888b55",
   "metadata": {},
   "source": [
    "# KNN Classifier"
   ]
  },
  {
   "cell_type": "code",
   "execution_count": 260,
   "id": "029415ac",
   "metadata": {},
   "outputs": [],
   "source": [
    "# Finding best k value\n",
    "acc_values=[]\n",
    "\n",
    "neighbors=np.arange(3,15)\n",
    "\n",
    "for k in neighbors:\n",
    "    classifier=KNeighborsClassifier(n_neighbors=k,metric='minkowski')\n",
    "    classifier.fit(x_train,y_train)\n",
    "    y_pred=classifier.predict(x_test)\n",
    "    acc=accuracy_score(y_test,y_pred)\n",
    "    acc_values.append(acc)"
   ]
  },
  {
   "cell_type": "code",
   "execution_count": 261,
   "id": "1b9b7267",
   "metadata": {},
   "outputs": [
    {
     "data": {
      "text/plain": [
       "[0.8252427184466019,\n",
       " 0.816747572815534,\n",
       " 0.8203883495145631,\n",
       " 0.8191747572815534,\n",
       " 0.8203883495145631,\n",
       " 0.8240291262135923,\n",
       " 0.8179611650485437,\n",
       " 0.8131067961165048,\n",
       " 0.8131067961165048,\n",
       " 0.8106796116504854,\n",
       " 0.8106796116504854,\n",
       " 0.8155339805825242]"
      ]
     },
     "execution_count": 261,
     "metadata": {},
     "output_type": "execute_result"
    }
   ],
   "source": [
    "acc_values"
   ]
  },
  {
   "cell_type": "code",
   "execution_count": 262,
   "id": "62e5d575",
   "metadata": {
    "scrolled": false
   },
   "outputs": [
    {
     "data": {
      "image/png": "[encoded data removed]",
      "text/plain": [
       "<Figure size 720x576 with 1 Axes>"
      ]
     },
     "metadata": {
      "needs_background": "light"
     },
     "output_type": "display_data"
    }
   ],
   "source": [
    "plt.plot(neighbors,acc_values,'o-')\n",
    "plt.xlabel('K Value')\n",
    "plt.ylabel('Accuracy');"
   ]
  },
  {
   "cell_type": "code",
   "execution_count": 263,
   "id": "9f5ba66d",
   "metadata": {},
   "outputs": [
    {
     "name": "stdout",
     "output_type": "stream",
     "text": [
      "              precision    recall  f1-score   support\n",
      "\n",
      "           0       0.59      0.47      0.52        77\n",
      "           1       0.82      0.10      0.19        86\n",
      "           2       0.84      0.96      0.90       661\n",
      "\n",
      "    accuracy                           0.82       824\n",
      "   macro avg       0.75      0.51      0.53       824\n",
      "weighted avg       0.82      0.82      0.79       824\n",
      "\n",
      "[[ 36   0  41]\n",
      " [  0   9  77]\n",
      " [ 25   2 634]]\n",
      "accuracy is 0.8240291262135923\n"
     ]
    }
   ],
   "source": [
    "knn = KNeighborsClassifier(n_neighbors=8)\n",
    "knn.fit(x_train, y_train)\n",
    "\n",
    "y_pred = knn.predict(x_test)\n",
    "\n",
    "# Summary of the predictions made by the classifier\n",
    "print(classification_report(y_test, y_pred))\n",
    "print(confusion_matrix(y_test, y_pred))\n",
    "\n",
    "# Accuracy score\n",
    "\n",
    "print('accuracy is',accuracy_score(y_pred,y_test))"
   ]
  },
  {
   "cell_type": "markdown",
   "id": "7fe6a389",
   "metadata": {},
   "source": [
    "# Gradient Boosting Classifier"
   ]
  },
  {
   "cell_type": "code",
   "execution_count": 264,
   "id": "f18346f2",
   "metadata": {},
   "outputs": [
    {
     "name": "stdout",
     "output_type": "stream",
     "text": [
      "              precision    recall  f1-score   support\n",
      "\n",
      "           0       0.91      0.77      0.83        77\n",
      "           1       0.95      0.64      0.76        86\n",
      "           2       0.93      0.99      0.96       661\n",
      "\n",
      "    accuracy                           0.93       824\n",
      "   macro avg       0.93      0.80      0.85       824\n",
      "weighted avg       0.93      0.93      0.93       824\n",
      "\n",
      "[[ 59   0  18]\n",
      " [  0  55  31]\n",
      " [  6   3 652]]\n",
      "accuracy is 0.9296116504854369\n"
     ]
    }
   ],
   "source": [
    "from sklearn.ensemble import GradientBoostingClassifier\n",
    "gb=GradientBoostingClassifier()\n",
    "gb.fit(x_train,y_train)\n",
    "\n",
    "y_pred = gb.predict(x_test)\n",
    "\n",
    "# Summary of the predictions made by the classifier\n",
    "print(classification_report(y_test, y_pred))\n",
    "print(confusion_matrix(y_test, y_pred))\n",
    "\n",
    "# Accuracy score\n",
    "\n",
    "print('accuracy is',accuracy_score(y_pred,y_test))"
   ]
  },
  {
   "cell_type": "markdown",
   "id": "08840b52",
   "metadata": {},
   "source": [
    "# Random Forest Classifier"
   ]
  },
  {
   "cell_type": "code",
   "execution_count": 265,
   "id": "a606f3ba",
   "metadata": {},
   "outputs": [
    {
     "name": "stdout",
     "output_type": "stream",
     "text": [
      "              precision    recall  f1-score   support\n",
      "\n",
      "           0       1.00      0.45      0.62        77\n",
      "           1       1.00      0.42      0.59        86\n",
      "           2       0.88      1.00      0.93       661\n",
      "\n",
      "    accuracy                           0.89       824\n",
      "   macro avg       0.96      0.62      0.72       824\n",
      "weighted avg       0.90      0.89      0.87       824\n",
      "\n",
      "[[ 35   0  42]\n",
      " [  0  36  50]\n",
      " [  0   0 661]]\n",
      "accuracy is 0.8883495145631068\n"
     ]
    }
   ],
   "source": [
    "rf=RandomForestClassifier()\n",
    "rf.fit(x_train,y_train)\n",
    "y_pred=rf.predict(x_test)\n",
    "\n",
    "# Summary of the predictions made by the classifier\n",
    "print(classification_report(y_test, y_pred))\n",
    "print(confusion_matrix(y_test, y_pred))\n",
    "\n",
    "# Accuracy score\n",
    "\n",
    "print('accuracy is',accuracy_score(y_pred,y_test))"
   ]
  },
  {
   "cell_type": "markdown",
   "id": "da47441c",
   "metadata": {},
   "source": [
    "# Gaussian Naive Bayes"
   ]
  },
  {
   "cell_type": "code",
   "execution_count": 266,
   "id": "f5ba06ca",
   "metadata": {},
   "outputs": [
    {
     "data": {
      "text/plain": [
       "GaussianNB()"
      ]
     },
     "execution_count": 266,
     "metadata": {},
     "output_type": "execute_result"
    }
   ],
   "source": [
    "from sklearn.naive_bayes import GaussianNB\n",
    "classifier=GaussianNB()\n",
    "classifier.fit(x_train,y_train)"
   ]
  },
  {
   "cell_type": "code",
   "execution_count": 267,
   "id": "cf18e88a",
   "metadata": {},
   "outputs": [
    {
     "name": "stdout",
     "output_type": "stream",
     "text": [
      "              precision    recall  f1-score   support\n",
      "\n",
      "           0       0.15      0.77      0.25        77\n",
      "           1       0.18      0.19      0.18        86\n",
      "           2       0.85      0.44      0.58       661\n",
      "\n",
      "    accuracy                           0.45       824\n",
      "   macro avg       0.39      0.46      0.34       824\n",
      "weighted avg       0.72      0.45      0.51       824\n",
      "\n",
      "[[ 59   4  14]\n",
      " [ 33  16  37]\n",
      " [299  70 292]]\n"
     ]
    }
   ],
   "source": [
    "y_pred= classifier.predict(x_test)\n",
    "# Summary of the predictions made by the classifier\n",
    "print(classification_report(y_test, y_pred))\n",
    "print(confusion_matrix(y_test, y_pred))"
   ]
  },
  {
   "cell_type": "markdown",
   "id": "9472be4e",
   "metadata": {},
   "source": [
    "# Decision Tree Classifier"
   ]
  },
  {
   "cell_type": "code",
   "execution_count": 268,
   "id": "4631209d",
   "metadata": {},
   "outputs": [
    {
     "name": "stdout",
     "output_type": "stream",
     "text": [
      "              precision    recall  f1-score   support\n",
      "\n",
      "           0       0.89      0.88      0.89        77\n",
      "           1       0.84      0.77      0.80        86\n",
      "           2       0.96      0.97      0.96       661\n",
      "\n",
      "    accuracy                           0.94       824\n",
      "   macro avg       0.90      0.87      0.88       824\n",
      "weighted avg       0.94      0.94      0.94       824\n",
      "\n",
      "[[ 68   0   9]\n",
      " [  0  66  20]\n",
      " [  8  13 640]]\n"
     ]
    }
   ],
   "source": [
    "dt=DecisionTreeClassifier()\n",
    "dt.fit(x_train,y_train)\n",
    "y_pred=dt.predict(x_test)\n",
    "# Summary of the predictions made by the classifier\n",
    "print(classification_report(y_test, y_pred))\n",
    "print(confusion_matrix(y_test, y_pred))"
   ]
  },
  {
   "cell_type": "markdown",
   "id": "e913b261",
   "metadata": {},
   "source": [
    "# SVM"
   ]
  },
  {
   "cell_type": "code",
   "execution_count": 269,
   "id": "0365c094",
   "metadata": {},
   "outputs": [
    {
     "name": "stdout",
     "output_type": "stream",
     "text": [
      "              precision    recall  f1-score   support\n",
      "\n",
      "           0       0.89      0.88      0.89        77\n",
      "           1       0.84      0.77      0.80        86\n",
      "           2       0.96      0.97      0.96       661\n",
      "\n",
      "    accuracy                           0.94       824\n",
      "   macro avg       0.90      0.87      0.88       824\n",
      "weighted avg       0.94      0.94      0.94       824\n",
      "\n",
      "[[ 68   0   9]\n",
      " [  0  66  20]\n",
      " [  8  13 640]]\n",
      "Accuracy is  0.9393203883495146\n"
     ]
    }
   ],
   "source": [
    "svc=SVC(kernel='rbf',probability=True)\n",
    "svc_classifier=svc.fit(x_train,y_train)\n",
    "# Summary of the predictions made by the classifier\n",
    "print(classification_report(y_test, y_pred))\n",
    "print(confusion_matrix(y_test, y_pred))\n",
    "print('Accuracy is ',accuracy_score(y_pred,y_test))"
   ]
  },
  {
   "cell_type": "code",
   "execution_count": 270,
   "id": "3c8bad0a",
   "metadata": {},
   "outputs": [
    {
     "name": "stdout",
     "output_type": "stream",
     "text": [
      "Actual Flood/Drought/Normal Values:\n",
      "[2 2 1 2 2 2 2 2 2 2 2 2 2 1 0 1 2 2 2 2 2 2 1 1 1 2 2 2 2 2 2 2 2 2 2 2 1\n",
      " 2 1 2 1 2 2 0 2 2 2 2 2 0 0 2 2 2 2 2 1 2 2 2 2 2 2 0 0 1 1 1 2 2 2 2 1 1\n",
      " 2 1 2 2 2 2 2 2 2 2 1 0 2 2 2 0 0 2 2 1 2 0 2 2 2 2 2 2 2 2 2 2 2 2 2 2 2\n",
      " 2 2 2 2 2 2 1 2 1 2 1 0 2 2 2 2 2 2 2 2 0 2 2 1 2 2 2 2 2 2 2 2 1 2 2 2 1\n",
      " 0 2 2 0 2 0 1 2 1 2 2 2 2 2 2 2 2 1 2 2 2 2 2 2 0 2 1 2 2 1 2 2 1 2 2 2 2\n",
      " 2 1 0 2 2 2 2 2 2 2 2 2 2 0 2 2 2 2 2 2 2 2 2 2 2 1 2 0 2 2 2 2 2 2 2 2 1\n",
      " 2 2 2 2 2 1 1 2 2 2 2 2 2 2 2 2 2 2 2 2 2 2 2 2 2 2 0 2 2 2 2 2 2 2 2 2 2\n",
      " 2 1 2 2 1 2 0 2 2 2 2 1 0 0 2 2 2 0 2 2 2 1 2 2 2 2 2 2 2 1 2 2 0 2 2 2 2\n",
      " 2 0 2 2 2 2 2 2 0 2 2 2 2 0 2 2 2 0 2 2 2 2 2 2 2 2 2 0 2 2 2 2 0 0 2 2 2\n",
      " 2 2 2 2 1 0 1 2 1 2 2 0 0 2 2 2 2 2 2 2 2 2 2 2 2 0 2 1 2 2 2 2 2 2 2 2 2\n",
      " 2 2 2 2 2 2 0 2 0 1 2 1 2 2 2 2 1 2 1 2 2 2 0 2 2 2 0 2 2 2 2 2 2 2 2 2 2\n",
      " 2 2 2 2 2 2 2 2 2 2 2 0 1 2 2 2 2 2 2 2 2 2 2 2 2 2 0 2 2 2 2 2 2 2 2 2 2\n",
      " 2 2 1 1 0 2 2 2 2 2 2 2 2 2 0 2 2 2 1 2 2 2 2 2 2 2 0 2 2 2 1 2 2 2 2 2 2\n",
      " 2 2 2 0 2 2 2 2 2 2 2 2 2 0 2 2 2 2 2 2 2 1 2 2 0 2 2 2 1 2 2 2 1 2 2 2 2\n",
      " 2 1 2 2 2 2 2 2 1 2 2 0 2 2 2 2 2 2 2 2 2 2 2 0 2 2 2 2 1 2 2 2 2 0 2 2 2\n",
      " 2 2 2 2 2 2 2 2 2 2 2 2 1 1 2 2 2 2 2 2 2 2 0 0 1 2 2 2 2 2 0 0 2 1 2 1 0\n",
      " 2 2 2 2 2 2 2 2 2 2 1 2 2 2 1 2 2 2 2 2 0 2 2 2 2 2 2 2 2 2 1 0 2 2 1 2 2\n",
      " 2 0 2 2 1 2 2 0 2 2 2 2 2 2 2 2 2 2 2 2 2 2 2 2 2 2 0 2 2 0 2 2 1 2 2 2 2\n",
      " 2 2 1 2 2 2 2 2 2 1 2 2 2 2 2 2 2 2 2 1 2 2 2 2 2 2 2 1 2 1 2 2 1 2 2 2 2\n",
      " 2 2 2 2 2 1 2 2 0 1 2 1 2 2 2 0 2 2 1 0 2 2 2 2 2 2 2 0 0 2 2 0 2 2 2 2 2\n",
      " 2 2 2 0 2 0 2 2 2 2 2 2 0 2 2 2 2 2 2 1 1 2 1 2 2 2 2 2 2 2 2 2 1 2 2 2 2\n",
      " 2 2 2 2 2 1 2 2 0 0 2 2 2 2 2 2 2 0 2 2 2 2 2 0 2 1 2 2 2 0 2 2 2 2 2 2 2\n",
      " 2 2 2 2 2 0 2 2 2 2]\n"
     ]
    }
   ],
   "source": [
    "y_pred=svc.predict(x_test)\n",
    "print('Actual Flood/Drought/Normal Values:')\n",
    "print(y_test.values)"
   ]
  },
  {
   "cell_type": "markdown",
   "id": "74882efb",
   "metadata": {},
   "source": [
    "# Enseble Learning"
   ]
  },
  {
   "cell_type": "code",
   "execution_count": 271,
   "id": "2256e1ba",
   "metadata": {},
   "outputs": [],
   "source": [
    "from sklearn.ensemble import VotingClassifier\n",
    "from sklearn.ensemble import RandomForestClassifier\n",
    "from sklearn.linear_model import LogisticRegression\n",
    "from sklearn.neighbors import KNeighborsClassifier\n",
    "from sklearn.naive_bayes import GaussianNB\n",
    "log_clf = LogisticRegression(solver=\"liblinear\", random_state=42)\n",
    "rnd_clf = RandomForestClassifier(n_estimators=10, random_state=42)\n",
    "knn_clf = KNeighborsClassifier()\n",
    "gb_clf=GradientBoostingClassifier()\n",
    "gnb_clf=GaussianNB()\n",
    "dt_clf=DecisionTreeClassifier()\n",
    "svc_clf=SVC()\n",
    "voting = VotingClassifier(\n",
    "    estimators=[('lr', log_clf), ('rf', rnd_clf), ('knn', knn_clf),('gb',gb_clf), ('gnb',gnb_clf),('dt',dt_clf),('svc',svc_clf)],\n",
    "    voting='hard')"
   ]
  },
  {
   "cell_type": "code",
   "execution_count": 272,
   "id": "7181a42b",
   "metadata": {},
   "outputs": [],
   "source": [
    "voting_clf = voting.fit(x_train, y_train)"
   ]
  },
  {
   "cell_type": "code",
   "execution_count": 273,
   "id": "d193ac10",
   "metadata": {},
   "outputs": [
    {
     "name": "stdout",
     "output_type": "stream",
     "text": [
      "LogisticRegression 0.8737864077669902\n",
      "RandomForestClassifier 0.8725728155339806\n",
      "KNeighborsClassifier 0.8203883495145631\n",
      "GradientBoostingClassifier 0.9296116504854369\n",
      "GaussianNB 0.44538834951456313\n",
      "DecisionTreeClassifier 0.9381067961165048\n",
      "SVC 0.8507281553398058\n",
      "VotingClassifier 0.8968446601941747\n"
     ]
    }
   ],
   "source": [
    "from sklearn.metrics import accuracy_score\n",
    "\n",
    "for clf in (log_clf, rnd_clf, knn_clf, gb_clf,gnb_clf,dt_clf,svc_clf,voting_clf):\n",
    "    clf.fit(x_train, y_train)\n",
    "    y_pred = clf.predict(x_test)\n",
    "    print(clf.__class__.__name__, accuracy_score(y_test, y_pred))"
   ]
  },
  {
   "cell_type": "code",
   "execution_count": 274,
   "id": "bd685520",
   "metadata": {},
   "outputs": [
    {
     "name": "stdout",
     "output_type": "stream",
     "text": [
      "  Name     Score\n",
      "0  KNN  0.820388\n",
      "1   LR  0.934466\n",
      "2   DT  0.939320\n",
      "3   RF  0.878641\n",
      "4   GB  0.928398\n",
      "5  GNB  0.445388\n",
      "6  SVC  0.850728\n",
      "7   EL  0.894417\n"
     ]
    }
   ],
   "source": [
    "models = []\n",
    "from sklearn.neighbors import KNeighborsClassifier\n",
    "from sklearn.linear_model import LogisticRegression\n",
    "from sklearn.tree import DecisionTreeClassifier\n",
    "from sklearn.svm import SVC\n",
    "from sklearn.naive_bayes import GaussianNB\n",
    "from sklearn.ensemble import RandomForestClassifier\n",
    "from sklearn.ensemble import VotingClassifier\n",
    "models.append(('KNN', KNeighborsClassifier()))\n",
    "models.append(('LR', LogisticRegression()))\n",
    "models.append(('DT', DecisionTreeClassifier()))\n",
    "models.append(('RF', RandomForestClassifier()))\n",
    "models.append(('GB', GradientBoostingClassifier()))\n",
    "models.append(('GNB', GaussianNB()))\n",
    "models.append(('SVC', SVC()))\n",
    "\n",
    "models.append(('EL', VotingClassifier(\n",
    "    estimators=[('lr', log_clf), ('rf', rnd_clf), ('knn', knn_clf),('gb',gb_clf), ('gnb',gnb_clf),('dt',dt_clf),('svc',svc_clf)],\n",
    "    voting='hard')))\n",
    "\n",
    "\n",
    "names = []\n",
    "scores = []\n",
    "for name, model in models:\n",
    "    model.fit(x_train, y_train)\n",
    "    y_pred = model.predict(x_test)\n",
    "    scores.append(accuracy_score(y_test, y_pred))\n",
    "    names.append(name)\n",
    "tr_split = pd.DataFrame({'Name': names, 'Score': scores})\n",
    "print(tr_split)"
   ]
  },
  {
   "cell_type": "code",
   "execution_count": 275,
   "id": "7c1a44e9",
   "metadata": {},
   "outputs": [
    {
     "data": {
      "image/png": "[encoded data removed]",
      "text/plain": [
       "<Figure size 720x576 with 1 Axes>"
      ]
     },
     "metadata": {
      "needs_background": "light"
     },
     "output_type": "display_data"
    }
   ],
   "source": [
    "import seaborn as sns\n",
    "axis = sns.barplot(x = 'Name', y = 'Score', data =tr_split )\n",
    "axis.set(xlabel='Classifier', ylabel='Accuracy')\n",
    "for p in axis.patches:\n",
    "    height = p.get_height()\n",
    "    axis.text(p.get_x() + p.get_width()/2, height + 0.005, '{:1.4f}'.format(height), ha=\"center\") \n",
    "    \n",
    "plt.show()"
   ]
  },
  {
   "cell_type": "markdown",
   "id": "9d4e2818",
   "metadata": {},
   "source": [
    "Inference: Comparing different models, Logistic Regression shows highest accuracy "
   ]
  },
  {
   "cell_type": "code",
   "execution_count": null,
   "id": "282f10ee",
   "metadata": {},
   "outputs": [],
   "source": []
  },
  {
   "cell_type": "code",
   "execution_count": 236,
   "id": "acc4d6fe",
   "metadata": {},
   "outputs": [],
   "source": [
    "#Check the pattern of distribution of data in the dataset"
   ]
  },
  {
   "cell_type": "code",
   "execution_count": 237,
   "id": "4c3e99cf",
   "metadata": {},
   "outputs": [
    {
     "data": {
      "text/html": [
       "<div>\n",
       "<style scoped>\n",
       "    .dataframe tbody tr th:only-of-type {\n",
       "        vertical-align: middle;\n",
       "    }\n",
       "\n",
       "    .dataframe tbody tr th {\n",
       "        vertical-align: top;\n",
       "    }\n",
       "\n",
       "    .dataframe thead th {\n",
       "        text-align: right;\n",
       "    }\n",
       "</style>\n",
       "<table border=\"1\" class=\"dataframe\">\n",
       "  <thead>\n",
       "    <tr style=\"text-align: right;\">\n",
       "      <th></th>\n",
       "      <th>SUBDIVISION</th>\n",
       "      <th>YEAR</th>\n",
       "      <th>JAN</th>\n",
       "      <th>FEB</th>\n",
       "      <th>MAR</th>\n",
       "      <th>APR</th>\n",
       "      <th>MAY</th>\n",
       "      <th>JUN</th>\n",
       "      <th>JUL</th>\n",
       "      <th>AUG</th>\n",
       "      <th>SEP</th>\n",
       "      <th>OCT</th>\n",
       "      <th>NOV</th>\n",
       "      <th>DEC</th>\n",
       "      <th>ANNUAL</th>\n",
       "      <th>MEAN ANNUAL</th>\n",
       "    </tr>\n",
       "  </thead>\n",
       "  <tbody>\n",
       "    <tr>\n",
       "      <th>count</th>\n",
       "      <td>4116.000000</td>\n",
       "      <td>4116.000000</td>\n",
       "      <td>4116.000000</td>\n",
       "      <td>4116.000000</td>\n",
       "      <td>4116.000000</td>\n",
       "      <td>4116.000000</td>\n",
       "      <td>4116.000000</td>\n",
       "      <td>4116.000000</td>\n",
       "      <td>4116.000000</td>\n",
       "      <td>4116.000000</td>\n",
       "      <td>4116.000000</td>\n",
       "      <td>4116.000000</td>\n",
       "      <td>4116.000000</td>\n",
       "      <td>4116.000000</td>\n",
       "      <td>4116.000000</td>\n",
       "      <td>4116.000000</td>\n",
       "    </tr>\n",
       "    <tr>\n",
       "      <th>mean</th>\n",
       "      <td>17.593294</td>\n",
       "      <td>1958.218659</td>\n",
       "      <td>18.990051</td>\n",
       "      <td>21.809836</td>\n",
       "      <td>27.365706</td>\n",
       "      <td>43.155708</td>\n",
       "      <td>85.943166</td>\n",
       "      <td>230.527625</td>\n",
       "      <td>347.304178</td>\n",
       "      <td>290.370187</td>\n",
       "      <td>197.714867</td>\n",
       "      <td>95.838230</td>\n",
       "      <td>40.384302</td>\n",
       "      <td>19.196805</td>\n",
       "      <td>1420.587907</td>\n",
       "      <td>1416.933038</td>\n",
       "    </tr>\n",
       "    <tr>\n",
       "      <th>std</th>\n",
       "      <td>10.344106</td>\n",
       "      <td>33.140898</td>\n",
       "      <td>33.585447</td>\n",
       "      <td>35.896784</td>\n",
       "      <td>46.925485</td>\n",
       "      <td>67.804255</td>\n",
       "      <td>123.407435</td>\n",
       "      <td>234.718751</td>\n",
       "      <td>269.319112</td>\n",
       "      <td>188.709721</td>\n",
       "      <td>135.624617</td>\n",
       "      <td>99.757827</td>\n",
       "      <td>69.320172</td>\n",
       "      <td>42.831405</td>\n",
       "      <td>908.963454</td>\n",
       "      <td>856.290787</td>\n",
       "    </tr>\n",
       "    <tr>\n",
       "      <th>min</th>\n",
       "      <td>0.000000</td>\n",
       "      <td>1901.000000</td>\n",
       "      <td>0.000000</td>\n",
       "      <td>0.000000</td>\n",
       "      <td>0.000000</td>\n",
       "      <td>0.000000</td>\n",
       "      <td>0.000000</td>\n",
       "      <td>0.400000</td>\n",
       "      <td>0.000000</td>\n",
       "      <td>0.000000</td>\n",
       "      <td>0.100000</td>\n",
       "      <td>0.000000</td>\n",
       "      <td>0.000000</td>\n",
       "      <td>0.000000</td>\n",
       "      <td>62.300000</td>\n",
       "      <td>292.673043</td>\n",
       "    </tr>\n",
       "    <tr>\n",
       "      <th>25%</th>\n",
       "      <td>9.000000</td>\n",
       "      <td>1930.000000</td>\n",
       "      <td>0.600000</td>\n",
       "      <td>0.600000</td>\n",
       "      <td>1.000000</td>\n",
       "      <td>3.000000</td>\n",
       "      <td>8.600000</td>\n",
       "      <td>70.475000</td>\n",
       "      <td>175.900000</td>\n",
       "      <td>156.150000</td>\n",
       "      <td>100.600000</td>\n",
       "      <td>14.600000</td>\n",
       "      <td>0.700000</td>\n",
       "      <td>0.100000</td>\n",
       "      <td>806.450000</td>\n",
       "      <td>827.114783</td>\n",
       "    </tr>\n",
       "    <tr>\n",
       "      <th>50%</th>\n",
       "      <td>18.000000</td>\n",
       "      <td>1958.000000</td>\n",
       "      <td>6.000000</td>\n",
       "      <td>6.700000</td>\n",
       "      <td>7.900000</td>\n",
       "      <td>15.700000</td>\n",
       "      <td>36.700000</td>\n",
       "      <td>138.900000</td>\n",
       "      <td>284.900000</td>\n",
       "      <td>259.500000</td>\n",
       "      <td>174.100000</td>\n",
       "      <td>65.750000</td>\n",
       "      <td>9.700000</td>\n",
       "      <td>3.100000</td>\n",
       "      <td>1125.450000</td>\n",
       "      <td>1095.459130</td>\n",
       "    </tr>\n",
       "    <tr>\n",
       "      <th>75%</th>\n",
       "      <td>27.000000</td>\n",
       "      <td>1987.000000</td>\n",
       "      <td>22.200000</td>\n",
       "      <td>26.825000</td>\n",
       "      <td>31.400000</td>\n",
       "      <td>50.200000</td>\n",
       "      <td>97.725000</td>\n",
       "      <td>306.150000</td>\n",
       "      <td>418.225000</td>\n",
       "      <td>378.950000</td>\n",
       "      <td>266.400000</td>\n",
       "      <td>148.700000</td>\n",
       "      <td>46.500000</td>\n",
       "      <td>17.700000</td>\n",
       "      <td>1667.200000</td>\n",
       "      <td>1490.487826</td>\n",
       "    </tr>\n",
       "    <tr>\n",
       "      <th>max</th>\n",
       "      <td>35.000000</td>\n",
       "      <td>2015.000000</td>\n",
       "      <td>583.700000</td>\n",
       "      <td>403.500000</td>\n",
       "      <td>605.600000</td>\n",
       "      <td>595.100000</td>\n",
       "      <td>1168.600000</td>\n",
       "      <td>1609.900000</td>\n",
       "      <td>2362.800000</td>\n",
       "      <td>1664.600000</td>\n",
       "      <td>1222.000000</td>\n",
       "      <td>948.300000</td>\n",
       "      <td>648.900000</td>\n",
       "      <td>617.500000</td>\n",
       "      <td>6331.100000</td>\n",
       "      <td>3418.857143</td>\n",
       "    </tr>\n",
       "  </tbody>\n",
       "</table>\n",
       "</div>"
      ],
      "text/plain": [
       "       SUBDIVISION         YEAR          JAN          FEB          MAR  \\\n",
       "count  4116.000000  4116.000000  4116.000000  4116.000000  4116.000000   \n",
       "mean     17.593294  1958.218659    18.990051    21.809836    27.365706   \n",
       "std      10.344106    33.140898    33.585447    35.896784    46.925485   \n",
       "min       0.000000  1901.000000     0.000000     0.000000     0.000000   \n",
       "25%       9.000000  1930.000000     0.600000     0.600000     1.000000   \n",
       "50%      18.000000  1958.000000     6.000000     6.700000     7.900000   \n",
       "75%      27.000000  1987.000000    22.200000    26.825000    31.400000   \n",
       "max      35.000000  2015.000000   583.700000   403.500000   605.600000   \n",
       "\n",
       "               APR          MAY          JUN          JUL          AUG  \\\n",
       "count  4116.000000  4116.000000  4116.000000  4116.000000  4116.000000   \n",
       "mean     43.155708    85.943166   230.527625   347.304178   290.370187   \n",
       "std      67.804255   123.407435   234.718751   269.319112   188.709721   \n",
       "min       0.000000     0.000000     0.400000     0.000000     0.000000   \n",
       "25%       3.000000     8.600000    70.475000   175.900000   156.150000   \n",
       "50%      15.700000    36.700000   138.900000   284.900000   259.500000   \n",
       "75%      50.200000    97.725000   306.150000   418.225000   378.950000   \n",
       "max     595.100000  1168.600000  1609.900000  2362.800000  1664.600000   \n",
       "\n",
       "               SEP          OCT          NOV          DEC       ANNUAL  \\\n",
       "count  4116.000000  4116.000000  4116.000000  4116.000000  4116.000000   \n",
       "mean    197.714867    95.838230    40.384302    19.196805  1420.587907   \n",
       "std     135.624617    99.757827    69.320172    42.831405   908.963454   \n",
       "min       0.100000     0.000000     0.000000     0.000000    62.300000   \n",
       "25%     100.600000    14.600000     0.700000     0.100000   806.450000   \n",
       "50%     174.100000    65.750000     9.700000     3.100000  1125.450000   \n",
       "75%     266.400000   148.700000    46.500000    17.700000  1667.200000   \n",
       "max    1222.000000   948.300000   648.900000   617.500000  6331.100000   \n",
       "\n",
       "       MEAN ANNUAL  \n",
       "count  4116.000000  \n",
       "mean   1416.933038  \n",
       "std     856.290787  \n",
       "min     292.673043  \n",
       "25%     827.114783  \n",
       "50%    1095.459130  \n",
       "75%    1490.487826  \n",
       "max    3418.857143  "
      ]
     },
     "execution_count": 237,
     "metadata": {},
     "output_type": "execute_result"
    }
   ],
   "source": [
    "x.describe()"
   ]
  },
  {
   "cell_type": "code",
   "execution_count": 240,
   "id": "bddcc427",
   "metadata": {},
   "outputs": [
    {
     "data": {
      "text/plain": [
       "pandas.core.frame.DataFrame"
      ]
     },
     "execution_count": 240,
     "metadata": {},
     "output_type": "execute_result"
    }
   ],
   "source": [
    "type(x)"
   ]
  },
  {
   "cell_type": "code",
   "execution_count": null,
   "id": "76d9210e",
   "metadata": {},
   "outputs": [],
   "source": []
  },
  {
   "cell_type": "code",
   "execution_count": 276,
   "id": "f92c7ace",
   "metadata": {},
   "outputs": [
    {
     "data": {
      "image/png": "[encoded data removed]",
      "text/plain": [
       "<Figure size 576x432 with 1 Axes>"
      ]
     },
     "metadata": {
      "needs_background": "light"
     },
     "output_type": "display_data"
    }
   ],
   "source": [
    "import numpy as np\n",
    "import matplotlib.pyplot as plt\n",
    "  \n",
    "# Generating some random data\n",
    "# for an example\n",
    "data = np.random.normal(170, 10, 250)\n",
    "  \n",
    "# Plotting the histogram.\n",
    "plt.figure(figsize=(8,6))\n",
    "plt.hist(data, bins=15, density=True, alpha=0.6, color='b')\n",
    "plt.title('Histogram before standardization')  \n",
    "plt.show()"
   ]
  },
  {
   "cell_type": "code",
   "execution_count": 277,
   "id": "76aafabb",
   "metadata": {},
   "outputs": [],
   "source": [
    "# The data are skewly distributed, hence it is to be standardized "
   ]
  },
  {
   "cell_type": "code",
   "execution_count": 278,
   "id": "ce449c65",
   "metadata": {},
   "outputs": [],
   "source": [
    "from sklearn.preprocessing import StandardScaler\n",
    "scaler = StandardScaler()\n",
    "x_train=scaler.fit_transform(x_train)\n",
    "x_test=scaler.fit_transform(x_test)"
   ]
  },
  {
   "cell_type": "code",
   "execution_count": 279,
   "id": "81ebf0c1",
   "metadata": {},
   "outputs": [],
   "source": [
    "x=pd.DataFrame(x)"
   ]
  },
  {
   "cell_type": "code",
   "execution_count": 280,
   "id": "92881b8b",
   "metadata": {},
   "outputs": [],
   "source": [
    "x=pd.DataFrame(x)"
   ]
  },
  {
   "cell_type": "code",
   "execution_count": 281,
   "id": "6c1270bc",
   "metadata": {},
   "outputs": [
    {
     "data": {
      "image/png": "[encoded data removed]",
      "text/plain": [
       "<Figure size 576x432 with 1 Axes>"
      ]
     },
     "metadata": {
      "needs_background": "light"
     },
     "output_type": "display_data"
    }
   ],
   "source": [
    "# Plotting the histogram.\n",
    "plt.figure(figsize=(8,6))\n",
    "plt.hist(data, bins=15, density=True, alpha=0.6, color='b')\n",
    "plt.title('Histogram after standardization')  \n",
    "plt.show()"
   ]
  },
  {
   "cell_type": "code",
   "execution_count": null,
   "id": "edd5702e",
   "metadata": {},
   "outputs": [],
   "source": []
  },
  {
   "cell_type": "markdown",
   "id": "05a4952e",
   "metadata": {},
   "source": [
    "# Applying standardized feature values to logistic regression model"
   ]
  },
  {
   "cell_type": "code",
   "execution_count": 282,
   "id": "2b638fbf",
   "metadata": {},
   "outputs": [],
   "source": [
    "#Splitting into train and test sample\n",
    "x1_train,x1_test,y_train,y_test=train_test_split(x1,y,random_state=42,test_size=0.2)"
   ]
  },
  {
   "cell_type": "code",
   "execution_count": 283,
   "id": "0f269c7e",
   "metadata": {},
   "outputs": [
    {
     "name": "stdout",
     "output_type": "stream",
     "text": [
      "              precision    recall  f1-score   support\n",
      "\n",
      "           0       0.93      0.88      0.91        77\n",
      "           1       0.91      0.59      0.72        86\n",
      "           2       0.94      0.98      0.96       661\n",
      "\n",
      "    accuracy                           0.93       824\n",
      "   macro avg       0.93      0.82      0.86       824\n",
      "weighted avg       0.93      0.93      0.93       824\n",
      "\n",
      "[[ 68   0   9]\n",
      " [  0  51  35]\n",
      " [  5   5 651]]\n",
      "accuracy is 0.9344660194174758\n"
     ]
    }
   ],
   "source": [
    "lr = LogisticRegression()\n",
    "lr.fit(x_train, y_train)\n",
    "\n",
    "y_pred = lr.predict(x_test)\n",
    "\n",
    "# Summary of the predictions made by the classifier\n",
    "print(classification_report(y_test, y_pred))\n",
    "print(confusion_matrix(y_test, y_pred))\n",
    "\n",
    "# Accuracy score\n",
    "print('accuracy is',accuracy_score(y_pred,y_test))"
   ]
  },
  {
   "cell_type": "code",
   "execution_count": 284,
   "id": "0816948f",
   "metadata": {},
   "outputs": [],
   "source": [
    "#Changing values of n_estimators,max_depth,random_state and criterion to see if performance of model improves\n",
    "\n",
    "rft=RandomForestClassifier(n_estimators=700,max_depth=100, random_state=42, criterion='entropy', max_features='sqrt')"
   ]
  },
  {
   "cell_type": "code",
   "execution_count": 250,
   "id": "f7c1c601",
   "metadata": {},
   "outputs": [],
   "source": [
    "#Fine tuning of hyper parameters"
   ]
  },
  {
   "cell_type": "code",
   "execution_count": 251,
   "id": "9312acc0",
   "metadata": {},
   "outputs": [
    {
     "data": {
      "text/plain": [
       "RandomForestClassifier(criterion='entropy', max_depth=100, max_features='sqrt',\n",
       "                       n_estimators=700, random_state=42)"
      ]
     },
     "execution_count": 251,
     "metadata": {},
     "output_type": "execute_result"
    }
   ],
   "source": [
    "rft.fit(x_train,y_train)"
   ]
  },
  {
   "cell_type": "code",
   "execution_count": 252,
   "id": "7d4cbab3",
   "metadata": {},
   "outputs": [
    {
     "data": {
      "text/plain": [
       "0.8622700448494036"
      ]
     },
     "execution_count": 252,
     "metadata": {},
     "output_type": "execute_result"
    }
   ],
   "source": [
    "y_pred=rft.predict(x_test)\n",
    "f1_score(y_test,y_pred,average='weighted')"
   ]
  },
  {
   "cell_type": "markdown",
   "id": "90dc480b",
   "metadata": {},
   "source": [
    "Inference: By changing few of hyperparameters like n_estimators=850,max_depth=100, random_state=42, criterion='entropy', max_features='sqrt',there is no increase in accuracy"
   ]
  },
  {
   "cell_type": "code",
   "execution_count": null,
   "id": "4a915e22",
   "metadata": {},
   "outputs": [],
   "source": []
  }
 ],
 "metadata": {
  "kernelspec": {
   "display_name": "Python 3",
   "language": "python",
   "name": "python3"
  },
  "language_info": {
   "codemirror_mode": {
    "name": "ipython",
    "version": 3
   },
   "file_extension": ".py",
   "mimetype": "text/x-python",
   "name": "python",
   "nbconvert_exporter": "python",
   "pygments_lexer": "ipython3",
   "version": "3.8.8"
  }
 },
 "nbformat": 4,
 "nbformat_minor": 5
}
